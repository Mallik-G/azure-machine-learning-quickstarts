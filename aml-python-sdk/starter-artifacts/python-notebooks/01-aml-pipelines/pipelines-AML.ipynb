{
 "cells": [
  {
   "cell_type": "markdown",
   "metadata": {},
   "source": [
    "# Azure Machine Learning Pipelines\n",
    "\n",
    "The goal of this lab is to build a pipeline that demonstrate the basic data science workflow of data preparation, model training, and predictions. Azure Machine Learning, allows you to define distinct steps and make it possible to rerun only the steps you need as you tweak and test your workflow.\n",
    "\n",
    "In this lab, we will develop a Car Battery Life prediction model using pandas and scikit-learn libraries. The work will be divided into 3 main pipeline steps: (1) preprocess the features, (2) train the model, and (3) make predictions. The preprocess step code will be also reused in the pipeline to make predictions on the test data. Thus you can centralize all your logic for preprocessing data for both train and test.\n",
    "\n",
    "Using the pipeline steps, we will build and run two pipelines: (1) preprocess training data and train the model, and (2) preprocess the test data and make predictions using the trained model. Each of these pipelines is going to have implicit data dependencies and the example will demonstrate how AML make it possible to reuse previously completed steps and run only the modified or new steps in your pipeline.\n",
    "\n",
    "**The pipelines will be run on the Azure Machine Learning compute.**"
   ]
  },
  {
   "cell_type": "markdown",
   "metadata": {},
   "source": [
    "### Azure Machine Learning and Pipeline SDK-specific Imports"
   ]
  },
  {
   "cell_type": "code",
   "execution_count": null,
   "metadata": {},
   "outputs": [],
   "source": [
    "import numpy as np\n",
    "import azureml.core\n",
    "from azureml.core import Workspace, Experiment, Datastore\n",
    "from azureml.data.azure_storage_datastore import AzureBlobDatastore\n",
    "from azureml.core.compute import AmlCompute\n",
    "from azureml.core.compute import ComputeTarget\n",
    "from azureml.widgets import RunDetails\n",
    "\n",
    "# Check core SDK version number\n",
    "print(\"SDK version:\", azureml.core.VERSION)\n",
    "\n",
    "from azureml.data.data_reference import DataReference\n",
    "from azureml.pipeline.core import Pipeline, PipelineData\n",
    "from azureml.pipeline.steps import PythonScriptStep\n",
    "print(\"Pipeline SDK-specific imports completed\")"
   ]
  },
  {
   "cell_type": "markdown",
   "metadata": {},
   "source": [
    "### Setup\n",
    "To begin, you will need to provide the following information about your Azure Subscription. \n",
    "\n",
    "In the following cell, be sure to set the values for `subscription_id`, `resource_group`, `workspace_name` and `workspace_region` as directed by the comments (*these values can be acquired from the Azure Portal*).\n",
    "\n",
    "**Be sure to replace XXXXX in the values below with your unique identifier.**\n",
    "\n",
    "To get these values, do the following:\n",
    "1. Navigate to the Azure Portal and login with the credentials provided.\n",
    "2. From the left hand menu, under Favorites, select `Resource Groups`.\n",
    "3. In the list, select the resource group with the name similar to `XXXXX`.\n",
    "4. From the Overview tab, capture the desired values.\n",
    "\n",
    "Execute the following cell by selecting the `>|Run` button in the command bar above."
   ]
  },
  {
   "cell_type": "code",
   "execution_count": null,
   "metadata": {},
   "outputs": [],
   "source": [
    "#Provide the Subscription ID of your existing Azure subscription\n",
    "subscription_id = \"xxx-xxx-xxx\"\n",
    "\n",
    "#Provide values for the existing Resource Group \n",
    "resource_group = \"Pipelines-Lablet\"\n",
    "\n",
    "#Provide the Workspace Name and Azure Region of the Azure Machine Learning Workspace\n",
    "workspace_name = \"pipelines-workspace\"\n",
    "workspace_region = \"eastus\"\n",
    "\n",
    "# project folder for the script files\n",
    "project_folder = '.'"
   ]
  },
  {
   "cell_type": "markdown",
   "metadata": {},
   "source": [
    "### Create and connect to an Azure Machine Learning Workspace\n",
    "\n",
    "Run the following cell to create a new Azure Machine Learning **Workspace** and save the configuration to disk (next to the Jupyter notebook). \n",
    "\n",
    "**Important Note**: You will be prompted to login in the text that is output below the cell. Be sure to navigate to the URL displayed and enter the code that is provided. Once you have entered the code, return to this notebook and wait for the output to read `Workspace configuration succeeded`."
   ]
  },
  {
   "cell_type": "code",
   "execution_count": null,
   "metadata": {},
   "outputs": [],
   "source": [
    "# By using the exist_ok param, if the worskpace already exists you get a reference to the existing workspace\n",
    "# allowing you to re-run this cell multiple times as desired (which is fairly common in notebooks).\n",
    "ws = Workspace.create(\n",
    "    name = workspace_name,\n",
    "    subscription_id = subscription_id,\n",
    "    resource_group = resource_group, \n",
    "    location = workspace_region,\n",
    "    exist_ok = True)\n",
    "\n",
    "ws.write_config()\n",
    "print('Workspace configuration succeeded')"
   ]
  },
  {
   "cell_type": "markdown",
   "metadata": {},
   "source": [
    "### Create AML Compute Cluster\n",
    "\n",
    "Azure Machine Learning Compute is a service for provisioning and managing clusters of Azure virtual machines for running machine learning workloads. Let's create a new Aml Compute in the current workspace, if it doesn't already exist. We will run all our pipelines on this compute target."
   ]
  },
  {
   "cell_type": "code",
   "execution_count": null,
   "metadata": {},
   "outputs": [],
   "source": [
    "from azureml.core.compute_target import ComputeTargetException\n",
    "\n",
    "aml_compute_target = \"aml-compute\"\n",
    "try:\n",
    "    aml_compute = AmlCompute(ws, aml_compute_target)\n",
    "    print(\"found existing compute target.\")\n",
    "except ComputeTargetException:\n",
    "    print(\"creating new compute target\")\n",
    "    \n",
    "    provisioning_config = AmlCompute.provisioning_configuration(vm_size = \"STANDARD_D2_V2\",\n",
    "                                                                min_nodes = 1, \n",
    "                                                                max_nodes = 1)    \n",
    "    aml_compute = ComputeTarget.create(ws, aml_compute_target, provisioning_config)\n",
    "    aml_compute.wait_for_completion(show_output=True, min_node_count=None, timeout_in_minutes=20)\n",
    "    \n",
    "print(\"Aml Compute attached\")"
   ]
  },
  {
   "cell_type": "markdown",
   "metadata": {},
   "source": [
    "### Create the Run Configuration"
   ]
  },
  {
   "cell_type": "code",
   "execution_count": null,
   "metadata": {},
   "outputs": [],
   "source": [
    "from azureml.core.runconfig import RunConfiguration\n",
    "from azureml.core.conda_dependencies import CondaDependencies\n",
    "from azureml.core.runconfig import DEFAULT_CPU_IMAGE\n",
    "\n",
    "# Create a new runconfig object\n",
    "run_amlcompute = RunConfiguration()\n",
    "\n",
    "# Use the cpu_cluster you created above. \n",
    "run_amlcompute.target = aml_compute_target\n",
    "\n",
    "# Enable Docker\n",
    "run_amlcompute.environment.docker.enabled = True\n",
    "\n",
    "# Set Docker base image to the default CPU-based image\n",
    "run_amlcompute.environment.docker.base_image = DEFAULT_CPU_IMAGE\n",
    "\n",
    "# Use conda_dependencies.yml to create a conda environment in the Docker image for execution\n",
    "run_amlcompute.environment.python.user_managed_dependencies = False\n",
    "\n",
    "# Auto-prepare the Docker image when used for execution (if it is not already prepared)\n",
    "run_amlcompute.auto_prepare_environment = True\n",
    "\n",
    "# Specify CondaDependencies obj, add necessary packages\n",
    "run_amlcompute.environment.python.conda_dependencies = CondaDependencies.create(pip_packages=[\n",
    "    'scikit-learn',\n",
    "    'numpy',\n",
    "    'pandas'\n",
    "])"
   ]
  },
  {
   "cell_type": "markdown",
   "metadata": {},
   "source": [
    "### The Process Training Data Pipeline Step"
   ]
  },
  {
   "cell_type": "markdown",
   "metadata": {},
   "source": [
    "The process training data step in the pipeline takes raw training data as input. This data can be a data source that lives in one of the accessible data locations, or intermediate data produced by a previous step in the pipeline. In this example we will upload the raw training data in the workspace's default blob store. Run the following two cells at the end of which we will create a **DataReference** object that points to the raw training data *csv* file stored in the default blob store."
   ]
  },
  {
   "cell_type": "code",
   "execution_count": null,
   "metadata": {},
   "outputs": [],
   "source": [
    "# Default datastore (Azure file storage)\n",
    "def_file_store = ws.get_default_datastore() \n",
    "print(\"Default datastore's name: {}\".format(def_file_store.name))\n",
    "def_blob_store = Datastore(ws, \"workspaceblobstore\")\n",
    "print(\"Blobstore's name: {}\".format(def_blob_store.name))"
   ]
  },
  {
   "cell_type": "code",
   "execution_count": null,
   "metadata": {},
   "outputs": [],
   "source": [
    "import urllib.request\n",
    "import os\n",
    "\n",
    "data_url = \"https://databricksdemostore.blob.core.windows.net/data/connected-car/training-formatted.csv\"\n",
    "\n",
    "# Download the raw training data to your local disk\n",
    "os.makedirs('./train_data', exist_ok=True)\n",
    "urllib.request.urlretrieve(data_url, \"./train_data/training-raw.csv\")\n",
    "\n",
    "# Upload the raw training data to the blob storage\n",
    "def_blob_store.upload(src_dir='./train_data', \n",
    "                      target_path='battery-life-raw-features', \n",
    "                      overwrite=True, \n",
    "                      show_progress=True)\n",
    "\n",
    "raw_train_data = DataReference(datastore=def_blob_store, \n",
    "                                      data_reference_name=\"battery_life_raw_data\", \n",
    "                                      path_on_datastore=\"battery-life-raw-features/training-raw.csv\")\n",
    "print(\"DataReference object created\")"
   ]
  },
  {
   "cell_type": "markdown",
   "metadata": {},
   "source": [
    "### Create the Process Training Data Pipeline Step"
   ]
  },
  {
   "cell_type": "markdown",
   "metadata": {},
   "source": [
    "The intermediate data (or output of a Step) is represented by PipelineData object. PipelineData can be produced by one step and consumed in another step by providing the PipelineData object as an output of one step and the input of one or more steps.\n",
    "\n",
    "**Constructing PipelineData**\n",
    "* name: *Required* Name of the data item within the pipeline graph\n",
    "* datastore_name: Name of the Datastore to write this output to\n",
    "* output_name: Name of the output\n",
    "* output_mode: Specifies \"upload\" or \"mount\" modes for producing output (default: mount)\n",
    "* output_path_on_compute: For \"upload\" mode, the path to which the module writes this output during execution\n",
    "* output_overwrite: Flag to overwrite pre-existing data\n",
    "\n",
    "The process training data pipeline step takes the raw_train_data DataReference object as input, and it will output two intermediate PipelineData objects: (1) preprocessor's the step created to process the train data and (2) the processed training data files. Review and run the cell below to construct the PipelineData objects and the PythonScriptStep pipeline step:\n",
    "\n",
    "*Open preprocess.py in the local machine and examine the arguments, inputs, and outputs for the script. Note that there is an argument called process_mode to distinguish between processing training data vs test data. Reviewing the Python script file will give you a good sense of why the script argument names used below are important.*"
   ]
  },
  {
   "cell_type": "code",
   "execution_count": null,
   "metadata": {},
   "outputs": [],
   "source": [
    "preprocessors = PipelineData('preprocessors', datastore=def_blob_store)\n",
    "processed_train_data = PipelineData('processed_train_data', datastore=def_blob_store)\n",
    "print(\"PipelineData object created\")\n",
    "\n",
    "processTrainDataStep = PythonScriptStep(\n",
    "    name=\"process_train_data\",\n",
    "    script_name=\"preprocess.py\", \n",
    "    arguments=[\"--process_mode\", 'train',\n",
    "               \"--input\", raw_train_data,\n",
    "               \"--preprocessors\", preprocessors,\n",
    "               \"--output\", processed_train_data],\n",
    "    inputs=[raw_train_data],\n",
    "    outputs=[preprocessors, processed_train_data],\n",
    "    compute_target=aml_compute,\n",
    "    runconfig=run_amlcompute,\n",
    "    source_directory=project_folder\n",
    ")\n",
    "print(\"preprocessStep created\")"
   ]
  },
  {
   "cell_type": "markdown",
   "metadata": {},
   "source": [
    "### Create the Train Pipeline Step"
   ]
  },
  {
   "cell_type": "markdown",
   "metadata": {},
   "source": [
    "The train pipeline step takes the *processed_train_data* created in the above step as input and generates another PipelineData object to save the *trained_model* as its output. This is an example of how machine learning pipelines can have many steps and these steps could use or reuse datasources and intermediate data.\n",
    "\n",
    "*Open train.py in the local machine and examine the arguments, inputs, and outputs for the script.*"
   ]
  },
  {
   "cell_type": "code",
   "execution_count": null,
   "metadata": {},
   "outputs": [],
   "source": [
    "trained_model = PipelineData('trained_model', datastore=def_blob_store)\n",
    "print(\"PipelineData object created\")\n",
    "\n",
    "trainStep = PythonScriptStep(\n",
    "    name=\"train\",\n",
    "    script_name=\"train.py\", \n",
    "    arguments=[\"--input\", processed_train_data, \"--output\", trained_model],\n",
    "    inputs=[processed_train_data],\n",
    "    outputs=[trained_model],\n",
    "    compute_target=aml_compute,\n",
    "    runconfig=run_amlcompute,\n",
    "    source_directory=project_folder\n",
    ")\n",
    "print(\"trainStep created\")"
   ]
  },
  {
   "cell_type": "markdown",
   "metadata": {},
   "source": [
    "### Create and Validate the Pipeline\n",
    "\n",
    "Note that the *trainStep* has implicit data dependency with the *processTrainDataStep* and thus you only include the *trainStep* in your Pipeline object. You will observe that when you run the pipeline that it will first run the **processTrainDataStep** followed by the **trainStep**."
   ]
  },
  {
   "cell_type": "code",
   "execution_count": null,
   "metadata": {},
   "outputs": [],
   "source": [
    "pipeline = Pipeline(workspace=ws, steps=[trainStep])\n",
    "print (\"Pipeline is built\")\n",
    "\n",
    "pipeline.validate()\n",
    "print(\"Simple validation complete\")"
   ]
  },
  {
   "cell_type": "markdown",
   "metadata": {},
   "source": [
    "### Submit the Pipeline\n",
    "\n",
    "At this point you can run the pipeline and examine the output it produced."
   ]
  },
  {
   "cell_type": "code",
   "execution_count": null,
   "metadata": {},
   "outputs": [],
   "source": [
    "pipeline_run = Experiment(ws, 'Sample-ML-Pipeline').submit(pipeline)\n",
    "print(\"Pipeline is submitted for execution\")"
   ]
  },
  {
   "cell_type": "markdown",
   "metadata": {},
   "source": [
    "### Monitor the Run Details\n",
    "\n",
    "Observe the order in which the pipeline steps are executed: **processTrainDataStep** followed by the **trainStep**"
   ]
  },
  {
   "cell_type": "code",
   "execution_count": null,
   "metadata": {},
   "outputs": [],
   "source": [
    "RunDetails(pipeline_run).show()"
   ]
  },
  {
   "cell_type": "markdown",
   "metadata": {},
   "source": [
    "## Make Predictions on Test Data"
   ]
  },
  {
   "cell_type": "markdown",
   "metadata": {},
   "source": [
    "### Create the Raw Test Data DataReference Object\n",
    "\n",
    "Upload the raw test data in the default blob store and create the **DataReference** object for the raw test data."
   ]
  },
  {
   "cell_type": "code",
   "execution_count": null,
   "metadata": {},
   "outputs": [],
   "source": [
    "test_data_url = \"https://databricksdemostore.blob.core.windows.net/data/connected-car/fleet-formatted.csv\"\n",
    "\n",
    "# Download the raw training data to your local disk\n",
    "os.makedirs('./test_data', exist_ok=True)\n",
    "urllib.request.urlretrieve(test_data_url, \"./test_data/test-raw.csv\")\n",
    "\n",
    "# Upload the raw test data to the blob storage\n",
    "def_blob_store.upload(src_dir='./test_data', \n",
    "                      target_path='battery-life-raw-features', \n",
    "                      overwrite=True, \n",
    "                      show_progress=True)\n",
    "\n",
    "raw_test_data = DataReference(datastore=def_blob_store, \n",
    "                                      data_reference_name=\"battery_life_raw_test_data\", \n",
    "                                      path_on_datastore=\"battery-life-raw-features/test-raw.csv\")\n",
    "print(\"DataReference object created\")"
   ]
  },
  {
   "cell_type": "markdown",
   "metadata": {},
   "source": [
    "### Create the Process Test Data Pipeline Step"
   ]
  },
  {
   "cell_type": "markdown",
   "metadata": {},
   "source": [
    "Similar to the process train data pipeline step, we create a new step for processing the test data. Note that it is the same script file *preprocess.py* that is used to process both the train and test data. Thus, you can centralize all your logic for preprocessing data for both train and test. The key differences here are: (1) the process_mode is set to *inference*, and (2) the *preprocessors* PipelineData object created during the process train data pipeline step is now an input to this step.\n",
    "\n",
    "*Open preprocess.py in the local machine and examine the arguments, inputs, and outputs for the script. Note that there is an argument called process_mode to distinguish between processing training data vs test data. Reviewing the Python script file will give you a good sense of why the script argument names used below are important.*"
   ]
  },
  {
   "cell_type": "code",
   "execution_count": null,
   "metadata": {},
   "outputs": [],
   "source": [
    "processed_test_data = PipelineData('processed_test_data', datastore=def_blob_store)\n",
    "print(\"PipelineData object created\")\n",
    "\n",
    "processTestDataStep = PythonScriptStep(\n",
    "    name=\"process_test_data\",\n",
    "    script_name=\"preprocess.py\", \n",
    "    arguments=[\"--process_mode\", 'inference',\n",
    "               \"--input\", raw_test_data,\n",
    "               \"--preprocessors\", preprocessors,\n",
    "               \"--output\", processed_test_data],\n",
    "    inputs=[raw_test_data, preprocessors],\n",
    "    outputs=[processed_test_data],\n",
    "    compute_target=aml_compute,\n",
    "    runconfig=run_amlcompute,\n",
    "    source_directory=project_folder\n",
    ")\n",
    "print(\"preprocessStep created\")"
   ]
  },
  {
   "cell_type": "markdown",
   "metadata": {},
   "source": [
    "### Create the Inference Pipeline Step to Make Predictions"
   ]
  },
  {
   "cell_type": "markdown",
   "metadata": {},
   "source": [
    "The inference pipeline step takes the *processed_test_data* created in the above step and the *trained_model* created in the train step as two inputs and generates *inference_output* as its output. This is yet another example of how machine learning pipelines can have many steps and these steps could use or reuse datasources and intermediate data.\n",
    "\n",
    "*Open inference.py in the local machine and examine the arguments, inputs, and outputs for the script.*"
   ]
  },
  {
   "cell_type": "code",
   "execution_count": null,
   "metadata": {},
   "outputs": [],
   "source": [
    "inference_output = PipelineData('inference_output', datastore=def_blob_store)\n",
    "print(\"PipelineData object created\")\n",
    "\n",
    "inferenceStep = PythonScriptStep(\n",
    "    name=\"inference\",\n",
    "    script_name=\"inference.py\", \n",
    "    arguments=[\"--input\", processed_test_data,\n",
    "               \"--model\", trained_model,\n",
    "               \"--output\", inference_output],\n",
    "    inputs=[processed_test_data, trained_model],\n",
    "    outputs=[inference_output],\n",
    "    compute_target=aml_compute,\n",
    "    runconfig=run_amlcompute,\n",
    "    source_directory=project_folder\n",
    ")\n",
    "print(\"inferenceStep created\")"
   ]
  },
  {
   "cell_type": "markdown",
   "metadata": {},
   "source": [
    "### Create and Validate the Pipeline\n",
    "\n",
    "Note that the *inferenceStep* has implicit data dependency with **ALL** of the previous pipeline steps."
   ]
  },
  {
   "cell_type": "code",
   "execution_count": null,
   "metadata": {},
   "outputs": [],
   "source": [
    "inference_pipeline = Pipeline(workspace=ws, steps=[inferenceStep])\n",
    "print (\"Inference Pipeline is built\")\n",
    "\n",
    "inference_pipeline.validate()\n",
    "print(\"Simple validation complete\")"
   ]
  },
  {
   "cell_type": "markdown",
   "metadata": {},
   "source": [
    "### Submit the Pipeline\n",
    "\n",
    "At this point you can run the pipeline and examine the output it produced. This pipeline will reuse the previous run's output for both the **process_train_data** and **train** pipeline steps.\n",
    "\n",
    "**This example demonstrates how AML make it possible to reuse previously completed steps and run only the modified or new steps in your pipeline.**"
   ]
  },
  {
   "cell_type": "code",
   "execution_count": null,
   "metadata": {},
   "outputs": [],
   "source": [
    "inference_pipeline_run = Experiment(ws, 'Sample-ML-Pipeline').submit(inference_pipeline)\n",
    "print(\"Inference pipeline is submitted for execution\")"
   ]
  },
  {
   "cell_type": "markdown",
   "metadata": {},
   "source": [
    "### Monitor the Run Details\n",
    "\n",
    "Observe the order in which the pipeline steps are executed based on their implicit data dependencies."
   ]
  },
  {
   "cell_type": "code",
   "execution_count": null,
   "metadata": {},
   "outputs": [],
   "source": [
    "RunDetails(inference_pipeline_run).show()"
   ]
  },
  {
   "cell_type": "markdown",
   "metadata": {},
   "source": [
    "### Download and Observe the Predictions"
   ]
  },
  {
   "cell_type": "code",
   "execution_count": null,
   "metadata": {},
   "outputs": [],
   "source": [
    "# access the inference_output\n",
    "data = inference_pipeline_run.find_step_run('inference')[0].get_output_data('inference_output')\n",
    "# download the predictions to local path\n",
    "data.download('.', show_progress=True)\n",
    "# print the predictions\n",
    "predictions = np.loadtxt(os.path.join('./', data.path_on_datastore, 'results.txt'))\n",
    "print(predictions)"
   ]
  },
  {
   "cell_type": "code",
   "execution_count": null,
   "metadata": {},
   "outputs": [],
   "source": []
  }
 ],
 "metadata": {
  "kernelspec": {
   "display_name": "Python (azure_automl)",
   "language": "python",
   "name": "azure_automl"
  },
  "language_info": {
   "codemirror_mode": {
    "name": "ipython",
    "version": 3
   },
   "file_extension": ".py",
   "mimetype": "text/x-python",
   "name": "python",
   "nbconvert_exporter": "python",
   "pygments_lexer": "ipython3",
   "version": "3.6.7"
  }
 },
 "nbformat": 4,
 "nbformat_minor": 2
}
