{
  "cells": [
    {
      "metadata": {},
      "cell_type": "markdown",
      "source": "# Train a deep learning model\nIn this notebook you will train a deep learning model to classify the descriptions of car components as compliant or non-compliant. \n\nEach document in the supplied training data set is a short text description of the component as documented by an authorized technician. \nThe contents include:\n- Manufacture year of the component (e.g. 1985, 2010)\n- Condition of the component (poor, fair, good, new)\n- Materials used in the component (plastic, carbon fiber, steel, iron)\n\nThe compliance regulations dictate:\n*Any component manufactured before 1995 or in fair or poor condition or made with plastic or iron is out of compliance.*\n\nFor example:\n* Manufactured in 1985 made of steel in fair condition -> **Non-compliant**\n* Good condition carbon fiber component manufactured in 2010 -> **Compliant**\n* Steel component manufactured in 1995 in fair condition -> **Non-Compliant**\n\nThe labels present in this data are 0 for compliant, 1 for non-compliant.\n\nThe challenge with classifying text data is that deep learning models only undertand vectors (e.g., arrays of numbers) and not text. To encode the car component descriptions as vectors, we use an algorithm from Stanford called [GloVe (Global Vectors for Word Representation)](https://nlp.stanford.edu/projects/glove/). GloVe provides us pre-trained vectors that we can use to convert a string of text into a vector. "
    },
    {
      "metadata": {},
      "cell_type": "markdown",
      "source": "# Create the Azure Machine Learning resources"
    },
    {
      "metadata": {},
      "cell_type": "markdown",
      "source": "The Azure Machine Learning SDK provides a comprehensive set of a capabilities that you can use directly within a notebook including:\n- Creating a **Workspace** that acts as the root object to organize all artifacts and resources used by Azure Machine Learning.\n- Creating **Experiments** in your Workspace that capture versions of the trained model along with any desired model performance telemetry. Each time you train a model and evaluate its results, you can capture that run (model and telemetry) within an Experiment.\n- Creating **Compute** resources that can be used to scale out model training, so that while your notebook may be running in a lightweight container in Azure Notebooks, your model training can actually occur on a powerful cluster that can provide large amounts of memory, CPU or GPU. \n- Using **Automated Machine Learning (AutoML)** to automatically train multiple versions of a model using a mix of different ways to prepare the data and different algorithms and hyperparameters (algorithm settings) in search of the model that performs best according to a performance metric that you specify. \n- Packaging a Docker **Image** that contains everything your trained model needs for scoring (prediction) in order to run as a web service.\n- Deploying your Image to either Azure Kubernetes or Azure Container Instances, effectively hosting the **Web Service**.\n\nIn Azure Notebooks, all of the libraries needed for Azure Machine Learning are pre-installed. To use them, you just need to import them. Run the following cell to do so:"
    },
    {
      "metadata": {
        "trusted": true
      },
      "cell_type": "code",
      "source": "import numpy as np\nimport pandas as pd\nimport os\nimport urllib.request\nimport json\nimport azureml\nfrom azureml.core import Workspace\nfrom azureml.core.model import Model\nimport keras\nfrom keras import models\nfrom keras.models import model_from_json\nfrom keras import layers\nfrom keras import optimizers\nfrom keras.preprocessing.text import Tokenizer\nfrom keras.preprocessing.sequence import pad_sequences\nfrom keras.models import load_model\n\n# Check core SDK version number\nprint(\"SDK version:\", azureml.core.VERSION)",
      "execution_count": 1,
      "outputs": [
        {
          "output_type": "stream",
          "text": "Using TensorFlow backend.\n",
          "name": "stderr"
        },
        {
          "output_type": "stream",
          "text": "SDK version: 1.0.72\n",
          "name": "stdout"
        }
      ]
    },
    {
      "metadata": {},
      "cell_type": "markdown",
      "source": "### Setup\nTo begin, you will need to provide the following information about your Azure Subscription.\n\n**If you are using your own Azure subscription, please provide names for subscription_id, resource_group, workspace_name and workspace_region to use.** Note that the workspace needs to be of type [Machine Learning Workspace](https://docs.microsoft.com/en-us/azure/machine-learning/service/setup-create-workspace).\n\n**If an environment is provided to you be sure to replace XXXXX in the values below with your unique identifier.**\n\nIn the following cell, be sure to set the values for `subscription_id`, `resource_group`, `workspace_name` and `workspace_region` as directed by the comments (*these values can be acquired from the Azure Portal*).\n\nTo get these values, do the following:\n1. Navigate to the Azure Portal and login with the credentials provided.\n2. From the left hand menu, under Favorites, select `Resource Groups`.\n3. In the list, select the resource group with the name similar to `XXXXX`.\n4. From the Overview tab, capture the desired values.\n\nExecute the following cell by selecting the `>|Run` button in the command bar above."
    },
    {
      "metadata": {
        "trusted": true
      },
      "cell_type": "code",
      "source": "#Provide the Subscription ID of your existing Azure subscription\nsubscription_id = \"\" # <- needs to be the subscription with the Quick-Starts resource group\n\n#Provide values for the existing Resource Group \nresource_group = \"Quick-Starts-XXXXX\" # <- replace XXXXX with your unique identifier\n\n#Provide the Workspace Name and Azure Region of the Azure Machine Learning Workspace\nworkspace_name = \"quick-starts-ws-XXXXX\" # <- replace XXXXX with your unique identifier\nworkspace_region = \"eastus\" # <- region of your Quick-Starts resource group",
      "execution_count": 2,
      "outputs": []
    },
    {
      "metadata": {
        "trusted": true
      },
      "cell_type": "code",
      "source": "deployment_folder = 'deploy'\nonnx_export_folder = 'onnx'\n\n# this is the URL to the CSV file containing the GloVe vectors\nglove_url = ('https://quickstartsws9073123377.blob.core.windows.net/'\n             'azureml-blobstore-0d1c4218-a5f9-418b-bf55-902b65277b85/'\n             'quickstarts/connected-car-data/glove.6B.100d.txt')\n\n# this is the URL to the CSV file containing the care component descriptions\ndata_url = ('https://quickstartsws9073123377.blob.core.windows.net/'\n            'azureml-blobstore-0d1c4218-a5f9-418b-bf55-902b65277b85/'\n            'quickstarts/connected-car-data/connected-car_components.csv')",
      "execution_count": 4,
      "outputs": []
    },
    {
      "metadata": {
        "trusted": true
      },
      "cell_type": "code",
      "source": "# Load the car components labeled data\ncar_components_df = pd.read_csv(data_url)\ncomponents = car_components_df[\"text\"].tolist()\nlabels = car_components_df[\"label\"].tolist()",
      "execution_count": 5,
      "outputs": []
    },
    {
      "metadata": {
        "trusted": true
      },
      "cell_type": "code",
      "source": "maxlen = 100                                           \ntraining_samples = 90000                                 \nvalidation_samples = 5000    \nmax_words = 10000      \n\ntokenizer = Tokenizer(num_words=max_words)\ntokenizer.fit_on_texts(components)\nsequences = tokenizer.texts_to_sequences(components)\n\nword_index = tokenizer.word_index\nprint('Found %s unique tokens.' % len(word_index))\n\ndata = pad_sequences(sequences, maxlen=maxlen)\n\nlabels = np.asarray(labels)\nprint('Shape of data tensor:', data.shape)\nprint('Shape of label tensor:', labels.shape)\n\nindices = np.arange(data.shape[0])                     \nnp.random.shuffle(indices)\ndata = data[indices]\nlabels = labels[indices]\n\nx_train = data[:training_samples]\ny_train = labels[:training_samples]\n\nx_val = data[training_samples: training_samples + validation_samples]\ny_val = labels[training_samples: training_samples + validation_samples]\n\nx_test = data[training_samples + validation_samples:]\ny_test = labels[training_samples + validation_samples:]",
      "execution_count": 6,
      "outputs": [
        {
          "output_type": "stream",
          "text": "Found 65 unique tokens.\nShape of data tensor: (100000, 100)\nShape of label tensor: (100000,)\n",
          "name": "stdout"
        }
      ]
    },
    {
      "metadata": {},
      "cell_type": "markdown",
      "source": "## Restore the model from model.h5 file"
    },
    {
      "metadata": {},
      "cell_type": "markdown",
      "source": "The Keras model is saved in model.h5 file. Load a previously trained Keras model from the local **model** directory and review the model summary."
    },
    {
      "metadata": {
        "trusted": true
      },
      "cell_type": "code",
      "source": "cwd = os.getcwd()\nif cwd.endswith('/deploy'):\n    os.chdir('../')\n\nembedding_dim = 100\nmaxlen = 100                                             \nmax_words = 10000    \n\nfrom keras.models import Sequential\nfrom keras.layers import Embedding, Flatten, Dense\n\nmodel = Sequential()\nmodel.add(Embedding(max_words, embedding_dim, input_length=maxlen))\nmodel.add(Flatten())\nmodel.add(Dense(32, activation='relu'))\nmodel.add(Dense(1, activation='sigmoid'))\n\n# download the pretrained model from the deep learning quickstart\nos.makedirs('./model', exist_ok=True)\nmodel_url = ('https://quickstartsws9073123377.blob.core.windows.net/'\n             'azureml-blobstore-0d1c4218-a5f9-418b-bf55-902b65277b85/'\n             'quickstarts/dl-trained-model/model.h5')\nurllib.request.urlretrieve(model_url, os.path.join('./model', 'model.h5'))\n\n# load weights into new model\nmodel.load_weights(os.path.join('./model', 'model.h5'))\nprint(\"Model loaded from disk.\")\nprint(model.summary())",
      "execution_count": 7,
      "outputs": [
        {
          "output_type": "stream",
          "text": "WARNING - From /home/nbuser/anaconda3_501/lib/python3.6/site-packages/tensorflow/python/ops/resource_variable_ops.py:435: colocate_with (from tensorflow.python.framework.ops) is deprecated and will be removed in a future version.\nInstructions for updating:\nColocations handled automatically by placer.\n",
          "name": "stderr"
        },
        {
          "output_type": "stream",
          "text": "Model loaded from disk.\nModel: \"sequential_1\"\n_________________________________________________________________\nLayer (type)                 Output Shape              Param #   \n=================================================================\nembedding_1 (Embedding)      (None, 100, 100)          1000000   \n_________________________________________________________________\nflatten_1 (Flatten)          (None, 10000)             0         \n_________________________________________________________________\ndense_1 (Dense)              (None, 32)                320032    \n_________________________________________________________________\ndense_2 (Dense)              (None, 1)                 33        \n=================================================================\nTotal params: 1,320,065\nTrainable params: 1,320,065\nNon-trainable params: 0\n_________________________________________________________________\nNone\n",
          "name": "stdout"
        }
      ]
    },
    {
      "metadata": {},
      "cell_type": "markdown",
      "source": "# Converting a Keras model to ONNX\nIn the steps that follow, you will convert Keras model you just trained to the ONNX format. This will enable you to use this model for classification in a very broad range of environments, outside of Azure Databricks including:\n\n- Web services \n- iOS and Android mobile apps\n- Windows apps\n- IoT devices\n\nConvert the model to ONNX by running the following cell."
    },
    {
      "metadata": {
        "trusted": true
      },
      "cell_type": "code",
      "source": "import onnxmltools\n\n# Convert the Keras model to ONNX\nonnx_model_name = 'component_compliance.onnx'\nconverted_model = onnxmltools.convert_keras(model, onnx_model_name, target_opset=7)\n\n# Save the model locally...\nonnx_model_path = os.path.join(deployment_folder, onnx_export_folder)\nos.makedirs(onnx_model_path, exist_ok=True)\nonnxmltools.utils.save_model(converted_model, os.path.join(onnx_model_path,onnx_model_name))",
      "execution_count": 8,
      "outputs": []
    },
    {
      "metadata": {},
      "cell_type": "markdown",
      "source": "The above cell created a new file called `component_compliance.onnx` that contains the ONNX version of the model."
    },
    {
      "metadata": {},
      "cell_type": "markdown",
      "source": "Now try using this ONNX model to classify a component description by running the following cell. Remeber the prediction will be a value close to 0 (non-compliant) or to 1 (compliant)."
    },
    {
      "metadata": {},
      "cell_type": "markdown",
      "source": "# Compare ONNX Inference Performace with Keras\n\nCreate an onnxruntime InferenceSession and observe the expected input shape for inference. Classify a sample data from test set using both ONNX and Keras. Remeber the prediction will be a value close to 0 (non-compliant) or to 1 (compliant).\n\nNext, we will evaluate the performance of ONNX and Keras by running the same sample 10,000 times. You will observe that ONNX is approximately 10 times faster than Keras in making inferences."
    },
    {
      "metadata": {
        "trusted": true
      },
      "cell_type": "code",
      "source": "import onnxruntime\n# Load the ONNX model and observe the expected input shape\nonnx_session = onnxruntime.InferenceSession(\n    os.path.join(os.path.join(deployment_folder, onnx_export_folder), onnx_model_name))\ninput_name = onnx_session.get_inputs()[0].name\noutput_name = onnx_session.get_outputs()[0].name\nprint('Expected input shape: ', onnx_session.get_inputs()[0].shape)",
      "execution_count": 9,
      "outputs": [
        {
          "output_type": "stream",
          "text": "Expected input shape:  ['None', 100]\n",
          "name": "stdout"
        }
      ]
    },
    {
      "metadata": {
        "trusted": true
      },
      "cell_type": "code",
      "source": "# Grab one sample from the test data set\nx_test_float = np.reshape(x_test[1502].astype(np.float32), (1,100))\n# Confirm that the input shape is same as expected input shape\nprint('Input shape: ', x_test_float.shape)\n\n# Run an ONNX session to classify the sample.\nprint('ONNX prediction: ', onnx_session.run([output_name], {input_name : x_test_float}))\n\n# Use Keras to make predictions on the same sample\nprint('Keras prediction: ', model.predict(x_test_float))\n\n# Next we will compare the performance of ONNX vs Keras\nimport timeit\nn = 10000",
      "execution_count": 10,
      "outputs": [
        {
          "output_type": "stream",
          "text": "Input shape:  (1, 100)\nONNX prediction:  [array([[0.]], dtype=float32)]\nKeras prediction:  [[1.0641008e-11]]\n",
          "name": "stdout"
        }
      ]
    },
    {
      "metadata": {
        "trusted": true
      },
      "cell_type": "code",
      "source": "start_time = timeit.default_timer()\nfor i in range(n):\n    model.predict(x_test_float)\nkeras_elapsed = timeit.default_timer() - start_time\nprint('Keras performance: ', keras_elapsed)",
      "execution_count": 11,
      "outputs": [
        {
          "output_type": "stream",
          "text": "Keras performance:  35.44393690000015\n",
          "name": "stdout"
        }
      ]
    },
    {
      "metadata": {
        "trusted": true
      },
      "cell_type": "code",
      "source": "start_time = timeit.default_timer()\nfor i in range(n):\n    onnx_session.run([output_name], {input_name : x_test_float})\nonnx_elapsed = timeit.default_timer() - start_time\nprint('ONNX performance: ', onnx_elapsed)\nprint('ONNX is about {} times faster than Keras'.format(round(keras_elapsed/onnx_elapsed)))",
      "execution_count": 12,
      "outputs": [
        {
          "output_type": "stream",
          "text": "ONNX performance:  20.050891899999897\nONNX is about 2 times faster than Keras\n",
          "name": "stdout"
        }
      ]
    },
    {
      "metadata": {},
      "cell_type": "markdown",
      "source": "# Deploy Deep Learning ONNX format model as a web service\nTo demonstrate one example of using the ONNX format model in a new environment, you will deploy the ONNX model to a webservice. On the web server, the only component required by the model is the ONNX Runtime, which is used to load the model and use it for scoring. Neither Keras nor TensorFlow are required on the web server.\n\nIn this case, you will use the Azure Machine Learning service SDK to programmatically create a Workspace, register your model, create a container image for the web service that uses it and deploy that image on to an Azure Container Instance."
    },
    {
      "metadata": {},
      "cell_type": "markdown",
      "source": "## Create and connect to an Azure Machine Learning Workspace\n\nRun the following cell to create a new Azure Machine Learning **Workspace**.\n\n**Important Note**: You will be prompted to login in the text that is output below the cell. Be sure to navigate to the URL displayed and enter the code that is provided. Once you have entered the code, return to this notebook and wait for the output to read `Workspace configuration succeeded`."
    },
    {
      "metadata": {
        "trusted": true
      },
      "cell_type": "code",
      "source": "import logging\nlogging.getLogger(\"adal-python\").setLevel(logging.WARN)\n\nws = Workspace.create(name = workspace_name,\n                      subscription_id = subscription_id,\n                      resource_group = resource_group, \n                      location = workspace_region,\n                      exist_ok = True)\n\nprint('Workspace configuration succeeded')",
      "execution_count": 13,
      "outputs": [
        {
          "output_type": "stream",
          "text": "Performing interactive authentication. Please follow the instructions on the terminal.\nTo sign in, use a web browser to open the page https://microsoft.com/devicelogin and enter the code F9CRHARCZ to authenticate.\nInteractive authentication successfully completed.\nWorkspace configuration succeeded\n",
          "name": "stdout"
        }
      ]
    },
    {
      "metadata": {},
      "cell_type": "markdown",
      "source": "## Register Model\n\nAzure Machine Learning provides a Model Registry that acts like a version controlled repository for each of your trained models. To version a model, you use  the SDK as follows. Run the following cell to register the model with Azure Machine Learning. "
    },
    {
      "metadata": {
        "trusted": true
      },
      "cell_type": "code",
      "source": "# notice for the model_path, we supply the name of the outputs folder without a trailing slash\n# this will ensure both the model and the customestimators get uploaded.\nprint(\"Registering and uploading model...\")\nmodel_name = 'component_compliance'\nmodel_description = 'Classify the descriptions of car components as compliant or non-compliant.'\n\nregistered_model = Model.register(model_path=os.path.join(deployment_folder, onnx_export_folder), \n                                  model_name = model_name, \n                                  description = model_description, \n                                  workspace=ws)\n\nprint(\"Model registered: {} \\nModel Description: {} \\nModel Version: {}\".format(registered_model.name, \n                                                                                registered_model.description, \n                                                                                registered_model.version))",
      "execution_count": 14,
      "outputs": [
        {
          "output_type": "stream",
          "text": "Registering and uploading model...\nRegistering model component_compliance\nModel registered: component_compliance \nModel Description: Classify the descriptions of car components as compliant or non-compliant. \nModel Version: 7\n",
          "name": "stdout"
        }
      ]
    },
    {
      "metadata": {},
      "cell_type": "markdown",
      "source": "### Create the Scoring Script\n\nAzure Machine Learning SDK gives you control over the logic of the web service, so that you can define how it retrieves the model and how the model is used for scoring. This is an important bit of flexibility. For example, you often have to prepare any input data before sending it to your model for scoring. You can define this data preparation logic (as well as the model loading approach) in the scoring file. \n\nRun the following cell to create a scoring file that will be included in the Docker Image that contains your deployed web service."
    },
    {
      "metadata": {
        "trusted": true
      },
      "cell_type": "code",
      "source": "%%writefile scoring_service.py\nimport sys\nimport os\nimport json\nimport numpy as np\nimport pandas as pd\nfrom azureml.core.model import Model\nimport onnxruntime\n\ndef init():\n    global model\n    \n    try:\n        model_path = Model.get_model_path('component_compliance')\n        model_file_path = os.path.join(model_path,'component_compliance.onnx')\n        print('Loading model from: ', model_file_path)\n        \n        # Load the ONNX model\n        model = onnxruntime.InferenceSession(model_file_path)\n        print('Model loaded...')\n    except Exception as e:\n        print(e)\n        \n# note you can pass in multiple rows for scoring\ndef run(raw_data):\n    try:\n        print(\"Received input: \", raw_data)\n        \n        input_data = np.array(json.loads(raw_data)).astype(np.float32)\n        \n        # Run an ONNX session to classify the input.\n        result = model.run(None, {model.get_inputs()[0].name:input_data})[0]\n        result = result[0][0].item()\n        \n        # return just the classification index (0 or 1)\n        return result\n    except Exception as e:\n        error = str(e)\n        return error",
      "execution_count": 15,
      "outputs": [
        {
          "output_type": "stream",
          "text": "Writing scoring_service.py\n",
          "name": "stdout"
        }
      ]
    },
    {
      "metadata": {},
      "cell_type": "markdown",
      "source": "## Package Model\n\nRun the next cell to create the deployment **Image**"
    },
    {
      "metadata": {
        "trusted": true
      },
      "cell_type": "code",
      "source": "# create a Conda dependencies environment file\nprint(\"Creating conda dependencies file locally...\")\nfrom azureml.core.conda_dependencies import CondaDependencies \n\nconda_packages=['numpy','pandas']\npip_packages=['azureml-sdk','onnxruntime']\nmycondaenv = CondaDependencies.create(conda_packages=conda_packages, pip_packages=pip_packages)\n\nconda_file = 'dependencies.yml'\nwith open(conda_file, 'w') as f:\n    f.write(mycondaenv.serialize_to_string())\n\nruntime = 'python'\n\n# create container image configuration\nprint(\"Creating container image configuration...\")\nfrom azureml.core.image import ContainerImage\nimage_config = ContainerImage.image_configuration(execution_script = 'scoring_service.py', \n                                                  runtime = runtime,\n                                                  conda_file = conda_file\n                                                 )\n\n# create the image\nimage_name = 'component-compliance-image'\n\nfrom azureml.core import Image\nimage = Image.create(name=image_name, models=[registered_model], image_config=image_config, workspace=ws)\n\n# wait for image creation to finish\nimage.wait_for_creation(show_output=True)",
      "execution_count": 16,
      "outputs": [
        {
          "output_type": "stream",
          "text": "Creating conda dependencies file locally...\nCreating container image configuration...\nCreating image\nRunning.....................................\nSucceeded\nImage creation operation finished for image component-compliance-image:3, operation \"Succeeded\"\n",
          "name": "stdout"
        }
      ]
    },
    {
      "metadata": {},
      "cell_type": "markdown",
      "source": "## Deploy Model to Azure Container Instance (ACI) as a Web Service\n"
    },
    {
      "metadata": {},
      "cell_type": "markdown",
      "source": "Next, deploy the model as a web service. Run the next cell to perform the deployment."
    },
    {
      "metadata": {
        "trusted": true
      },
      "cell_type": "code",
      "source": "from azureml.core.webservice import Webservice, AciWebservice\n\nwebservice_name = 'complianceservice-srv'\nwebservice = None\nfor service in Webservice.list(ws):\n    if (service.name == webservice_name):\n        webservice = service\n        print('Found existing webservice!')\n        \nif webservice == None:\n    print('Starting new deployment...')\n    aci_config = AciWebservice.deploy_configuration(\n        cpu_cores = 1, \n        memory_gb = 1, \n        tags = {'name':'scoring'}, \n        description = 'Compliance classification web service.')\n\n    webservice = Webservice.deploy_from_image(deployment_config=aci_config, \n                                               image=image, \n                                               name=webservice_name, \n                                               workspace=ws)\n    webservice.wait_for_deployment(show_output=True)\n\nprint(webservice.name, webservice)",
      "execution_count": 17,
      "outputs": [
        {
          "output_type": "stream",
          "text": "Starting new deployment...\nRunning...............\nSucceeded\nACI service creation operation finished, operation \"Succeeded\"\ncomplianceservice-srv AciWebservice(workspace=Workspace.create(name='quick-starts-ws-basic', subscription_id='fdbba0bc-f686-4b8b-8b29-394e0d9ae697', resource_group='Quick-Starts-Update'), name=complianceservice-srv, image_id=component-compliance-image:3, compute_type=sha256:6d20d0aaf0241ab09563c1da60a1301800ac96eeac1f7809c03022e2d8b7e494, state=ACI, scoring_uri=Healthy, tags=http://7acb837f-7d70-417d-91c3-ad4c4ea293c9.eastus.azurecontainer.io/score, properties={'name': 'scoring'})\n",
          "name": "stdout"
        }
      ]
    },
    {
      "metadata": {},
      "cell_type": "markdown",
      "source": "Test your deployed web service."
    },
    {
      "metadata": {
        "trusted": true
      },
      "cell_type": "code",
      "source": "# choose a sample from the test data set to send\ntest_sample = np.reshape(x_test.astype(np.float32)[1502], (1,100))\ntest_sample_json = json.dumps(test_sample.tolist())\n\n# invoke the web service\nresult = webservice.run(input_data=test_sample_json)\n\nresult",
      "execution_count": 18,
      "outputs": [
        {
          "output_type": "execute_result",
          "execution_count": 18,
          "data": {
            "text/plain": "0.0"
          },
          "metadata": {}
        }
      ]
    },
    {
      "metadata": {},
      "cell_type": "markdown",
      "source": "### Challenge Task: Consume the Deployed Web Service\n\nComplete the code below to consume the deployed webservice over HTTP\n\n*A complete solution can be found in the accompanying notebook: solution-onnx-AML.ipynb*"
    },
    {
      "metadata": {
        "trusted": true
      },
      "cell_type": "code",
      "source": "import requests\n\nurl = webservice.scoring_uri\nprint('Scoring URI is: {}'.format(url))\nheaders = {'Content-Type':'application/json'}\n\nresponse = requests.post(url, test_sample_json, headers=headers)\nprint('Predictions')\nprint(response.text)",
      "execution_count": 19,
      "outputs": [
        {
          "output_type": "stream",
          "text": "Scoring URI is: http://7acb837f-7d70-417d-91c3-ad4c4ea293c9.eastus.azurecontainer.io/score\nPredictions\n0.0\n",
          "name": "stdout"
        }
      ]
    },
    {
      "metadata": {},
      "cell_type": "markdown",
      "source": "You now have a working web service deployed that uses the ONNX version of your Keras deep learning model."
    }
  ],
  "metadata": {
    "kernelspec": {
      "name": "python36",
      "display_name": "Python 3.6",
      "language": "python"
    },
    "language_info": {
      "mimetype": "text/x-python",
      "nbconvert_exporter": "python",
      "name": "python",
      "pygments_lexer": "ipython3",
      "version": "3.6.6",
      "file_extension": ".py",
      "codemirror_mode": {
        "version": 3,
        "name": "ipython"
      }
    },
    "name": "Deep Learning",
    "notebookId": 2340934485665719
  },
  "nbformat": 4,
  "nbformat_minor": 1
}