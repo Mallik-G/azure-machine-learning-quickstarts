{
  "cells": [
    {
      "metadata": {},
      "cell_type": "markdown",
      "source": "# Predicting NYC Taxi Fares And Model Explainer"
    },
    {
      "metadata": {},
      "cell_type": "markdown",
      "source": "In this quickstart, we will be using a subset of NYC Taxi & Limousine Commission - green taxi trip records available from [Azure Open Datasets](https://azure.microsoft.com/en-us/services/open-datasets/). The data is enriched with holiday and weather data. We will use data transformations and the GradientBoostingRegressor algorithm from the scikit-learn library to train a regression model to predict taxi fares in New York City based on input features such as, number of passengers, trip distance, datetime, holiday information and weather information.\n\nThe primary goal of this quickstart is to explain the predictions made by our trained model with the various [Azure Model Interpretability](https://docs.microsoft.com/en-us/azure/machine-learning/service/machine-learning-interpretability-explainability) packages of the Azure Machine Learning Python SDK."
    },
    {
      "metadata": {},
      "cell_type": "markdown",
      "source": "### Azure Machine Learning and Model Interpretability SDK-specific Imports"
    },
    {
      "metadata": {
        "trusted": true
      },
      "cell_type": "code",
      "source": "import os\nimport numpy as np\nimport pandas as pd\nimport pickle\nimport sklearn\nfrom sklearn.externals import joblib\nimport math\n\nsklearn_version = sklearn.__version__\nprint('The scikit-learn version is {}.'.format(sklearn_version))\n\nimport azureml\nfrom azureml.core import Workspace, Experiment, Run\nfrom azureml.core.model import Model\n\nfrom azureml.explain.model.tabular_explainer import TabularExplainer\n\nfrom azureml.contrib.explain.model.tabular_explainer import TabularExplainer as TabularExplainer_contrib\n\nprint('The azureml.core version is {}.'.format(azureml.core.VERSION))",
      "execution_count": 1,
      "outputs": [
        {
          "output_type": "stream",
          "text": "The scikit-learn version is 0.20.3.\nThe azureml.core version is 1.0.43.\n",
          "name": "stdout"
        }
      ]
    },
    {
      "metadata": {},
      "cell_type": "markdown",
      "source": "### Setup\nTo begin, you will need to provide the following information about your Azure Subscription.\n\n**If you are using your own Azure subscription, please provide names for subscription_id, resource_group, workspace_name and workspace_region to use.** Note that the workspace needs to be of type [Machine Learning Workspace](https://docs.microsoft.com/en-us/azure/machine-learning/service/setup-create-workspace).\n\n**If an environment is provided to you be sure to replace XXXXX in the values below with your unique identifier.**\n\nIn the following cell, be sure to set the values for `subscription_id`, `resource_group`, `workspace_name` and `workspace_region` as directed by the comments (*these values can be acquired from the Azure Portal*).\n\nTo get these values, do the following:\n1. Navigate to the Azure Portal and login with the credentials provided.\n2. From the left hand menu, under Favorites, select `Resource Groups`.\n3. In the list, select the resource group with the name similar to `XXXXX`.\n4. From the Overview tab, capture the desired values.\n\nExecute the following cell by selecting the `>|Run` button in the command bar above."
    },
    {
      "metadata": {
        "trusted": true
      },
      "cell_type": "code",
      "source": "#Provide the Subscription ID of your existing Azure subscription\nsubscription_id = \"\" # <- needs to be the subscription with the Quick-Starts resource group\n\n#Provide values for the existing Resource Group \nresource_group = \"Quick-Starts-XXXXX\" # <- replace XXXXX with your unique identifier\n\n#Provide the Workspace Name and Azure Region of the Azure Machine Learning Workspace\nworkspace_name = \"quick-starts-ws-XXXXX\" # <- replace XXXXX with your unique identifier\nworkspace_region = \"eastus\" # <- region of your Quick-Starts resource group \n\nexperiment_name = \"quick-starts-explain\"",
      "execution_count": 2,
      "outputs": []
    },
    {
      "metadata": {},
      "cell_type": "markdown",
      "source": "### Create and connect to an Azure Machine Learning Workspace\n\nRun the following cell to create a new Azure Machine Learning **Workspace** and save the configuration to disk (next to the Jupyter notebook). \n\n**Important Note**: You will be prompted to login in the text that is output below the cell. Be sure to navigate to the URL displayed and enter the code that is provided. Once you have entered the code, return to this notebook and wait for the output to read `Workspace configuration succeeded`."
    },
    {
      "metadata": {
        "trusted": true
      },
      "cell_type": "code",
      "source": "working_directory = 'interpretability-with-AML'\nos.makedirs(working_directory, exist_ok=True)\nos.chdir(working_directory)",
      "execution_count": 3,
      "outputs": []
    },
    {
      "metadata": {
        "trusted": true
      },
      "cell_type": "code",
      "source": "ws = Workspace.create(\n    name = workspace_name,\n    subscription_id = subscription_id,\n    resource_group = resource_group, \n    location = workspace_region,\n    exist_ok = True)",
      "execution_count": 4,
      "outputs": []
    },
    {
      "metadata": {},
      "cell_type": "markdown",
      "source": "### Train the Model"
    },
    {
      "metadata": {
        "trusted": true
      },
      "cell_type": "code",
      "source": "from sklearn.model_selection import train_test_split\nfrom sklearn.ensemble import GradientBoostingRegressor\nfrom sklearn.pipeline import Pipeline\nfrom sklearn.impute import SimpleImputer\nfrom sklearn.preprocessing import StandardScaler, OneHotEncoder\nfrom sklearn_pandas import DataFrameMapper\nfrom sklearn.metrics import mean_squared_error\n\ndata_url = ('https://quickstartsws9073123377.blob.core.windows.net/'\n            'azureml-blobstore-0d1c4218-a5f9-418b-bf55-902b65277b85/'\n            'quickstarts/nyc-taxi-data/nyc-taxi-sample-data.csv')\n\ndf = pd.read_csv(data_url)\nx_df = df.drop(['totalAmount'], axis=1)\ny_df = df['totalAmount']\n\nX_train, X_test, y_train, y_test = train_test_split(x_df, y_df, test_size=0.2, random_state=0)\n\ncategorical = ['normalizeHolidayName', 'isPaidTimeOff']\nnumerical = ['vendorID', 'passengerCount', 'tripDistance', 'hour_of_day', 'day_of_week', \n             'day_of_month', 'month_num', 'snowDepth', 'precipTime', 'precipDepth', 'temperature']\n\nnumeric_transformations = [([f], Pipeline(steps=[\n    ('imputer', SimpleImputer(strategy='median')),\n    ('scaler', StandardScaler())])) for f in numerical]\n    \ncategorical_transformations = [([f], OneHotEncoder(handle_unknown='ignore', sparse=False)) for f in categorical]\n\ntransformations = numeric_transformations + categorical_transformations\n\nclf = Pipeline(steps=[('preprocessor', DataFrameMapper(transformations)),\n                      ('regressor', GradientBoostingRegressor())])\n\nclf.fit(X_train, y_train)\n\ny_predict = clf.predict(X_test)\ny_actual = y_test.values.flatten().tolist()\nrmse = math.sqrt(mean_squared_error(y_actual, y_predict))\nprint('The RMSE score on test data for GradientBoostingRegressor: ', rmse)",
      "execution_count": 5,
      "outputs": [
        {
          "output_type": "stream",
          "text": "The RMSE score on test data for GradientBoostingRegressor:  4.432800189967817\n",
          "name": "stdout"
        }
      ]
    },
    {
      "metadata": {},
      "cell_type": "markdown",
      "source": "## Global Explanation Using TabularExplainer\n\n**Global Model Explanation** is a holistic understanding of how the model makes decisions. It provides you with insights on what features are most important and their relative strengths in making model predictions.\n\n[TabularExplainer](https://docs.microsoft.com/en-us/python/api/azureml-explain-model/azureml.explain.model.tabularexplainer?view=azure-ml-py) uses one of three explainers: TreeExplainer, DeepExplainer, or KernelExplainer, and is automatically selecting the most appropriate one for our use case. You can learn more about the underlying model explainers at [Azure Model Interpretability](https://docs.microsoft.com/en-us/azure/machine-learning/service/machine-learning-interpretability-explainability).\n\nTo initialize an explainer object, you need to pass your model and some training data to the explainer's constructor.\n\n*Note that you can pass in your feature transformation pipeline to the explainer to receive explanations in terms of the raw features before the transformation (rather than engineered features).*"
    },
    {
      "metadata": {
        "trusted": true
      },
      "cell_type": "code",
      "source": "# \"features\" and \"classes\" fields are optional\ntabular_explainer = TabularExplainer(clf.steps[-1][1], initialization_examples=X_train, \n                                     features=X_train.columns,  transformations=transformations)",
      "execution_count": 6,
      "outputs": []
    },
    {
      "metadata": {},
      "cell_type": "markdown",
      "source": "### Get the global feature importance values\n\nRun the below cell and observe the sorted global feature importance. You will note that `tripDistance` is the most important feature in predicting the taxi fares, followed by `hour_of_day`, and `day_of_week`."
    },
    {
      "metadata": {
        "trusted": true
      },
      "cell_type": "code",
      "source": "import warnings\nwarnings.filterwarnings('ignore')\n\n# You can use the training data or the test data here\nglobal_explanation = tabular_explainer.explain_global(X_test)\n# Sorted feature importance values and feature names\nsorted_global_importance_values = global_explanation.get_ranked_global_values()\nsorted_global_importance_names = global_explanation.get_ranked_global_names()\ndict(zip(sorted_global_importance_names, sorted_global_importance_values))",
      "execution_count": 7,
      "outputs": [
        {
          "output_type": "execute_result",
          "execution_count": 7,
          "data": {
            "text/plain": "{'tripDistance': 6.686299472929613,\n 'hour_of_day': 0.43390965367394,\n 'day_of_week': 0.2479465043018272,\n 'precipDepth': 0.04521767891815419,\n 'passengerCount': 0.03632125976717259,\n 'temperature': 0.028074215692475406,\n 'day_of_month': 0.02527071751389271,\n 'isPaidTimeOff': 0.013986806903137191,\n 'snowDepth': 0.011707454686670362,\n 'month_num': 0.005012546696458722,\n 'normalizeHolidayName': 0.0025762102525449864,\n 'vendorID': 0.0020700859064693993,\n 'precipTime': 0.001010658748108876}"
          },
          "metadata": {}
        }
      ]
    },
    {
      "metadata": {},
      "cell_type": "markdown",
      "source": "## Local Explanation\n\nYou can use the [TabularExplainer](https://docs.microsoft.com/en-us/python/api/azureml-explain-model/azureml.explain.model.tabularexplainer?view=azure-ml-py) for a single prediction. You can focus on a single instance and examine model prediction for this input, and explain why.\n\nWe will create two sample inputs to explain the individual predictions.\n\n- **Data 1**\n - 4 Passengers at 3:00PM, Friday July 5th, temperature 80F, travelling 10 miles\n\n- **Data 2**\n - 1 Passenger at 6:00AM, Monday January 20th, rainy, temperature 35F, travelling 5 miles"
    },
    {
      "metadata": {
        "trusted": true
      },
      "cell_type": "code",
      "source": "# Create the test dataset\ncolumns = ['vendorID', 'passengerCount', 'tripDistance', 'hour_of_day', 'day_of_week', 'day_of_month', \n           'month_num', 'normalizeHolidayName', 'isPaidTimeOff', 'snowDepth', 'precipTime', \n           'precipDepth', 'temperature']\n\ndata = [[1, 4, 10, 15, 4, 5, 7, 'None', False, 0, 0.0, 0.0, 80], \n        [1, 1, 5, 6, 0, 20, 1, 'Martin Luther King, Jr. Day', True, 0, 2.0, 3.0, 35]]\n\ndata_df = pd.DataFrame(data, columns = columns)",
      "execution_count": 8,
      "outputs": []
    },
    {
      "metadata": {
        "trusted": true
      },
      "cell_type": "code",
      "source": "# explain the test data\nlocal_explanation = tabular_explainer.explain_local(data_df)\n\n# sorted feature importance values and feature names\nsorted_local_importance_names = local_explanation.get_ranked_local_names()\nsorted_local_importance_values = local_explanation.get_ranked_local_values()\n\nresults = pd.DataFrame([sorted_local_importance_names[0][0:5], sorted_local_importance_values[0][0:5], \n                        sorted_local_importance_names[1][0:5], sorted_local_importance_values[1][0:5]], \n                       columns = ['1st', '2nd', '3rd', '4th', '5th'], \n                       index = ['Data 1', '', 'Data 2', ''])\nprint('Top 5 Local Feature Importance')\nresults",
      "execution_count": 9,
      "outputs": [
        {
          "output_type": "stream",
          "text": "Top 5 Local Feature Importance\n",
          "name": "stdout"
        },
        {
          "output_type": "execute_result",
          "execution_count": 9,
          "data": {
            "text/html": "<div>\n<style scoped>\n    .dataframe tbody tr th:only-of-type {\n        vertical-align: middle;\n    }\n\n    .dataframe tbody tr th {\n        vertical-align: top;\n    }\n\n    .dataframe thead th {\n        text-align: right;\n    }\n</style>\n<table border=\"1\" class=\"dataframe\">\n  <thead>\n    <tr style=\"text-align: right;\">\n      <th></th>\n      <th>1st</th>\n      <th>2nd</th>\n      <th>3rd</th>\n      <th>4th</th>\n      <th>5th</th>\n    </tr>\n  </thead>\n  <tbody>\n    <tr>\n      <th>Data 1</th>\n      <td>tripDistance</td>\n      <td>hour_of_day</td>\n      <td>passengerCount</td>\n      <td>day_of_week</td>\n      <td>temperature</td>\n    </tr>\n    <tr>\n      <th></th>\n      <td>23.7461</td>\n      <td>0.809695</td>\n      <td>0.405133</td>\n      <td>0.130828</td>\n      <td>0.12466</td>\n    </tr>\n    <tr>\n      <th>Data 2</th>\n      <td>tripDistance</td>\n      <td>temperature</td>\n      <td>day_of_week</td>\n      <td>month_num</td>\n      <td>precipTime</td>\n    </tr>\n    <tr>\n      <th></th>\n      <td>7.73322</td>\n      <td>0.0884304</td>\n      <td>0.0768804</td>\n      <td>0.014314</td>\n      <td>7.48644e-05</td>\n    </tr>\n  </tbody>\n</table>\n</div>",
            "text/plain": "                 1st          2nd             3rd          4th          5th\nData 1  tripDistance  hour_of_day  passengerCount  day_of_week  temperature\n             23.7461     0.809695        0.405133     0.130828      0.12466\nData 2  tripDistance  temperature     day_of_week    month_num   precipTime\n             7.73322    0.0884304       0.0768804     0.014314  7.48644e-05"
          },
          "metadata": {}
        }
      ]
    },
    {
      "metadata": {},
      "cell_type": "markdown",
      "source": "As we saw from the Global Explanation that the **tripDistance** is the most important global feature. Other than `tripDistance`, the rest of the top 5 important features were different for the two samples.\n\n- Data 1: Passenger count 4 and 3:00 PM on Friday were also important features in the prediction.\n- Data 2: The weather-related features (rainy, temperature 35F), day of the week (Monday) and month (January) were also important."
    },
    {
      "metadata": {},
      "cell_type": "markdown",
      "source": "## Interpretability in Inference\n\nIn the next part, we will deploy the explainer along with the model to be used at scoring time to make predictions and provide local explanation."
    },
    {
      "metadata": {},
      "cell_type": "markdown",
      "source": "#### Create a Scoring Explainer\n\nYou have to use the **TabularExplainer** from the **azureml.contrib.explain.model.tabular_explainer** package to create the **Scoring Explainer** that can be deployed with the trained model."
    },
    {
      "metadata": {
        "trusted": true
      },
      "cell_type": "code",
      "source": "tabular_explainer_contrib = TabularExplainer_contrib(clf.steps[-1][1], initialization_examples=X_train, \n                                     features=X_train.columns,  transformations=transformations)\nscoring_explainer = tabular_explainer_contrib.create_scoring_explainer(X_test)",
      "execution_count": 10,
      "outputs": []
    },
    {
      "metadata": {},
      "cell_type": "markdown",
      "source": "### Register the Trained Model and the Scoring Explainer with Azure Machine Learning Service\n\nRun the next set of cells to register the two models with Azure Machine Learning Service."
    },
    {
      "metadata": {},
      "cell_type": "markdown",
      "source": "#### Start an Experiment Run"
    },
    {
      "metadata": {
        "trusted": true
      },
      "cell_type": "code",
      "source": "experiment = Experiment(ws, experiment_name)\nrun = experiment.start_logging()",
      "execution_count": 11,
      "outputs": []
    },
    {
      "metadata": {},
      "cell_type": "markdown",
      "source": "#### Save the two models to local disk"
    },
    {
      "metadata": {
        "trusted": true
      },
      "cell_type": "code",
      "source": "model_name = 'nyc-taxi-fare'\nmodel_file_name = model_name + '.pkl'\nos.makedirs('./outputs', exist_ok=True)\noutput_model_file_path = os.path.join('./outputs', model_file_name)\njoblib.dump(clf, open(output_model_file_path,'wb'))\n\nscoring_explainer_name = 'nyc-taxi-fare-explainer'\nscoring_explainer_file_name = scoring_explainer_name + '.pkl'\nscoring_explainer_file_path = os.path.join('./outputs', scoring_explainer_file_name)\nscoring_explainer.save(scoring_explainer_file_path)",
      "execution_count": 12,
      "outputs": [
        {
          "output_type": "execute_result",
          "execution_count": 12,
          "data": {
            "text/plain": "'././outputs/nyc-taxi-fare-explainer.pkl'"
          },
          "metadata": {}
        }
      ]
    },
    {
      "metadata": {},
      "cell_type": "markdown",
      "source": "#### Register the Models"
    },
    {
      "metadata": {
        "trusted": true
      },
      "cell_type": "code",
      "source": "# Upload and register this version of the model with Azure Machine Learning service\nmodel_destination_path = os.path.join('outputs', model_name)\nrun.upload_file(model_destination_path, output_model_file_path) # destination, source\nregistered_model = run.register_model(model_name=model_name, model_path=model_destination_path)\n\nscoring_explainer_destination_path = os.path.join('outputs', scoring_explainer_file_name)\nrun.upload_file(scoring_explainer_destination_path, scoring_explainer_file_path) # destination, source\nregistered_scoring_explainer = run.register_model(model_name=scoring_explainer_name, \n                                                  model_path=scoring_explainer_destination_path)\n\nprint(\"Model registered: {} \\nModel Version: {}\".format(registered_model.name, registered_model.version))\nprint(\"Explainer Model registered: {} \\nExplainer Model Version: {}\".format(registered_scoring_explainer.name, \n                                                                            registered_scoring_explainer.version))",
      "execution_count": 13,
      "outputs": [
        {
          "output_type": "stream",
          "text": "Model registered: nyc-taxi-fare \nModel Version: 3\nExplainer Model registered: nyc-taxi-fare-explainer \nExplainer Model Version: 3\n",
          "name": "stdout"
        }
      ]
    },
    {
      "metadata": {},
      "cell_type": "markdown",
      "source": "#### Complete the Experiment Run"
    },
    {
      "metadata": {
        "trusted": true
      },
      "cell_type": "code",
      "source": "run.complete()",
      "execution_count": 14,
      "outputs": []
    },
    {
      "metadata": {},
      "cell_type": "markdown",
      "source": "### Create the Scoring Script"
    },
    {
      "metadata": {
        "trusted": true
      },
      "cell_type": "code",
      "source": "%%writefile score.py\nimport json\nimport numpy as np\nimport pandas as pd\nimport os\nimport pickle\nimport sklearn\nfrom sklearn.externals import joblib\nfrom sklearn.ensemble import GradientBoostingRegressor\nfrom azureml.core.model import Model\n\ncolumns = ['vendorID', 'passengerCount', 'tripDistance', 'hour_of_day', 'day_of_week', 'day_of_month', \n           'month_num', 'normalizeHolidayName', 'isPaidTimeOff', 'snowDepth', 'precipTime', \n           'precipDepth', 'temperature']\n\ndef init():\n\n    global original_model\n    global scoring_explainer\n    \n    print('The scikit-learn version is {}.'.format(sklearn.__version__))\n\n    # Retrieve the path to the model file using the model name\n    # Assume original model is named original_prediction_model\n    original_model_path = Model.get_model_path('nyc-taxi-fare')\n    scoring_explainer_path = Model.get_model_path('nyc-taxi-fare-explainer')\n\n    original_model = joblib.load(original_model_path)\n    print('model loaded')\n    scoring_explainer = joblib.load(scoring_explainer_path)\n    print('explainer loaded')\n\ndef run(input_json):\n    # Get predictions and explanations for each data point\n    inputs = json.loads(input_json)\n    data_df = pd.DataFrame(np.array(inputs).reshape(-1, len(columns)), columns = columns)\n    # Make prediction\n    predictions = original_model.predict(data_df)\n    # Retrieve model explanations\n    local_importance_values = scoring_explainer.explain(data_df)\n    # You can return any data type as long as it is JSON-serializable\n    return {'predictions': predictions.tolist(), 'local_importance_values': local_importance_values}",
      "execution_count": 15,
      "outputs": [
        {
          "output_type": "stream",
          "text": "Overwriting score.py\n",
          "name": "stdout"
        }
      ]
    },
    {
      "metadata": {},
      "cell_type": "markdown",
      "source": "### Package Model\n\nRun the next two cells to create the deployment **Image**\n\n*WARNING: to install, g++ needs to be available on the Docker image and is not by default. Thus, we will create a custom dockerfile with g++ installed.*"
    },
    {
      "metadata": {
        "trusted": true
      },
      "cell_type": "code",
      "source": "%%writefile dockerfile\nRUN apt-get update && apt-get install -y g++",
      "execution_count": 16,
      "outputs": [
        {
          "output_type": "stream",
          "text": "Overwriting dockerfile\n",
          "name": "stdout"
        }
      ]
    },
    {
      "metadata": {
        "trusted": true
      },
      "cell_type": "code",
      "source": "# create a Conda dependencies environment file\nprint(\"Creating conda dependencies file locally...\")\nfrom azureml.core.conda_dependencies import CondaDependencies \nconda_packages = ['numpy', 'pandas']\npip_packages = ['scikit-learn==0.20.3', 'sklearn_pandas', 'azureml-sdk', \n                'azureml-explain-model', 'azureml-contrib-explain-model']\nmycondaenv = CondaDependencies.create(conda_packages=conda_packages, pip_packages=pip_packages)\n\nconda_file = 'sklearn_dependencies.yml'\nwith open(conda_file, 'w') as f:\n    f.write(mycondaenv.serialize_to_string())\n\nruntime = 'python'\n\n# create container image configuration\nprint(\"Creating container image configuration...\")\nfrom azureml.core.image import ContainerImage\nimage_config = ContainerImage.image_configuration(execution_script = 'score.py', \n                                                  docker_file = 'dockerfile', \n                                                  runtime = runtime, \n                                                  conda_file = conda_file)\n\n# create the image\nimage_name = 'nyc-taxi-fare-image'\n\nfrom azureml.core import Image\nimage = Image.create(name=image_name, models=[registered_model, registered_scoring_explainer], \n                     image_config=image_config, workspace=ws)\n\n# wait for image creation to finish\nimage.wait_for_creation(show_output=True)",
      "execution_count": 17,
      "outputs": [
        {
          "output_type": "stream",
          "text": "Creating conda dependencies file locally...\nCreating container image configuration...\nCreating image\nRunning.\nNotStarted..............................................\nSucceeded\nImage creation operation finished for image nyc-taxi-fare-image:4, operation \"Succeeded\"\n",
          "name": "stdout"
        }
      ]
    },
    {
      "metadata": {},
      "cell_type": "markdown",
      "source": "### Deploy Model to Azure Container Instance (ACI) as a Web Service"
    },
    {
      "metadata": {
        "trusted": true
      },
      "cell_type": "code",
      "source": "from azureml.core.webservice import AciWebservice, Webservice\n\naci_name = 'sklearn-aci-cluster01'\n\naci_config = AciWebservice.deploy_configuration(\n    cpu_cores = 1, \n    memory_gb = 1, \n    tags = {'name': aci_name}, \n    description = 'NYC Taxi Fare Predictor Web Service')\n\nservice_name = 'nyc-taxi-sklearn-service'\n\naci_service = Webservice.deploy_from_image(deployment_config=aci_config, \n                                           image=image, \n                                           name=service_name, \n                                           workspace=ws)\n\naci_service.wait_for_deployment(show_output=True)",
      "execution_count": 18,
      "outputs": [
        {
          "output_type": "stream",
          "text": "Creating service\nRunning...................\nSucceededACI service creation operation finished, operation \"Succeeded\"\n",
          "name": "stdout"
        }
      ]
    },
    {
      "metadata": {},
      "cell_type": "markdown",
      "source": "### Test Deployment\n\nObserve that the **Scoring Service** return both prediction and local importance values."
    },
    {
      "metadata": {
        "trusted": true
      },
      "cell_type": "code",
      "source": "import json\n\ndata1 = [1, 2, 5, 9, 4, 27, 5, 'Memorial Day', True, 0, 0.0, 0.0, 65]\n\ndata2 = [[1, 3, 10, 15, 4, 27, 7, 'None', False, 0, 2.0, 1.0, 80], \n         [1, 2, 5, 9, 4, 27, 5, 'Memorial Day', True, 0, 0.0, 0.0, 65]]\n\nresult = aci_service.run(json.dumps(data1))\nprint('Predictions for data1')\nprint(result)\n\nresult = aci_service.run(json.dumps(data2))\nprint('Predictions for data2')\nprint(result)",
      "execution_count": 19,
      "outputs": [
        {
          "output_type": "stream",
          "text": "Predictions for data1\n{'predictions': [23.328298880952527], 'local_importance_values': [[-0.0025499128966432706, 0.08229010141088601, 8.232908255891441, 0.233960412149396, 0.3034457967245929, -0.0003860759452415347, -0.0014329496108876271, -0.10543311820136124, -0.268463628397977, -0.005750894587797881, -0.0002414232770696094, -0.01747025531617998, 0.10117982644228625]]}\nPredictions for data2\n{'predictions': [40.080346491446285, 23.328298880952527], 'local_importance_values': [[-0.004509295838464091, 0.4051162802698722, 24.011773248967415, 0.770233344290914, 0.14475388707750095, 0.10568005650438857, -0.0014329496108876271, 0.002271820372605237, -0.27027792710943377, 0.003348032366657192, -0.0002414232770696094, 0.011967997719205014, 0.1254207327264842], [-0.0025499128966432706, 0.08229010141088601, 8.232908255891441, 0.233960412149396, 0.3034457967245929, -0.0003860759452415347, -0.0014329496108876271, -0.10543311820136124, -0.268463628397977, -0.005750894587797881, -0.0002414232770696094, -0.01747025531617998, 0.10117982644228625]]}\n",
          "name": "stdout"
        }
      ]
    },
    {
      "metadata": {},
      "cell_type": "markdown",
      "source": "### Cleanup"
    },
    {
      "metadata": {
        "trusted": true
      },
      "cell_type": "code",
      "source": "# Change back to the root directory\nos.chdir('../')",
      "execution_count": 20,
      "outputs": []
    },
    {
      "metadata": {
        "trusted": true
      },
      "cell_type": "code",
      "source": "",
      "execution_count": null,
      "outputs": []
    }
  ],
  "metadata": {
    "kernelspec": {
      "name": "python36",
      "display_name": "Python 3.6",
      "language": "python"
    },
    "language_info": {
      "mimetype": "text/x-python",
      "nbconvert_exporter": "python",
      "name": "python",
      "pygments_lexer": "ipython3",
      "version": "3.6.6",
      "file_extension": ".py",
      "codemirror_mode": {
        "version": 3,
        "name": "ipython"
      }
    }
  },
  "nbformat": 4,
  "nbformat_minor": 2
}