{
  "cells": [
    {
      "metadata": {},
      "cell_type": "markdown",
      "source": "# Automated Machine Learning with Azure Machine Learning\n\n**Please complete Part 1 before continuing**\n\nIn this part, you will access the deployed webservice from Part 1 using the Azure ML Python SDK, and then test the scoring web service: (1) by make direct calls on service object, (2) by calling the service end point (Scoring URI) over http."
    },
    {
      "metadata": {
        "trusted": false
      },
      "cell_type": "code",
      "source": "import os\nimport numpy as np\nimport pandas as pd\nimport logging\n\nfrom azureml.core import Workspace\nfrom azureml.core.webservice import AciWebservice, Webservice",
      "execution_count": null,
      "outputs": []
    },
    {
      "metadata": {},
      "cell_type": "markdown",
      "source": "### Setup\nTo begin, you will need to provide the following information about your Azure Subscription.\n\n**If you are using your own Azure subscription, please provide names for subscription_id, resource_group, workspace_name and workspace_region to use.** Note that the workspace needs to be of type [Machine Learning Workspace](https://docs.microsoft.com/en-us/azure/machine-learning/service/setup-create-workspace).\n\n**If an environment is provided to you be sure to replace XXXXX in the values below with your unique identifier.**\n\nIn the following cell, be sure to set the values for `subscription_id`, `resource_group`, `workspace_name` and `workspace_region` as directed by the comments (*these values can be acquired from the Azure Portal*).\n\nTo get these values, do the following:\n1. Navigate to the Azure Portal and login with the credentials provided.\n2. From the left hand menu, under Favorites, select `Resource Groups`.\n3. In the list, select the resource group with the name similar to `XXXXX`.\n4. From the Overview tab, capture the desired values.\n\nExecute the following cell by selecting the `>|Run` button in the command bar above."
    },
    {
      "metadata": {
        "trusted": false
      },
      "cell_type": "code",
      "source": "#Provide the Subscription ID of your existing Azure subscription\nsubscription_id = \"\" # <- needs to be the subscription with the Quick-Starts resource group\n\n#Provide values for the existing Resource Group \nresource_group = \"Quick-Starts-XXXXX\" # <- replace XXXXX with your unique identifier\n\n#Provide the Workspace Name and Azure Region of the Azure Machine Learning Workspace\nworkspace_name = \"quick-starts-ws-XXXXX\" # <- replace XXXXX with your unique identifier\nworkspace_region = \"eastus\" # <- region of your Quick-Starts resource group ",
      "execution_count": null,
      "outputs": []
    },
    {
      "metadata": {},
      "cell_type": "markdown",
      "source": "## Connect to the Azure Machine Learning Workspace\n\nRun the following cell to connect the Azure Machine Learning **Workspace** created in part 1.\n\n**Important Note**: You will be prompted to login in the text that is output below the cell. Be sure to navigate to the URL displayed and enter the code that is provided. Once you have entered the code, return to this notebook and wait for the output to read `Workspace configuration succeeded`."
    },
    {
      "metadata": {
        "trusted": false
      },
      "cell_type": "code",
      "source": "ws = Workspace.get(\n    name = workspace_name,\n    subscription_id = subscription_id,\n    resource_group = resource_group)\nprint('Workspace configuration succeeded')",
      "execution_count": null,
      "outputs": []
    },
    {
      "metadata": {},
      "cell_type": "markdown",
      "source": "## Access the Deployed Webservice from the Workspace"
    },
    {
      "metadata": {
        "trusted": false
      },
      "cell_type": "code",
      "source": "service_name = 'nyc-taxi-predictor'\nwebservice = ws.webservices[service_name]",
      "execution_count": null,
      "outputs": []
    },
    {
      "metadata": {},
      "cell_type": "markdown",
      "source": "## Test Deployment"
    },
    {
      "metadata": {},
      "cell_type": "markdown",
      "source": "### Make direct calls on the service object"
    },
    {
      "metadata": {
        "trusted": false
      },
      "cell_type": "code",
      "source": "import json\n\ndata1 = [[1, 2, 5, 9, 4, 27, 5, 'Memorial Day', True, 0, 0.0, 0.0, 65]]\n\ndata2 = [[1, 3, 10, 15, 4, 27, 7, 'None', False, 0, 2.0, 1.0, 80], \n         [1, 2, 5, 9, 4, 27, 5, 'Memorial Day', True, 0, 0.0, 0.0, 65]]\n\nresult = webservice.run(json.dumps({'data': data1}))\nprint('Predictions for data1')\nprint(result)\n\nresult = webservice.run(json.dumps({'data': data2}))\nprint('Predictions for data2')\nprint(result)",
      "execution_count": null,
      "outputs": []
    },
    {
      "metadata": {},
      "cell_type": "markdown",
      "source": "### Make HTTP calls to test the Webservice"
    },
    {
      "metadata": {
        "trusted": false
      },
      "cell_type": "code",
      "source": "import requests\n\nurl = webservice.scoring_uri\nprint('ACI Service: {} scoring URI is: {}'.format(service_name, url))\nheaders = {'Content-Type':'application/json'}\n\nresponse = requests.post(url, json.dumps({'data': data1}), headers=headers)\nprint('Predictions for data1')\nprint(response.text)\nresponse = requests.post(url, json.dumps({'data': data2}), headers=headers)\nprint('Predictions for data2')\nprint(response.text)",
      "execution_count": null,
      "outputs": []
    },
    {
      "metadata": {
        "trusted": false
      },
      "cell_type": "code",
      "source": "",
      "execution_count": null,
      "outputs": []
    }
  ],
  "metadata": {
    "kernelspec": {
      "name": "python36",
      "display_name": "Python 3.6",
      "language": "python"
    },
    "language_info": {
      "mimetype": "text/x-python",
      "nbconvert_exporter": "python",
      "name": "python",
      "pygments_lexer": "ipython3",
      "version": "3.6.6",
      "file_extension": ".py",
      "codemirror_mode": {
        "version": 3,
        "name": "ipython"
      }
    }
  },
  "nbformat": 4,
  "nbformat_minor": 2
}