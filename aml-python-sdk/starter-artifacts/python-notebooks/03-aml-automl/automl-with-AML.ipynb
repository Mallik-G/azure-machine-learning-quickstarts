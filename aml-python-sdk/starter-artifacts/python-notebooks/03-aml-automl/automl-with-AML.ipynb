{
  "cells": [
    {
      "metadata": {},
      "cell_type": "markdown",
      "source": "# Automated Machine Learning with Azure Machine Learning Service"
    },
    {
      "metadata": {},
      "cell_type": "markdown",
      "source": "## Quick Start Overview\n\nIn this quickstart we will be building a regression model to predict **Taxi Fares in New York City**. We will download a preprocessed labeled training data with features such as number of passengers, trip distance, datetime, holiday information and weather information.\n\nYou will use compute resources provided by Azure Machine Learning (AML) to **remotely** train a **set** of models using **Automated Machine Learning**, evaluate performance of each model and pick the best performing model to deploy as a web service hosted by **Azure Container Instance**.\n\nBecause you will be using the Azure Machine Learning SDK, you will be able to provision all your required Azure resources directly from this notebook, without having to use the Azure Portal to create any resources."
    },
    {
      "metadata": {},
      "cell_type": "markdown",
      "source": "### Setup\nTo begin, you will need to provide the following information about your Azure Subscription.\n\n**If you are using your own Azure subscription, please provide names for subscription_id, resource_group, workspace_name and workspace_region to use.** Note that the workspace needs to be of type [Machine Learning Workspace](https://docs.microsoft.com/en-us/azure/machine-learning/service/setup-create-workspace).\n\n**If an environment is provided to you be sure to replace XXXXX in the values below with your unique identifier.**\n\nIn the following cell, be sure to set the values for `subscription_id`, `resource_group`, `workspace_name` and `workspace_region` as directed by the comments (*these values can be acquired from the Azure Portal*).\n\nTo get these values, do the following:\n1. Navigate to the Azure Portal and login with the credentials provided.\n2. From the left hand menu, under Favorites, select `Resource Groups`.\n3. In the list, select the resource group with the name similar to `XXXXX`.\n4. From the Overview tab, capture the desired values.\n\nExecute the following cell by selecting the `>|Run` button in the command bar above."
    },
    {
      "metadata": {
        "trusted": true
      },
      "cell_type": "code",
      "source": "#Provide the Subscription ID of your existing Azure subscription\nsubscription_id = \"\" # <- needs to be the subscription with the Quick-Starts resource group\n\n#Provide values for the existing Resource Group \nresource_group = \"Quick-Starts-XXXXX\" # <- replace XXXXX with your unique identifier\n\n#Provide the Workspace Name and Azure Region of the Azure Machine Learning Workspace\nworkspace_name = \"quick-starts-ws-XXXXX\" # <- replace XXXXX with your unique identifier\nworkspace_region = \"eastus\" # <- region of your Quick-Starts resource group",
      "execution_count": 1,
      "outputs": []
    },
    {
      "metadata": {},
      "cell_type": "markdown",
      "source": "Constants, you can leave these values as they are or experiment with changing them after you have completed the notebook once"
    },
    {
      "metadata": {
        "trusted": true
      },
      "cell_type": "code",
      "source": "experiment_name = 'automl-regression'\nproject_folder = './automl-regression'\n\n# this is the URL to the CSV file containing the training and test data\ndata_url = ('https://quickstartsws9073123377.blob.core.windows.net/'\n            'azureml-blobstore-0d1c4218-a5f9-418b-bf55-902b65277b85/'\n            'quickstarts/nyc-taxi-data/nyc-taxi-sample-data.csv')\n\ncluster_name = \"cpucluster\"",
      "execution_count": 3,
      "outputs": []
    },
    {
      "metadata": {},
      "cell_type": "markdown",
      "source": "### Import required packages"
    },
    {
      "metadata": {},
      "cell_type": "markdown",
      "source": "The Azure Machine Learning SDK provides a comprehensive set of a capabilities that you can use directly within a notebook including:\n- Creating a **Workspace** that acts as the root object to organize all artifacts and resources used by Azure Machine Learning.\n- Creating **Experiments** in your Workspace that capture versions of the trained model along with any desired model performance telemetry. Each time you train a model and evaluate its results, you can capture that run (model and telemetry) within an Experiment.\n- Creating **Compute** resources that can be used to scale out model training, so that while your notebook may be running in a lightweight container in Azure Notebooks, your model training can actually occur on a powerful cluster that can provide large amounts of memory, CPU or GPU. \n- Using **Automated Machine Learning (AutoML)** to automatically train multiple versions of a model using a mix of different ways to prepare the data and different algorithms and hyperparameters (algorithm settings) in search of the model that performs best according to a performance metric that you specify. \n- Packaging a Docker **Image** that contains everything your trained model needs for scoring (prediction) in order to run as a web service.\n- Deploying your Image to either Azure Kubernetes or Azure Container Instances, effectively hosting the **Web Service**.\n\nIn Azure Notebooks, all of the libraries needed for Azure Machine Learning are pre-installed. To use them, you just need to import them. Run the following cell to do so:"
    },
    {
      "metadata": {
        "trusted": true
      },
      "cell_type": "code",
      "source": "import logging\nimport os\nimport random\nimport re\n\nimport numpy as np\nimport pandas as pd\nfrom sklearn import datasets\n\nimport azureml.core\nfrom azureml.core.experiment import Experiment\nfrom azureml.core.workspace import Workspace\nfrom azureml.core.compute import AksCompute, ComputeTarget\nfrom azureml.core.webservice import Webservice, AksWebservice\nfrom azureml.core.image import Image\nfrom azureml.core.model import Model\nfrom azureml.train.automl import AutoMLConfig\nfrom azureml.train.automl.run import AutoMLRun\nfrom azureml.core import Workspace\n\n# Check core SDK version number\nprint(\"SDK version:\", azureml.core.VERSION)",
      "execution_count": 4,
      "outputs": [
        {
          "output_type": "stream",
          "text": "SDK version: 1.0.72\n",
          "name": "stdout"
        }
      ]
    },
    {
      "metadata": {},
      "cell_type": "markdown",
      "source": "### Create and connect to an Azure Machine Learning Workspace\n\nRun the following cell to create a new Azure Machine Learning **Workspace**.\n\n**Important Note**: You will be prompted to login in the text that is output below the cell. Be sure to navigate to the URL displayed and enter the code that is provided. Once you have entered the code, return to this notebook and wait for the output to read `Workspace configuration succeeded`."
    },
    {
      "metadata": {
        "trusted": true
      },
      "cell_type": "code",
      "source": "ws = Workspace.create(\n    name = workspace_name,\n    subscription_id = subscription_id,\n    resource_group = resource_group, \n    location = workspace_region,\n    exist_ok = True)\n\nws.write_config()\n\nprint('Workspace configuration succeeded')",
      "execution_count": 5,
      "outputs": [
        {
          "output_type": "stream",
          "text": "Workspace configuration succeeded\n",
          "name": "stdout"
        }
      ]
    },
    {
      "metadata": {},
      "cell_type": "markdown",
      "source": "## Create a Workspace Experiment"
    },
    {
      "metadata": {},
      "cell_type": "markdown",
      "source": "Notice in the first line of the cell below, we can re-load the config we saved previously and then display a summary of the environment."
    },
    {
      "metadata": {
        "trusted": true
      },
      "cell_type": "code",
      "source": "ws = Workspace.from_config()\n\n# Display a summary of the current environment \noutput = {}\noutput['SDK version'] = azureml.core.VERSION\n#output['Subscription ID'] = ws.subscription_id\noutput['Workspace'] = ws.name\noutput['Resource Group'] = ws.resource_group\noutput['Location'] = ws.location\noutput['Project Directory'] = project_folder\npd.set_option('display.max_colwidth', -1)\npd.DataFrame(data=output, index=['']).T",
      "execution_count": 6,
      "outputs": [
        {
          "output_type": "execute_result",
          "execution_count": 6,
          "data": {
            "text/html": "<div>\n<style scoped>\n    .dataframe tbody tr th:only-of-type {\n        vertical-align: middle;\n    }\n\n    .dataframe tbody tr th {\n        vertical-align: top;\n    }\n\n    .dataframe thead th {\n        text-align: right;\n    }\n</style>\n<table border=\"1\" class=\"dataframe\">\n  <thead>\n    <tr style=\"text-align: right;\">\n      <th></th>\n      <th></th>\n    </tr>\n  </thead>\n  <tbody>\n    <tr>\n      <th>SDK version</th>\n      <td>1.0.72</td>\n    </tr>\n    <tr>\n      <th>Workspace</th>\n      <td>quick-starts-ws-basic</td>\n    </tr>\n    <tr>\n      <th>Resource Group</th>\n      <td>Quick-Starts-Update</td>\n    </tr>\n    <tr>\n      <th>Location</th>\n      <td>eastus</td>\n    </tr>\n    <tr>\n      <th>Project Directory</th>\n      <td>./automl-regression</td>\n    </tr>\n  </tbody>\n</table>\n</div>",
            "text/plain": "                                        \nSDK version        1.0.72               \nWorkspace          quick-starts-ws-basic\nResource Group     Quick-Starts-Update  \nLocation           eastus               \nProject Directory  ./automl-regression  "
          },
          "metadata": {}
        }
      ]
    },
    {
      "metadata": {},
      "cell_type": "markdown",
      "source": "Next, create a new Experiment. "
    },
    {
      "metadata": {
        "trusted": true
      },
      "cell_type": "code",
      "source": "experiment = Experiment(ws, experiment_name)",
      "execution_count": 7,
      "outputs": []
    },
    {
      "metadata": {},
      "cell_type": "markdown",
      "source": "## Remotely train multiple models using Auto ML and Azure ML Compute"
    },
    {
      "metadata": {},
      "cell_type": "markdown",
      "source": "In the following cells, you will *not* train the model against the data you just downloaded using the resources provided by Azure Notebooks. Instead, you will deploy an Azure ML Compute cluster that will download the data and use Auto ML to train multiple models, evaluate the performance and allow you to retrieve the best model that was trained. In other words, all of the training will be performed remotely with respect to this notebook. \n\n\nAs you will see this is almost entirely done thru configuration, with very little code required. "
    },
    {
      "metadata": {},
      "cell_type": "markdown",
      "source": "### Create the data loading script for remote compute"
    },
    {
      "metadata": {},
      "cell_type": "markdown",
      "source": "The Azure Machine Learning Compute cluster needs to know how to get the data to train against. You can package this logic in a script that will be executed by the compute when it starts executing the training.\n\nRun the following cells to locally create the **get_data.py** script that will be deployed to remote compute. You will also use this script when you want train the model locally. \n\nObserve that the get_data method returns the features (`X`) and the labels (`y`) in an object. This structure is expected later when you will configure Auto ML."
    },
    {
      "metadata": {
        "trusted": true
      },
      "cell_type": "code",
      "source": "# create project folder\nif not os.path.exists(project_folder):\n    os.makedirs(project_folder)",
      "execution_count": 8,
      "outputs": []
    },
    {
      "metadata": {
        "trusted": true
      },
      "cell_type": "code",
      "source": "%%writefile $project_folder/get_data.py\n\nimport pandas as pd\n\ndef get_data():\n    \n    data_url = ('https://quickstartsws9073123377.blob.core.windows.net/'\n            'azureml-blobstore-0d1c4218-a5f9-418b-bf55-902b65277b85/'\n            'quickstarts/nyc-taxi-data/nyc-taxi-sample-data.csv')\n    \n    df = pd.read_csv(data_url)\n    x_df = df.drop(['totalAmount'], axis=1).values\n    y_df = df['totalAmount'].values.flatten()\n    \n    return {\"X\": x_df, \"y\": y_df}",
      "execution_count": 9,
      "outputs": [
        {
          "output_type": "stream",
          "text": "Writing ./automl-regression/get_data.py\n",
          "name": "stdout"
        }
      ]
    },
    {
      "metadata": {},
      "cell_type": "markdown",
      "source": "### Create AML Compute Cluster\n\nNow you are ready to create the compute cluster. Run the following cell to create a new compute cluster (or retrieve the existing cluster if it already exists). The code below will create a *CPU based* cluster where each node in the cluster is of the size `STANDARD_D12_V2`, and the cluster will have at most *4* such nodes. "
    },
    {
      "metadata": {
        "trusted": true
      },
      "cell_type": "code",
      "source": "### Create AML CPU based Compute Cluster\nfrom azureml.core.compute import ComputeTarget, AmlCompute\nfrom azureml.core.compute_target import ComputeTargetException\n\ntry:\n    compute_target = ComputeTarget(workspace=ws, name=cluster_name)\n    print('Found existing compute target.')\nexcept ComputeTargetException:\n    print('Creating a new compute target...')\n    compute_config = AmlCompute.provisioning_configuration(vm_size='STANDARD_D12_V2',\n                                                           max_nodes=4, min_nodes=4)\n\n    # create the cluster\n    compute_target = ComputeTarget.create(ws, cluster_name, compute_config)\n\n    compute_target.wait_for_completion(show_output=True)\n\n# Use the 'status' property to get a detailed status for the current AmlCompute. \nprint(compute_target.status.serialize())",
      "execution_count": 10,
      "outputs": [
        {
          "output_type": "stream",
          "text": "Found existing compute target.\n{'currentNodeCount': 4, 'targetNodeCount': 4, 'nodeStateCounts': {'preparingNodeCount': 0, 'runningNodeCount': 1, 'idleNodeCount': 3, 'unusableNodeCount': 0, 'leavingNodeCount': 0, 'preemptedNodeCount': 0}, 'allocationState': 'Steady', 'allocationStateTransitionTime': '2019-12-03T02:17:41.004000+00:00', 'errors': None, 'creationTime': '2019-12-03T02:16:27.240823+00:00', 'modifiedTime': '2019-12-03T02:16:43.848141+00:00', 'provisioningState': 'Succeeded', 'provisioningStateTransitionTime': None, 'scaleSettings': {'minNodeCount': 4, 'maxNodeCount': 4, 'nodeIdleTimeBeforeScaleDown': ''}, 'vmPriority': 'Dedicated', 'vmSize': 'STANDARD_D12_V2'}\n",
          "name": "stdout"
        }
      ]
    },
    {
      "metadata": {},
      "cell_type": "markdown",
      "source": "### Instantiate an Automated ML Config\n\nRun the following cell to configure the Auto ML run. In short what you are configuring here is the training of a regressor model that will attempt to predict the value of the target (`totalAmount`) based on all the other features in the data set. The run is configured to try at most 5 iterations where no iteration can run longer that 2 minutes. \n\nAdditionally, the data will be automatically pre-processed in different ways as a part of the automated model training (as indicated by the `preprocess` attribute having a value of `True`). This is a very powerful feature of Auto ML as it tries many best practices approaches for you, and saves you a lot of time and effort in the process.\n\nThe goal of Auto ML in this case is to find the best models that result, as measure by the normalized root mean squared error metric (as indicated by the `primary_metric` attribute). The error is basically a measure of what the model predicts versus what was provided as the \"answer\" in the training data. In short, AutoML will try to get the error as low as possible when trying its combination of approaches.  \n\nThe local path to the script you created to retrieve the data is supplied to the AutoMLConfig, ensuring the file is made available to the remote cluster. The actual execution of this training will occur on the compute cluster you created previously. \n\nIn general, the AutoMLConfig is very flexible, allowing you to specify all of the following:\n- Task type (classification, regression, forecasting)\n- Number of algorithm iterations and maximum time per iteration\n- Accuracy metric to optimize\n- Algorithms to blacklist (skip)/whitelist (include)\n- Number of cross-validations\n- Compute targets\n- Training data\n\nRun the following cell to create the configuration."
    },
    {
      "metadata": {
        "trusted": true
      },
      "cell_type": "code",
      "source": "automl_config = AutoMLConfig(task=\"regression\",\n                             iterations=3,\n                             iteration_timeout_minutes = 3, \n                             max_cores_per_iteration = 1,\n                             primary_metric=\"normalized_root_mean_squared_error\",\n                             preprocess=True,\n                             n_cross_validations = 3,\n                             debug_log = 'automl.log',\n                             verbosity = logging.DEBUG,\n                             data_script = project_folder + \"/get_data.py\",\n                             path = project_folder\n                            )",
      "execution_count": 11,
      "outputs": []
    },
    {
      "metadata": {},
      "cell_type": "markdown",
      "source": "## Run locally\n\nYou can run AutomML locally, that is it will use the resource provided by your Azure Notebook environment. \n\nRun the following cell to run the experiment locally. Note this will take **a few minutes**."
    },
    {
      "metadata": {
        "trusted": true
      },
      "cell_type": "code",
      "source": "local_run = experiment.submit(automl_config, show_output=True)",
      "execution_count": 12,
      "outputs": [
        {
          "output_type": "stream",
          "text": "Running on local machine\nParent Run ID: AutoML_6f1d83da-0b85-4a4b-8afb-c740f4121506\nCurrent status: DatasetFeaturization. Beginning to featurize the dataset.\nCurrent status: DatasetEvaluation. Gathering dataset statistics.\nCurrent status: FeaturesGeneration. Generating features for the dataset.\nCurrent status: DatasetFeaturizationCompleted. Completed featurizing the dataset.\nCurrent status: DatasetCrossValidationSplit. Generating individually featurized CV splits.\n\n****************************************************************************************************\nDATA GUARDRAILS SUMMARY:\nFor more details, use API: run.get_guardrails()\n\nTYPE:         Missing Values Imputation\nSTATUS:       PASSED\nDESCRIPTION:  There were no missing values found in the training data.\n\nTYPE:         High Cardinality Feature Detection\nSTATUS:       PASSED\nDESCRIPTION:  Your inputs were analyzed, and no high cardinality features were detected.\n\n****************************************************************************************************\nCurrent status: ModelSelection. Beginning model selection.\n\n****************************************************************************************************\nITERATION: The iteration being evaluated.\nPIPELINE: A summary description of the pipeline being evaluated.\nDURATION: Time taken for the current iteration.\nMETRIC: The result of computing score on the fitted pipeline.\nBEST: The best observed score thus far.\n****************************************************************************************************\n\n ITERATION   PIPELINE                                       DURATION      METRIC      BEST\n         0   StandardScalerWrapper ElasticNet               0:00:47       0.0133    0.0133\n         1   StandardScalerWrapper ElasticNet               0:00:50       0.0134    0.0133\n         2   StandardScalerWrapper ElasticNet               0:00:45       0.0138    0.0133\n",
          "name": "stdout"
        }
      ]
    },
    {
      "metadata": {},
      "cell_type": "markdown",
      "source": "### Run our Experiment on AML Compute\n\nLet's increase the performance by performing the training the AML Compute cluster. This will remotely train multiple models, evaluate them and allow you review the performance characteristics of each one, as well as to pick the *best model* that was trained and download it. \n\nWe will alter the configuration slightly to perform more iterations. Run the following cell to execute the experiment on the remote compute cluster."
    },
    {
      "metadata": {
        "trusted": true
      },
      "cell_type": "code",
      "source": "automl_config = AutoMLConfig(task = 'regression',\n                             iterations = 4,\n                             iteration_timeout_minutes = 3, \n                             max_cores_per_iteration = 4,\n                             max_concurrent_iterations = 4,\n                             preprocess= True,\n                             primary_metric='normalized_root_mean_squared_error',\n                             n_cross_validations = 3,\n                             debug_log = 'automl.log',\n                             verbosity = logging.DEBUG,\n                             data_script = project_folder + \"/get_data.py\",\n                             compute_target = compute_target,\n                             path = project_folder)\nremote_run = experiment.submit(automl_config, show_output=False)\nremote_run",
      "execution_count": 13,
      "outputs": [
        {
          "output_type": "execute_result",
          "execution_count": 13,
          "data": {
            "text/html": "<table style=\"width:100%\"><tr><th>Experiment</th><th>Id</th><th>Type</th><th>Status</th><th>Details Page</th><th>Docs Page</th></tr><tr><td>automl-regression</td><td>AutoML_fecda615-b0bf-4fad-af07-431510cbb972</td><td>automl</td><td>Starting</td><td><a href=\"https://ml.azure.com/experiments/automl-regression/runs/AutoML_fecda615-b0bf-4fad-af07-431510cbb972?wsid=/subscriptions/fdbba0bc-f686-4b8b-8b29-394e0d9ae697/resourcegroups/Quick-Starts-Update/workspaces/quick-starts-ws-basic\" target=\"_blank\" rel=\"noopener\">Link to Azure Machine Learning studio</a></td><td><a href=\"https://docs.microsoft.com/en-us/python/api/overview/azure/ml/intro?view=azure-ml-py\" target=\"_blank\" rel=\"noopener\">Link to Documentation</a></td></tr></table>",
            "text/plain": "Run(Experiment: automl-regression,\nId: AutoML_fecda615-b0bf-4fad-af07-431510cbb972,\nType: automl,\nStatus: Starting)"
          },
          "metadata": {}
        }
      ]
    },
    {
      "metadata": {},
      "cell_type": "markdown",
      "source": "Once the above cell completes, the run is starting but will likely have a status of `Preparing` for you. To wait for the run to complete before continuing (and to view the training status updates as they happen), run the next cell. \n\nRun the next cell, and wait for run status to be in **Completed** state.\n\n*Note: The first time you run this, it will take **about 15 minutes** to complete as the cluster is configured and then the AutoML job is run*"
    },
    {
      "metadata": {
        "trusted": true
      },
      "cell_type": "code",
      "source": "from azureml.widgets import RunDetails\nRunDetails(remote_run).show()",
      "execution_count": 14,
      "outputs": [
        {
          "output_type": "display_data",
          "data": {
            "application/vnd.jupyter.widget-view+json": {
              "model_id": "91b7fc14dadd484a88d649315da5223a",
              "version_minor": 0,
              "version_major": 2
            },
            "text/plain": "_AutoMLWidget(widget_settings={'childWidgetDisplay': 'popup', 'send_telemetry': False, 'log_level': 'INFO', 's…"
          },
          "metadata": {}
        },
        {
          "output_type": "display_data",
          "data": {
            "application/aml.mini.widget.v1": "{\"status\": \"Completed\", \"workbench_run_details_uri\": \"https://ml.azure.com/experiments/automl-regression/runs/AutoML_fecda615-b0bf-4fad-af07-431510cbb972?wsid=/subscriptions/fdbba0bc-f686-4b8b-8b29-394e0d9ae697/resourcegroups/Quick-Starts-Update/workspaces/quick-starts-ws-basic\", \"run_id\": \"AutoML_fecda615-b0bf-4fad-af07-431510cbb972\", \"run_properties\": {\"run_id\": \"AutoML_fecda615-b0bf-4fad-af07-431510cbb972\", \"created_utc\": \"2019-12-03T02:53:40.266676Z\", \"properties\": {\"num_iterations\": \"4\", \"training_type\": \"TrainFull\", \"acquisition_function\": \"EI\", \"primary_metric\": \"normalized_root_mean_squared_error\", \"train_split\": \"0\", \"MaxTimeSeconds\": \"180\", \"acquisition_parameter\": \"0\", \"num_cross_validation\": \"3\", \"target\": \"cpucluster\", \"RawAMLSettingsString\": \"{'name': 'automl-regression', 'path': './automl-regression', 'subscription_id': 'fdbba0bc-f686-4b8b-8b29-394e0d9ae697', 'resource_group': 'Quick-Starts-Update', 'workspace_name': 'quick-starts-ws-basic', 'region': 'eastus', 'compute_target': 'cpucluster', 'spark_service': None, 'azure_service': None, 'iterations': 4, 'primary_metric': 'normalized_root_mean_squared_error', 'task_type': 'regression', 'data_script': './automl-regression/get_data.py', 'validation_size': 0.0, 'n_cross_validations': 3, 'y_min': None, 'y_max': None, 'num_classes': None, 'featurization': 'auto', 'preprocess': True, 'lag_length': 0, 'is_timeseries': False, 'max_cores_per_iteration': 4, 'max_concurrent_iterations': 4, 'iteration_timeout_minutes': 3, 'mem_in_mb': None, 'enforce_time_on_windows': False, 'experiment_timeout_minutes': None, 'experiment_exit_score': None, 'whitelist_models': None, 'blacklist_algos': ['XGBoostRegressor', 'Prophet', 'KNN', 'SVM'], 'supported_models': ['ElasticNet', 'GradientBoosting', 'DecisionTree', 'KNN', 'LassoLars', 'SGD', 'RandomForest', 'ExtremeRandomTrees', 'LightGBM', 'XGBoostRegressor', 'FastLinearRegressor', 'OnlineGradientDescentRegressor', 'TensorFlowLinearRegressor', 'TensorFlowDNN'], 'auto_blacklist': True, 'blacklist_samples_reached': True, 'exclude_nan_labels': True, 'verbosity': 10, 'debug_log': 'azureml_automl.log', 'show_warnings': False, 'model_explainability': False, 'service_url': None, 'sdk_url': None, 'sdk_packages': None, 'enable_onnx_compatible_models': False, 'enable_split_onnx_featurizer_estimator_models': False, 'vm_type': 'STANDARD_D12_V2', 'telemetry_verbosity': 'INFO', 'send_telemetry': True, 'enable_dnn': False, 'enable_feature_sweeping': True, 'enable_early_stopping': False, 'early_stopping_n_iters': 10, 'metrics': None, 'enable_ensembling': True, 'enable_stack_ensembling': True, 'ensemble_iterations': 4, 'enable_tf': False, 'enable_cache': True, 'enable_subsampling': False, 'subsample_seed': None, 'enable_nimbusml': False, 'enable_streaming': False, 'label_column_name': None, 'weight_column_name': None, 'cost_mode': 0, 'metric_operation': 'minimize'}\", \"AMLSettingsJsonString\": \"{\\\"name\\\":\\\"automl-regression\\\",\\\"path\\\":\\\"./automl-regression\\\",\\\"subscription_id\\\":\\\"fdbba0bc-f686-4b8b-8b29-394e0d9ae697\\\",\\\"resource_group\\\":\\\"Quick-Starts-Update\\\",\\\"workspace_name\\\":\\\"quick-starts-ws-basic\\\",\\\"region\\\":\\\"eastus\\\",\\\"compute_target\\\":\\\"cpucluster\\\",\\\"spark_service\\\":null,\\\"azure_service\\\":null,\\\"iterations\\\":4,\\\"primary_metric\\\":\\\"normalized_root_mean_squared_error\\\",\\\"task_type\\\":\\\"regression\\\",\\\"data_script\\\":\\\"./automl-regression/get_data.py\\\",\\\"validation_size\\\":0.0,\\\"n_cross_validations\\\":3,\\\"y_min\\\":null,\\\"y_max\\\":null,\\\"num_classes\\\":null,\\\"featurization\\\":\\\"auto\\\",\\\"preprocess\\\":true,\\\"lag_length\\\":0,\\\"is_timeseries\\\":false,\\\"max_cores_per_iteration\\\":4,\\\"max_concurrent_iterations\\\":4,\\\"iteration_timeout_minutes\\\":3,\\\"mem_in_mb\\\":null,\\\"enforce_time_on_windows\\\":false,\\\"experiment_timeout_minutes\\\":null,\\\"experiment_exit_score\\\":null,\\\"whitelist_models\\\":null,\\\"blacklist_algos\\\":[\\\"XGBoostRegressor\\\",\\\"Prophet\\\",\\\"KNN\\\",\\\"SVM\\\",\\\"AutoArima\\\"],\\\"supported_models\\\":[\\\"ElasticNet\\\",\\\"GradientBoosting\\\",\\\"DecisionTree\\\",\\\"KNN\\\",\\\"LassoLars\\\",\\\"SGD\\\",\\\"RandomForest\\\",\\\"ExtremeRandomTrees\\\",\\\"LightGBM\\\",\\\"XGBoostRegressor\\\",\\\"FastLinearRegressor\\\",\\\"OnlineGradientDescentRegressor\\\",\\\"TensorFlowLinearRegressor\\\",\\\"TensorFlowDNN\\\"],\\\"auto_blacklist\\\":true,\\\"blacklist_samples_reached\\\":true,\\\"exclude_nan_labels\\\":true,\\\"verbosity\\\":10,\\\"debug_log\\\":\\\"azureml_automl.log\\\",\\\"show_warnings\\\":false,\\\"model_explainability\\\":false,\\\"service_url\\\":null,\\\"sdk_url\\\":null,\\\"sdk_packages\\\":null,\\\"enable_onnx_compatible_models\\\":false,\\\"enable_split_onnx_featurizer_estimator_models\\\":false,\\\"vm_type\\\":\\\"STANDARD_D12_V2\\\",\\\"telemetry_verbosity\\\":\\\"INFO\\\",\\\"send_telemetry\\\":true,\\\"enable_dnn\\\":false,\\\"enable_feature_sweeping\\\":true,\\\"enable_early_stopping\\\":false,\\\"early_stopping_n_iters\\\":10,\\\"metrics\\\":null,\\\"enable_ensembling\\\":true,\\\"enable_stack_ensembling\\\":true,\\\"ensemble_iterations\\\":4,\\\"enable_tf\\\":false,\\\"enable_cache\\\":true,\\\"enable_subsampling\\\":false,\\\"subsample_seed\\\":null,\\\"enable_nimbusml\\\":false,\\\"enable_streaming\\\":false,\\\"label_column_name\\\":null,\\\"weight_column_name\\\":null,\\\"cost_mode\\\":0,\\\"metric_operation\\\":\\\"minimize\\\"}\", \"DataPrepJsonString\": null, \"EnableSubsampling\": \"False\", \"runTemplate\": \"AutoML\", \"azureml.runsource\": \"automl\", \"display_task_type\": \"regression\", \"dependencies_versions\": \"{\\\"azureml-widgets\\\": \\\"1.0.72\\\", \\\"azureml-train\\\": \\\"1.0.72\\\", \\\"azureml-train-restclients-hyperdrive\\\": \\\"1.0.72\\\", \\\"azureml-train-core\\\": \\\"1.0.72\\\", \\\"azureml-train-automl\\\": \\\"1.0.72\\\", \\\"azureml-telemetry\\\": \\\"1.0.72\\\", \\\"azureml-sdk\\\": \\\"1.0.72\\\", \\\"azureml-pipeline\\\": \\\"1.0.72\\\", \\\"azureml-pipeline-steps\\\": \\\"1.0.72\\\", \\\"azureml-pipeline-core\\\": \\\"1.0.72\\\", \\\"azureml-opendatasets\\\": \\\"1.0.72.1\\\", \\\"azureml-model-management-sdk\\\": \\\"1.0.1b6.post1\\\", \\\"azureml-interpret\\\": \\\"1.0.72.1\\\", \\\"azureml-explain-model\\\": \\\"1.0.72\\\", \\\"azureml-defaults\\\": \\\"1.0.72\\\", \\\"azureml-dataprep\\\": \\\"1.1.30\\\", \\\"azureml-dataprep-native\\\": \\\"13.1.0\\\", \\\"azureml-core\\\": \\\"1.0.72\\\", \\\"azureml-contrib-notebook\\\": \\\"1.0.72\\\", \\\"azureml-automl-core\\\": \\\"1.0.72.1\\\"}\", \"ContentSnapshotId\": \"cdc01fed-284f-4007-a63d-471d859f42b3\", \"snapshotId\": \"cdc01fed-284f-4007-a63d-471d859f42b3\", \"azureml.git.repository_uri\": \"https://github.com/solliancenet/azure-machine-learning-quickstarts\", \"mlflow.source.git.repoURL\": \"https://github.com/solliancenet/azure-machine-learning-quickstarts\", \"azureml.git.branch\": \"master\", \"mlflow.source.git.branch\": \"master\", \"azureml.git.commit\": \"e1c22ab2b13f6eace23bdcb929f51d9a2b4a765b\", \"mlflow.source.git.commit\": \"e1c22ab2b13f6eace23bdcb929f51d9a2b4a765b\", \"azureml.git.dirty\": \"True\", \"SetupRunId\": \"AutoML_fecda615-b0bf-4fad-af07-431510cbb972_setup\", \"ProblemInfoJsonString\": \"{\\\"dataset_num_categorical\\\": 0, \\\"is_sparse\\\": true, \\\"subsampling\\\": false, \\\"dataset_classes\\\": 810, \\\"dataset_features\\\": 85, \\\"dataset_samples\\\": 11734, \\\"single_frequency_class_detected\\\": false}\"}, \"tags\": {\"model_explain_run\": \"best_run\", \"experiment_status\": \"ModelSelection\", \"experiment_status_descr\": \"Beginning model selection.\", \"pipeline_id\": \"<32df138275f39f2b0ba907646396aa556f989aa2>;<20f1df2fc8440a1f2a730b2da66fa3f61a73de6f>;<__AutoML_Ensemble__>;<__AutoML_Stack_Ensemble__>;\", \"score\": \"<0.013251986252423>;<0.0134396504742814>;<0.0132685904820488>;<0.0134051111923278>;\", \"predicted_cost\": \"<0.5>;<0.5>;<0>;<0>;\", \"fit_time\": \"<0.014919>;<0.0106886666666667>;<10>;<3>;\", \"training_percent\": \"<100>;<100>;<100>;<100>;\", \"iteration\": \"<0>;<1>;<2>;<3>;\", \"run_preprocessor\": \"<StandardScalerWrapper>;<StandardScalerWrapper>;<>;<>;\", \"run_algorithm\": \"<ElasticNet>;<ElasticNet>;<VotingEnsemble>;<StackEnsemble>;\"}, \"end_time_utc\": \"2019-12-03T02:58:44.324023Z\", \"status\": \"Completed\", \"log_files\": {}, \"log_groups\": [], \"run_duration\": \"0:05:04\"}, \"child_runs\": [{\"run_id\": \"AutoML_fecda615-b0bf-4fad-af07-431510cbb972_0\", \"run_number\": 69, \"metric\": null, \"status\": \"Completed\", \"run_type\": \"azureml.scriptrun\", \"training_percent\": \"100\", \"start_time\": \"2019-12-03T02:55:52.767469Z\", \"end_time\": \"2019-12-03T02:56:58.544866Z\", \"created_time\": \"2019-12-03T02:55:39.783223Z\", \"created_time_dt\": \"2019-12-03T02:55:39.783223Z\", \"duration\": \"0:01:18\", \"iteration\": \"0\", \"goal\": \"normalized_root_mean_squared_error_min\", \"run_name\": \"StandardScalerWrapper, ElasticNet\", \"run_properties\": \"<automl.client.core.runtime.model_wrappers.StandardScalerWrapper object at 0x7f94adafd550\", \"primary_metric\": 0.01325199, \"best_metric\": 0.01325199}, {\"run_id\": \"AutoML_fecda615-b0bf-4fad-af07-431510cbb972_1\", \"run_number\": 70, \"metric\": null, \"status\": \"Completed\", \"run_type\": \"azureml.scriptrun\", \"training_percent\": \"100\", \"start_time\": \"2019-12-03T02:55:56.335735Z\", \"end_time\": \"2019-12-03T02:57:02.619477Z\", \"created_time\": \"2019-12-03T02:55:39.867353Z\", \"created_time_dt\": \"2019-12-03T02:55:39.867353Z\", \"duration\": \"0:01:22\", \"iteration\": \"1\", \"goal\": \"normalized_root_mean_squared_error_min\", \"run_name\": \"StandardScalerWrapper, ElasticNet\", \"run_properties\": \"<automl.client.core.runtime.model_wrappers.StandardScalerWrapper object at 0x7f525e838828\", \"primary_metric\": 0.01343965, \"best_metric\": 0.01325199}, {\"run_id\": \"AutoML_fecda615-b0bf-4fad-af07-431510cbb972_2\", \"run_number\": 71, \"metric\": null, \"status\": \"Completed\", \"run_type\": \"azureml.scriptrun\", \"training_percent\": \"100\", \"start_time\": \"2019-12-03T02:57:25.7486Z\", \"end_time\": \"2019-12-03T02:58:39.644529Z\", \"created_time\": \"2019-12-03T02:57:09.007224Z\", \"created_time_dt\": \"2019-12-03T02:57:09.007224Z\", \"duration\": \"0:01:30\", \"iteration\": \"2\", \"goal\": \"normalized_root_mean_squared_error_min\", \"run_name\": \"VotingEnsemble\", \"run_properties\": \"estimators=[('0', Pipeline(memory=None,\\n     steps=[('standardscalerwrapper', <automl.client.core.runtime.model_wrappers.StandardScalerWrapper object at 0x7ff770701c88>\", \"primary_metric\": 0.01326859, \"best_metric\": 0.01325199}, {\"run_id\": \"AutoML_fecda615-b0bf-4fad-af07-431510cbb972_3\", \"run_number\": 72, \"metric\": null, \"status\": \"Completed\", \"run_type\": \"azureml.scriptrun\", \"training_percent\": \"100\", \"start_time\": \"2019-12-03T02:57:26.720011Z\", \"end_time\": \"2019-12-03T02:58:30.489752Z\", \"created_time\": \"2019-12-03T02:57:09.090031Z\", \"created_time_dt\": \"2019-12-03T02:57:09.090031Z\", \"duration\": \"0:01:21\", \"iteration\": \"3\", \"goal\": \"normalized_root_mean_squared_error_min\", \"run_name\": \"StackEnsemble\", \"run_properties\": \"base_learners=[('0', Pipeline(memory=None,\\n     steps=[('standardscalerwrapper', <automl.client.core.runtime.model_wrappers.StandardScalerWrapper object at 0x7f770f586e10>\", \"primary_metric\": 0.01340511, \"best_metric\": 0.01325199}], \"children_metrics\": {\"categories\": [0], \"series\": {\"normalized_mean_absolute_error\": [{\"categories\": [\"0\", \"1\", \"2\", \"3\"], \"mode\": \"markers\", \"name\": \"normalized_mean_absolute_error\", \"stepped\": false, \"type\": \"scatter\", \"data\": [0.0064736068124954665, 0.00674367026559066, 0.0065148809431378974, 0.006530960776012655]}, {\"categories\": [\"0\", \"1\", \"2\", \"3\"], \"mode\": \"lines\", \"name\": \"normalized_mean_absolute_error_min\", \"stepped\": true, \"type\": \"scatter\", \"data\": [0.0064736068124954665, 0.0064736068124954665, 0.0064736068124954665, 0.0064736068124954665]}], \"mean_absolute_percentage_error\": [{\"categories\": [\"0\", \"1\", \"2\", \"3\"], \"mode\": \"markers\", \"name\": \"mean_absolute_percentage_error\", \"stepped\": false, \"type\": \"scatter\", \"data\": [15.02401006023905, 16.730072022314488, 15.381069120350324, 15.12309842144031]}, {\"categories\": [\"0\", \"1\", \"2\", \"3\"], \"mode\": \"lines\", \"name\": \"mean_absolute_percentage_error_min\", \"stepped\": true, \"type\": \"scatter\", \"data\": [15.02401006023905, 15.02401006023905, 15.02401006023905, 15.02401006023905]}], \"normalized_root_mean_squared_log_error\": [{\"categories\": [\"0\", \"1\", \"2\", \"3\"], \"mode\": \"markers\", \"name\": \"normalized_root_mean_squared_log_error\", \"stepped\": false, \"type\": \"scatter\", \"data\": [0.04334163236918378, 0.04561702652070273, 0.043749896671973036, 0.04361715299098771]}, {\"categories\": [\"0\", \"1\", \"2\", \"3\"], \"mode\": \"lines\", \"name\": \"normalized_root_mean_squared_log_error_min\", \"stepped\": true, \"type\": \"scatter\", \"data\": [0.04334163236918378, 0.04334163236918378, 0.04334163236918378, 0.04334163236918378]}], \"explained_variance\": [{\"categories\": [\"0\", \"1\", \"2\", \"3\"], \"mode\": \"markers\", \"name\": \"explained_variance\", \"stepped\": false, \"type\": \"scatter\", \"data\": [0.833823433593289, 0.8294485259701051, 0.833496210843208, 0.8301785752173666]}, {\"categories\": [\"0\", \"1\", \"2\", \"3\"], \"mode\": \"lines\", \"name\": \"explained_variance_max\", \"stepped\": true, \"type\": \"scatter\", \"data\": [0.833823433593289, 0.833823433593289, 0.833823433593289, 0.833823433593289]}], \"spearman_correlation\": [{\"categories\": [\"0\", \"1\", \"2\", \"3\"], \"mode\": \"markers\", \"name\": \"spearman_correlation\", \"stepped\": false, \"type\": \"scatter\", \"data\": [0.9376063125826612, 0.9360902441479014, 0.9374123265374301, 0.9374747273807108]}, {\"categories\": [\"0\", \"1\", \"2\", \"3\"], \"mode\": \"lines\", \"name\": \"spearman_correlation_max\", \"stepped\": true, \"type\": \"scatter\", \"data\": [0.9376063125826612, 0.9376063125826612, 0.9376063125826612, 0.9376063125826612]}], \"r2_score\": [{\"categories\": [\"0\", \"1\", \"2\", \"3\"], \"mode\": \"markers\", \"name\": \"r2_score\", \"stepped\": false, \"type\": \"scatter\", \"data\": [0.8338197689744568, 0.829442564607508, 0.8334921501132531, 0.8301706091283324]}, {\"categories\": [\"0\", \"1\", \"2\", \"3\"], \"mode\": \"lines\", \"name\": \"r2_score_max\", \"stepped\": true, \"type\": \"scatter\", \"data\": [0.8338197689744568, 0.8338197689744568, 0.8338197689744568, 0.8338197689744568]}], \"root_mean_squared_log_error\": [{\"categories\": [\"0\", \"1\", \"2\", \"3\"], \"mode\": \"markers\", \"name\": \"root_mean_squared_log_error\", \"stepped\": false, \"type\": \"scatter\", \"data\": [0.1894656755747363, 0.19941244191810234, 0.19125038158862454, 0.19067009954059433]}, {\"categories\": [\"0\", \"1\", \"2\", \"3\"], \"mode\": \"lines\", \"name\": \"root_mean_squared_log_error_min\", \"stepped\": true, \"type\": \"scatter\", \"data\": [0.1894656755747363, 0.1894656755747363, 0.1894656755747363, 0.1894656755747363]}], \"normalized_median_absolute_error\": [{\"categories\": [\"0\", \"1\", \"2\", \"3\"], \"mode\": \"markers\", \"name\": \"normalized_median_absolute_error\", \"stepped\": false, \"type\": \"scatter\", \"data\": [0.004076290165915521, 0.004661665876382, 0.004206704470560116, 0.004075340425264257]}, {\"categories\": [\"0\", \"1\", \"2\", \"3\"], \"mode\": \"lines\", \"name\": \"normalized_median_absolute_error_min\", \"stepped\": true, \"type\": \"scatter\", \"data\": [0.004076290165915521, 0.004076290165915521, 0.004076290165915521, 0.004075340425264257]}], \"mean_absolute_error\": [{\"categories\": [\"0\", \"1\", \"2\", \"3\"], \"mode\": \"markers\", \"name\": \"mean_absolute_error\", \"stepped\": false, \"type\": \"scatter\", \"data\": [2.175649777543476, 2.266412702859709, 2.189521187369784, 2.194925297602333]}, {\"categories\": [\"0\", \"1\", \"2\", \"3\"], \"mode\": \"lines\", \"name\": \"mean_absolute_error_min\", \"stepped\": true, \"type\": \"scatter\", \"data\": [2.175649777543476, 2.175649777543476, 2.175649777543476, 2.175649777543476]}], \"normalized_root_mean_squared_error\": [{\"categories\": [\"0\", \"1\", \"2\", \"3\"], \"mode\": \"markers\", \"name\": \"normalized_root_mean_squared_error\", \"stepped\": false, \"type\": \"scatter\", \"data\": [0.013251986252422979, 0.013439650474281402, 0.01326859048204875, 0.013405111192327816]}, {\"categories\": [\"0\", \"1\", \"2\", \"3\"], \"mode\": \"lines\", \"name\": \"normalized_root_mean_squared_error_min\", \"stepped\": true, \"type\": \"scatter\", \"data\": [0.013251986252422979, 0.013251986252422979, 0.013251986252422979, 0.013251986252422979]}], \"root_mean_squared_error\": [{\"categories\": [\"0\", \"1\", \"2\", \"3\"], \"mode\": \"markers\", \"name\": \"root_mean_squared_error\", \"stepped\": false, \"type\": \"scatter\", \"data\": [4.453727539714315, 4.516797731396493, 4.4593078892069435, 4.505189769517532]}, {\"categories\": [\"0\", \"1\", \"2\", \"3\"], \"mode\": \"lines\", \"name\": \"root_mean_squared_error_min\", \"stepped\": true, \"type\": \"scatter\", \"data\": [4.453727539714315, 4.453727539714315, 4.453727539714315, 4.453727539714315]}], \"median_absolute_error\": [{\"categories\": [\"0\", \"1\", \"2\", \"3\"], \"mode\": \"markers\", \"name\": \"median_absolute_error\", \"stepped\": false, \"type\": \"scatter\", \"data\": [1.3699595989608884, 1.5666926677344624, 1.4137892384658437, 1.3696404101228115]}, {\"categories\": [\"0\", \"1\", \"2\", \"3\"], \"mode\": \"lines\", \"name\": \"median_absolute_error_min\", \"stepped\": true, \"type\": \"scatter\", \"data\": [1.3699595989608884, 1.3699595989608884, 1.3699595989608884, 1.3696404101228115]}]}, \"metricName\": null, \"primaryMetricName\": \"normalized_root_mean_squared_error\", \"showLegend\": false}, \"run_metrics\": [], \"run_logs\": \"\\nRun is completed.\", \"graph\": {}, \"widget_settings\": {\"childWidgetDisplay\": \"popup\", \"send_telemetry\": false, \"log_level\": \"INFO\", \"sdk_version\": \"1.0.72\"}, \"loading\": false}"
          },
          "metadata": {}
        }
      ]
    },
    {
      "metadata": {},
      "cell_type": "markdown",
      "source": "### Get the best run and the trained model\n\nAt this point you have multiple runs, each with a different trained models. How can you get the model that performed the best? Run the following cells to learn how."
    },
    {
      "metadata": {
        "trusted": true
      },
      "cell_type": "code",
      "source": "best_run, fitted_model = remote_run.get_output()\nprint(best_run)\nprint(fitted_model)",
      "execution_count": 15,
      "outputs": [
        {
          "output_type": "stream",
          "text": "Run(Experiment: automl-regression,\nId: AutoML_fecda615-b0bf-4fad-af07-431510cbb972_0,\nType: azureml.scriptrun,\nStatus: Completed)\nRegressionPipeline(pipeline=Pipeline(memory=None,\n     steps=[('datatransformer', DataTransformer(enable_dnn=None, enable_feature_sweeping=None,\n        feature_sweeping_config=None, feature_sweeping_timeout=None,\n        featurization_config=None, is_cross_validation=None,\n        is_onnx_compatible=None, logger=None, observer=None, task=None)), ('Stan...alse, precompute=False, random_state=None,\n      selection='cyclic', tol=0.0001, warm_start=False))]),\n          stddev=None)\n",
          "name": "stdout"
        }
      ]
    },
    {
      "metadata": {},
      "cell_type": "markdown",
      "source": "At this point you now have a model you could use for predicting NYC Taxi Fares. You would typically use this model in one of two ways:\n- Use the model file within other notebooks to batch score predictions.\n- Deploy the model file as a web service that applications can call. \n\nIn the following, you will explore the latter option to deploy the best model as a web service."
    },
    {
      "metadata": {},
      "cell_type": "markdown",
      "source": "## Download the best model \nWith a run object in hand, it is trivial to download the model. "
    },
    {
      "metadata": {
        "trusted": true
      },
      "cell_type": "code",
      "source": "# fetch the best model\nbest_run.download_file(\"outputs/model.pkl\",\n                       output_file_path = \"./model.pkl\")",
      "execution_count": 16,
      "outputs": []
    },
    {
      "metadata": {},
      "cell_type": "markdown",
      "source": "## Register Model\n\nAzure Machine Learning provides a Model Registry that acts like a version controlled repository for each of your trained models. To version a model, you use  the SDK as follows. Run the following cell to register the best model with Azure Machine Learning. "
    },
    {
      "metadata": {
        "trusted": true
      },
      "cell_type": "code",
      "source": "# register the model for deployment\nmodel = Model.register(model_path = \"./model.pkl\", # this points to a local file\n                       model_name = \"nyc-taxi-automl-predictor\", # name the model is registered as\n                       tags = {'area': \"auto\", 'type': \"regression\"}, \n                       description = \"NYC Taxi Fare Predictor\", \n                       workspace = ws)\n\nprint(\"Model registered: {} \\nModel Description: {} \\nModel Version: {}\".format(model.name, \n                                                                                model.description, model.version))",
      "execution_count": 17,
      "outputs": [
        {
          "output_type": "stream",
          "text": "Registering model nyc-taxi-automl-predictor\nModel registered: nyc-taxi-automl-predictor \nModel Description: NYC Taxi Fare Predictor \nModel Version: 3\n",
          "name": "stdout"
        }
      ]
    },
    {
      "metadata": {},
      "cell_type": "markdown",
      "source": "## Deploy the Model as a Web Service"
    },
    {
      "metadata": {},
      "cell_type": "markdown",
      "source": "### Create the Scoring Script\n\nAzure Machine Learning SDK gives you control over the logic of the web service, so that you can define how it retrieves the model and how the model is used for scoring. This is an important bit of flexibility. For example, you often have to prepare any input data before sending it to your model for scoring. You can define this data preparation logic (as well as the model loading approach) in the scoring file. \n\nRun the following cell to create a scoring file that will be included in the Docker Image that contains your deployed web service.\n\n**Important** Please update the `model_name` variable in the script below. The model name should be the same as the `Registered model name` printed above."
    },
    {
      "metadata": {
        "trusted": true
      },
      "cell_type": "code",
      "source": "%%writefile scoring_service.py\n\nimport json\nimport numpy as np\nimport azureml.train.automl\n\ncolumns = ['vendorID', 'passengerCount', 'tripDistance', 'hour_of_day', 'day_of_week', 'day_of_month', \n           'month_num', 'normalizeHolidayName', 'isPaidTimeOff', 'snowDepth', 'precipTime', \n           'precipDepth', 'temperature']\n\ndef init():\n    try:\n        # One-time initialization of predictive model and scaler\n        from azureml.core.model import Model\n        from sklearn.externals import joblib\n        global model\n        \n        model_name = 'nyc-taxi-automl-predictor'\n        print('Looking for model path for model: ', model_name)\n        model_path = Model.get_model_path(model_name=model_name)\n        print('Looking for model in: ', model_path)\n        model = joblib.load(model_path)\n        print('Model loaded...')\n\n    except Exception as e:\n        print('Exception during init: ', str(e))\n\ndef run(input_json):     \n    try:\n        inputs = json.loads(input_json)\n        # Get the predictions...\n        prediction = model.predict(np.array(inputs).reshape(-1, len(columns))).tolist()\n        prediction = json.dumps(prediction)\n    except Exception as e:\n        prediction = str(e)\n    return prediction",
      "execution_count": 18,
      "outputs": [
        {
          "output_type": "stream",
          "text": "Writing scoring_service.py\n",
          "name": "stdout"
        }
      ]
    },
    {
      "metadata": {},
      "cell_type": "markdown",
      "source": "## Package Model\n\nRun the next two cells to create the deployment **Image**\n\n*WARNING: to install, build-essential needs to be available on the Docker image and is not by default. Thus, we will create a custom dockerfile with build-essential installed.*"
    },
    {
      "metadata": {
        "trusted": true
      },
      "cell_type": "code",
      "source": "%%writefile dockerfile\nRUN apt-get update && apt-get install -y build-essential",
      "execution_count": 19,
      "outputs": [
        {
          "output_type": "stream",
          "text": "Writing dockerfile\n",
          "name": "stdout"
        }
      ]
    },
    {
      "metadata": {
        "trusted": true
      },
      "cell_type": "code",
      "source": "# create a Conda dependencies environment file\nprint(\"Creating conda dependencies file locally...\")\nfrom azureml.core.conda_dependencies import CondaDependencies \nconda_packages = ['numpy', 'scikit-learn']\npip_packages = ['azureml-sdk[automl]']\nmycondaenv = CondaDependencies.create(conda_packages=conda_packages, pip_packages=pip_packages)\n\nconda_file = 'automl_dependencies.yml'\nwith open(conda_file, 'w') as f:\n    f.write(mycondaenv.serialize_to_string())\n\nruntime = 'python'\n\n# create container image configuration\nprint(\"Creating container image configuration...\")\nfrom azureml.core.image import ContainerImage\nimage_config = ContainerImage.image_configuration(execution_script = 'scoring_service.py', \n                                                  runtime = runtime,\n                                                  conda_file = conda_file, \n                                                  docker_file = 'dockerfile')\n\n# create the image\nimage_name = 'nyc-taxi-automl-image'\n\nfrom azureml.core import Image\nimage = Image.create(name=image_name, models=[model], image_config=image_config, workspace=ws)\n\n# wait for image creation to finish\nimage.wait_for_creation(show_output=True)",
      "execution_count": 20,
      "outputs": [
        {
          "output_type": "stream",
          "text": "Creating conda dependencies file locally...\nCreating container image configuration...\nCreating image\nRunning..............................................................\nSucceeded\nImage creation operation finished for image nyc-taxi-automl-image:12, operation \"Succeeded\"\n",
          "name": "stdout"
        }
      ]
    },
    {
      "metadata": {},
      "cell_type": "markdown",
      "source": "## Deploy Model to Azure Container Instance (ACI) as a Web Service"
    },
    {
      "metadata": {
        "trusted": true
      },
      "cell_type": "code",
      "source": "from azureml.core.webservice import AciWebservice, Webservice\n\naci_name = 'automl-aci-cluster01'\n\naci_config = AciWebservice.deploy_configuration(\n    cpu_cores = 1, \n    memory_gb = 1, \n    tags = {'name': aci_name}, \n    description = 'NYC Taxi Fare Predictor Web Service')\n\nservice_name = 'nyc-taxi-automl-service'\n\naci_service = Webservice.deploy_from_image(deployment_config=aci_config, \n                                           image=image, \n                                           name=service_name, \n                                           workspace=ws)\n\naci_service.wait_for_deployment(show_output=True)",
      "execution_count": 21,
      "outputs": [
        {
          "output_type": "stream",
          "text": "Running.......................\nSucceeded\nACI service creation operation finished, operation \"Succeeded\"\n",
          "name": "stdout"
        }
      ]
    },
    {
      "metadata": {},
      "cell_type": "markdown",
      "source": "## Test the deployed web service"
    },
    {
      "metadata": {},
      "cell_type": "markdown",
      "source": "### Make direct calls on the service object"
    },
    {
      "metadata": {
        "trusted": true
      },
      "cell_type": "code",
      "source": "import json\n\ndata1 = [1, 2, 5, 9, 4, 27, 5, 'Memorial Day', True, 0, 0.0, 0.0, 65]\n\ndata2 = [[1, 3, 10, 15, 4, 27, 7, 'None', False, 0, 2.0, 1.0, 80], \n         [1, 2, 5, 9, 4, 27, 5, 'Memorial Day', True, 0, 0.0, 0.0, 65]]\n\nresult = aci_service.run(json.dumps(data1))\nprint('Predictions for data1')\nprint(result)\n\nresult = aci_service.run(json.dumps(data2))\nprint('Predictions for data2')\nprint(result)",
      "execution_count": 22,
      "outputs": [
        {
          "output_type": "stream",
          "text": "Predictions for data1\n[22.378127578013636]\nPredictions for data2\n[39.714977643580596, 22.378127578013636]\n",
          "name": "stdout"
        }
      ]
    },
    {
      "metadata": {},
      "cell_type": "markdown",
      "source": "### Make HTTP calls to test the deployed Web Service"
    },
    {
      "metadata": {
        "trusted": true
      },
      "cell_type": "code",
      "source": "import requests\n\nurl = aci_service.scoring_uri\nprint('ACI Service: {} scoring URI is: {}'.format(service_name, url))\nheaders = {'Content-Type':'application/json'}\n\nresponse = requests.post(url, json.dumps(data1), headers=headers)\nprint('Predictions for data1')\nprint(response.text)\nresponse = requests.post(url, json.dumps(data2), headers=headers)\nprint('Predictions for data2')\nprint(response.text)",
      "execution_count": 23,
      "outputs": [
        {
          "output_type": "stream",
          "text": "ACI Service: nyc-taxi-automl-service scoring URI is: http://666fc693-c6fe-4a70-8f21-84f74cab22d7.eastus.azurecontainer.io/score\nPredictions for data1\n\"[22.378127578013636]\"\nPredictions for data2\n\"[39.714977643580596, 22.378127578013636]\"\n",
          "name": "stdout"
        }
      ]
    },
    {
      "metadata": {
        "trusted": false
      },
      "cell_type": "code",
      "source": "",
      "execution_count": null,
      "outputs": []
    }
  ],
  "metadata": {
    "kernelspec": {
      "name": "python36",
      "display_name": "Python 3.6",
      "language": "python"
    },
    "language_info": {
      "mimetype": "text/x-python",
      "nbconvert_exporter": "python",
      "name": "python",
      "pygments_lexer": "ipython3",
      "version": "3.6.6",
      "file_extension": ".py",
      "codemirror_mode": {
        "version": 3,
        "name": "ipython"
      }
    }
  },
  "nbformat": 4,
  "nbformat_minor": 2
}