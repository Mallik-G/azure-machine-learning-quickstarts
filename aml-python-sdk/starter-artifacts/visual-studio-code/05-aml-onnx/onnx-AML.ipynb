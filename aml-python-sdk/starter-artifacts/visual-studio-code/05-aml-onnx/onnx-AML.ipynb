{
 "cells": [
  {
   "cell_type": "markdown",
   "metadata": {},
   "source": [
    "# Train a deep learning model\n",
    "In this notebook you will train a deep learning model to classify the descriptions of car components as compliant or non-compliant. \n",
    "\n",
    "Each document in the supplied training data set is a short text description of the component as documented by an authorized technician. \n",
    "The contents include:\n",
    "- Manufacture year of the component (e.g. 1985, 2010)\n",
    "- Condition of the component (poor, fair, good, new)\n",
    "- Materials used in the component (plastic, carbon fiber, steel, iron)\n",
    "\n",
    "The compliance regulations dictate:\n",
    "*Any component manufactured before 1995 or in fair or poor condition or made with plastic or iron is out of compliance.*\n",
    "\n",
    "For example:\n",
    "* Manufactured in 1985 made of steel in fair condition -> **Non-compliant**\n",
    "* Good condition carbon fiber component manufactured in 2010 -> **Compliant**\n",
    "* Steel component manufactured in 1995 in fair condition -> **Non-Compliant**\n",
    "\n",
    "The labels present in this data are 0 for compliant, 1 for non-compliant.\n",
    "\n",
    "The challenge with classifying text data is that deep learning models only undertand vectors (e.g., arrays of numbers) and not text. To encode the car component descriptions as vectors, we use an algorithm from Stanford called [GloVe (Global Vectors for Word Representation)](https://nlp.stanford.edu/projects/glove/). GloVe provides us pre-trained vectors that we can use to convert a string of text into a vector. "
   ]
  },
  {
   "cell_type": "markdown",
   "metadata": {},
   "source": [
    "# Create the Azure Machine Learning resources"
   ]
  },
  {
   "cell_type": "markdown",
   "metadata": {},
   "source": [
    "The Azure Machine Learning SDK provides a comprehensive set of a capabilities that you can use directly within a notebook including:\n",
    "- Creating a **Workspace** that acts as the root object to organize all artifacts and resources used by Azure Machine Learning.\n",
    "- Creating **Experiments** in your Workspace that capture versions of the trained model along with any desired model performance telemetry. Each time you train a model and evaluate its results, you can capture that run (model and telemetry) within an Experiment.\n",
    "- Creating **Compute** resources that can be used to scale out model training, so that while your notebook may be running in a lightweight container in Azure Notebooks, your model training can actually occur on a powerful cluster that can provide large amounts of memory, CPU or GPU. \n",
    "- Using **Automated Machine Learning (AutoML)** to automatically train multiple versions of a model using a mix of different ways to prepare the data and different algorithms and hyperparameters (algorithm settings) in search of the model that performs best according to a performance metric that you specify. \n",
    "- Packaging a Docker **Image** that contains everything your trained model needs for scoring (prediction) in order to run as a web service.\n",
    "- Deploying your Image to either Azure Kubernetes or Azure Container Instances, effectively hosting the **Web Service**.\n",
    "\n",
    "In Azure Notebooks, all of the libraries needed for Azure Machine Learning are pre-installed. To use them, you just need to import them. Run the following cell to do so:"
   ]
  },
  {
   "cell_type": "code",
   "execution_count": null,
   "metadata": {},
   "outputs": [],
   "source": [
    "import numpy as np\n",
    "import pandas as pd\n",
    "import os\n",
    "import urllib.request\n",
    "import json\n",
    "import azureml\n",
    "from azureml.core import Workspace\n",
    "from azureml.core.model import Model\n",
    "import keras\n",
    "from keras import models\n",
    "from keras.models import model_from_json\n",
    "from keras import layers\n",
    "from keras import optimizers\n",
    "from keras.preprocessing.text import Tokenizer\n",
    "from keras.preprocessing.sequence import pad_sequences\n",
    "from keras.models import load_model\n",
    "\n",
    "# Check core SDK version number\n",
    "print(\"SDK version:\", azureml.core.VERSION)"
   ]
  },
  {
   "cell_type": "markdown",
   "metadata": {},
   "source": [
    "### Setup\n",
    "To begin, you will need to provide the following information about your Azure Subscription.\n",
    "\n",
    "**If you are using your own Azure subscription, please provide names for subscription_id, resource_group, workspace_name and workspace_region to use.** Note that the workspace needs to be of type [Machine Learning Workspace](https://docs.microsoft.com/en-us/azure/machine-learning/service/setup-create-workspace).\n",
    "\n",
    "**If an environment is provided to you be sure to replace XXXXX in the values below with your unique identifier.**\n",
    "\n",
    "In the following cell, be sure to set the values for `subscription_id`, `resource_group`, `workspace_name` and `workspace_region` as directed by the comments (*these values can be acquired from the Azure Portal*).\n",
    "\n",
    "To get these values, do the following:\n",
    "1. Navigate to the Azure Portal and login with the credentials provided.\n",
    "2. From the left hand menu, under Favorites, select `Resource Groups`.\n",
    "3. In the list, select the resource group with the name similar to `XXXXX`.\n",
    "4. From the Overview tab, capture the desired values.\n",
    "\n",
    "Execute the following cell by selecting the `>|Run` button in the command bar above."
   ]
  },
  {
   "cell_type": "code",
   "execution_count": null,
   "metadata": {},
   "outputs": [],
   "source": [
    "#Provide the Subscription ID of your existing Azure subscription\n",
    "subscription_id = \"\" # <- needs to be the subscription with the Quick-Starts resource group\n",
    "\n",
    "#Provide values for the existing Resource Group \n",
    "resource_group = \"Quick-Starts-XXXXX\" # <- replace XXXXX with your unique identifier\n",
    "\n",
    "#Provide the Workspace Name and Azure Region of the Azure Machine Learning Workspace\n",
    "workspace_name = \"quick-starts-ws-XXXXX\" # <- replace XXXXX with your unique identifier\n",
    "workspace_region = \"eastus\" # <- region of your Quick-Starts resource group"
   ]
  },
  {
   "cell_type": "code",
   "execution_count": null,
   "metadata": {},
   "outputs": [],
   "source": [
    "deployment_folder = 'deploy'\n",
    "onnx_export_folder = 'onnx'\n",
    "\n",
    "# this is the URL to the CSV file containing the GloVe vectors\n",
    "glove_url = ('https://quickstartsws9073123377.blob.core.windows.net/'\n",
    "             'azureml-blobstore-0d1c4218-a5f9-418b-bf55-902b65277b85/'\n",
    "             'quickstarts/connected-car-data/glove.6B.100d.txt')\n",
    "\n",
    "# this is the URL to the CSV file containing the care component descriptions\n",
    "data_url = ('https://quickstartsws9073123377.blob.core.windows.net/'\n",
    "            'azureml-blobstore-0d1c4218-a5f9-418b-bf55-902b65277b85/'\n",
    "            'quickstarts/connected-car-data/connected-car_components.csv')"
   ]
  },
  {
   "cell_type": "code",
   "execution_count": null,
   "metadata": {},
   "outputs": [],
   "source": [
    "# Load the car components labeled data\n",
    "car_components_df = pd.read_csv(data_url)\n",
    "components = car_components_df[\"text\"].tolist()\n",
    "labels = car_components_df[\"label\"].tolist()"
   ]
  },
  {
   "cell_type": "code",
   "execution_count": null,
   "metadata": {},
   "outputs": [],
   "source": [
    "maxlen = 100                                           \n",
    "training_samples = 90000                                 \n",
    "validation_samples = 5000    \n",
    "max_words = 10000      \n",
    "\n",
    "tokenizer = Tokenizer(num_words=max_words)\n",
    "tokenizer.fit_on_texts(components)\n",
    "sequences = tokenizer.texts_to_sequences(components)\n",
    "\n",
    "word_index = tokenizer.word_index\n",
    "print('Found %s unique tokens.' % len(word_index))\n",
    "\n",
    "data = pad_sequences(sequences, maxlen=maxlen)\n",
    "\n",
    "labels = np.asarray(labels)\n",
    "print('Shape of data tensor:', data.shape)\n",
    "print('Shape of label tensor:', labels.shape)\n",
    "\n",
    "indices = np.arange(data.shape[0])                     \n",
    "np.random.shuffle(indices)\n",
    "data = data[indices]\n",
    "labels = labels[indices]\n",
    "\n",
    "x_train = data[:training_samples]\n",
    "y_train = labels[:training_samples]\n",
    "\n",
    "x_val = data[training_samples: training_samples + validation_samples]\n",
    "y_val = labels[training_samples: training_samples + validation_samples]\n",
    "\n",
    "x_test = data[training_samples + validation_samples:]\n",
    "y_test = labels[training_samples + validation_samples:]"
   ]
  },
  {
   "cell_type": "markdown",
   "metadata": {},
   "source": [
    "## Restore the model from model.h5 file"
   ]
  },
  {
   "cell_type": "markdown",
   "metadata": {},
   "source": [
    "The Keras model is saved in model.h5 file. Load a previously trained Keras model from the local **model** directory and review the model summary."
   ]
  },
  {
   "cell_type": "code",
   "execution_count": null,
   "metadata": {},
   "outputs": [],
   "source": [
    "cwd = os.getcwd()\n",
    "if cwd.endswith('/deploy'):\n",
    "    os.chdir('../')\n",
    "\n",
    "embedding_dim = 100\n",
    "maxlen = 100                                             \n",
    "max_words = 10000    \n",
    "\n",
    "from keras.models import Sequential\n",
    "from keras.layers import Embedding, Flatten, Dense\n",
    "\n",
    "model = Sequential()\n",
    "model.add(Embedding(max_words, embedding_dim, input_length=maxlen))\n",
    "model.add(Flatten())\n",
    "model.add(Dense(32, activation='relu'))\n",
    "model.add(Dense(1, activation='sigmoid'))\n",
    "\n",
    "# download the pretrained model from the deep learning quickstart\n",
    "os.makedirs('./model', exist_ok=True)\n",
    "model_url = ('https://quickstartsws9073123377.blob.core.windows.net/'\n",
    "             'azureml-blobstore-0d1c4218-a5f9-418b-bf55-902b65277b85/'\n",
    "             'quickstarts/dl-trained-model/model.h5')\n",
    "urllib.request.urlretrieve(model_url, os.path.join('./model', 'model.h5'))\n",
    "\n",
    "# load weights into new model\n",
    "model.load_weights(os.path.join('./model', 'model.h5'))\n",
    "print(\"Model loaded from disk.\")\n",
    "print(model.summary())"
   ]
  },
  {
   "cell_type": "markdown",
   "metadata": {},
   "source": [
    "# Converting a Keras model to ONNX\n",
    "In the steps that follow, you will convert Keras model you just trained to the ONNX format. This will enable you to use this model for classification in a very broad range of environments, outside of Azure Databricks including:\n",
    "\n",
    "- Web services \n",
    "- iOS and Android mobile apps\n",
    "- Windows apps\n",
    "- IoT devices\n",
    "\n",
    "Convert the model to ONNX by running the following cell."
   ]
  },
  {
   "cell_type": "code",
   "execution_count": null,
   "metadata": {},
   "outputs": [],
   "source": [
    "import onnxmltools\n",
    "\n",
    "# Convert the Keras model to ONNX\n",
    "onnx_model_name = 'component_compliance.onnx'\n",
    "converted_model = onnxmltools.convert_keras(model, onnx_model_name, target_opset=7)\n",
    "\n",
    "# Save the model locally...\n",
    "onnx_model_path = os.path.join(deployment_folder, onnx_export_folder)\n",
    "os.makedirs(onnx_model_path, exist_ok=True)\n",
    "onnxmltools.utils.save_model(converted_model, os.path.join(onnx_model_path,onnx_model_name))"
   ]
  },
  {
   "cell_type": "markdown",
   "metadata": {},
   "source": [
    "The above cell created a new file called `component_compliance.onnx` that contains the ONNX version of the model."
   ]
  },
  {
   "cell_type": "markdown",
   "metadata": {},
   "source": [
    "Now try using this ONNX model to classify a component description by running the following cell. Remeber the prediction will be a value close to 0 (non-compliant) or to 1 (compliant)."
   ]
  },
  {
   "cell_type": "markdown",
   "metadata": {},
   "source": [
    "# Compare ONNX Inference Performace with Keras\n",
    "\n",
    "Create an onnxruntime InferenceSession and observe the expected input shape for inference. Classify a sample data from test set using both ONNX and Keras. Remeber the prediction will be a value close to 0 (non-compliant) or to 1 (compliant).\n",
    "\n",
    "Next, we will evaluate the performance of ONNX and Keras by running the same sample 10,000 times. You will observe that ONNX is approximately 10 times faster than Keras in making inferences."
   ]
  },
  {
   "cell_type": "code",
   "execution_count": null,
   "metadata": {},
   "outputs": [],
   "source": [
    "import onnxruntime\n",
    "# Load the ONNX model and observe the expected input shape\n",
    "onnx_session = onnxruntime.InferenceSession(\n",
    "    os.path.join(os.path.join(deployment_folder, onnx_export_folder), onnx_model_name))\n",
    "input_name = onnx_session.get_inputs()[0].name\n",
    "output_name = onnx_session.get_outputs()[0].name\n",
    "print('Expected input shape: ', onnx_session.get_inputs()[0].shape)"
   ]
  },
  {
   "cell_type": "code",
   "execution_count": null,
   "metadata": {},
   "outputs": [],
   "source": [
    "# Grab one sample from the test data set\n",
    "x_test_float = np.reshape(x_test[1502].astype(np.float32), (1,100))\n",
    "# Confirm that the input shape is same as expected input shape\n",
    "print('Input shape: ', x_test_float.shape)\n",
    "\n",
    "# Run an ONNX session to classify the sample.\n",
    "print('ONNX prediction: ', onnx_session.run([output_name], {input_name : x_test_float}))\n",
    "\n",
    "# Use Keras to make predictions on the same sample\n",
    "print('Keras prediction: ', model.predict(x_test_float))\n",
    "\n",
    "# Next we will compare the performance of ONNX vs Keras\n",
    "import timeit\n",
    "n = 10000"
   ]
  },
  {
   "cell_type": "code",
   "execution_count": null,
   "metadata": {},
   "outputs": [],
   "source": [
    "start_time = timeit.default_timer()\n",
    "for i in range(n):\n",
    "    model.predict(x_test_float)\n",
    "keras_elapsed = timeit.default_timer() - start_time\n",
    "print('Keras performance: ', keras_elapsed)"
   ]
  },
  {
   "cell_type": "code",
   "execution_count": null,
   "metadata": {},
   "outputs": [],
   "source": [
    "start_time = timeit.default_timer()\n",
    "for i in range(n):\n",
    "    onnx_session.run([output_name], {input_name : x_test_float})\n",
    "onnx_elapsed = timeit.default_timer() - start_time\n",
    "print('ONNX performance: ', onnx_elapsed)\n",
    "print('ONNX is about {} times faster than Keras'.format(round(keras_elapsed/onnx_elapsed)))"
   ]
  },
  {
   "cell_type": "markdown",
   "metadata": {},
   "source": [
    "# Deploy Deep Learning ONNX format model as a web service\n",
    "To demonstrate one example of using the ONNX format model in a new environment, you will deploy the ONNX model to a webservice. On the web server, the only component required by the model is the ONNX Runtime, which is used to load the model and use it for scoring. Neither Keras nor TensorFlow are required on the web server.\n",
    "\n",
    "In this case, you will use the Azure Machine Learning service SDK to programmatically create a Workspace, register your model, create a container image for the web service that uses it and deploy that image on to an Azure Container Instance."
   ]
  },
  {
   "cell_type": "markdown",
   "metadata": {},
   "source": [
    "## Create and connect to an Azure Machine Learning Workspace\n",
    "\n",
    "Run the following cell to create a new Azure Machine Learning **Workspace**.\n",
    "\n",
    "**Important Note**: You will be prompted to login in the text that is output below the cell. Be sure to navigate to the URL displayed and enter the code that is provided. Once you have entered the code, return to this notebook and wait for the output to read `Workspace configuration succeeded`."
   ]
  },
  {
   "cell_type": "code",
   "execution_count": null,
   "metadata": {},
   "outputs": [],
   "source": [
    "import logging\n",
    "logging.getLogger(\"adal-python\").setLevel(logging.WARN)\n",
    "\n",
    "ws = Workspace.create(name = workspace_name,\n",
    "                      subscription_id = subscription_id,\n",
    "                      resource_group = resource_group, \n",
    "                      location = workspace_region,\n",
    "                      exist_ok = True)\n",
    "\n",
    "print('Workspace configuration succeeded')"
   ]
  },
  {
   "cell_type": "markdown",
   "metadata": {},
   "source": [
    "## Register Model\n",
    "\n",
    "Azure Machine Learning provides a Model Registry that acts like a version controlled repository for each of your trained models. To version a model, you use  the SDK as follows. Run the following cell to register the model with Azure Machine Learning. "
   ]
  },
  {
   "cell_type": "code",
   "execution_count": null,
   "metadata": {},
   "outputs": [],
   "source": [
    "# notice for the model_path, we supply the name of the outputs folder without a trailing slash\n",
    "# this will ensure both the model and the customestimators get uploaded.\n",
    "print(\"Registering and uploading model...\")\n",
    "model_name = 'component_compliance'\n",
    "model_description = 'Classify the descriptions of car components as compliant or non-compliant.'\n",
    "\n",
    "registered_model = Model.register(model_path=os.path.join(deployment_folder, onnx_export_folder), \n",
    "                                  model_name = model_name, \n",
    "                                  description = model_description, \n",
    "                                  workspace=ws)\n",
    "\n",
    "print(\"Model registered: {} \\nModel Description: {} \\nModel Version: {}\".format(registered_model.name, \n",
    "                                                                                registered_model.description, \n",
    "                                                                                registered_model.version))"
   ]
  },
  {
   "cell_type": "markdown",
   "metadata": {},
   "source": [
    "### Create the Scoring Script\n",
    "\n",
    "Azure Machine Learning SDK gives you control over the logic of the web service, so that you can define how it retrieves the model and how the model is used for scoring. This is an important bit of flexibility. For example, you often have to prepare any input data before sending it to your model for scoring. You can define this data preparation logic (as well as the model loading approach) in the scoring file. \n",
    "\n",
    "Run the following cell to create a scoring file that will be included in the Docker Image that contains your deployed web service."
   ]
  },
  {
   "cell_type": "code",
   "execution_count": null,
   "metadata": {},
   "outputs": [],
   "source": [
    "%%writefile scoring_service.py\n",
    "import sys\n",
    "import os\n",
    "import json\n",
    "import numpy as np\n",
    "import pandas as pd\n",
    "from azureml.core.model import Model\n",
    "import onnxruntime\n",
    "\n",
    "def init():\n",
    "    global model\n",
    "    \n",
    "    try:\n",
    "        model_path = Model.get_model_path('component_compliance')\n",
    "        model_file_path = os.path.join(model_path,'component_compliance.onnx')\n",
    "        print('Loading model from: ', model_file_path)\n",
    "        \n",
    "        # Load the ONNX model\n",
    "        model = onnxruntime.InferenceSession(model_file_path)\n",
    "        print('Model loaded...')\n",
    "    except Exception as e:\n",
    "        print(e)\n",
    "        \n",
    "# note you can pass in multiple rows for scoring\n",
    "def run(raw_data):\n",
    "    try:\n",
    "        print(\"Received input: \", raw_data)\n",
    "        \n",
    "        input_data = np.array(json.loads(raw_data)).astype(np.float32)\n",
    "        \n",
    "        # Run an ONNX session to classify the input.\n",
    "        result = model.run(None, {model.get_inputs()[0].name:input_data})[0]\n",
    "        result = result[0][0].item()\n",
    "        \n",
    "        # return just the classification index (0 or 1)\n",
    "        return result\n",
    "    except Exception as e:\n",
    "        error = str(e)\n",
    "        return error"
   ]
  },
  {
   "cell_type": "markdown",
   "metadata": {},
   "source": [
    "## Package Model\n",
    "\n",
    "Run the next cell to create the deployment **Image**"
   ]
  },
  {
   "cell_type": "code",
   "execution_count": null,
   "metadata": {},
   "outputs": [],
   "source": [
    "# create a Conda dependencies environment file\n",
    "print(\"Creating conda dependencies file locally...\")\n",
    "from azureml.core.conda_dependencies import CondaDependencies \n",
    "\n",
    "conda_packages=['numpy','pandas']\n",
    "pip_packages=['azureml-sdk','onnxruntime']\n",
    "mycondaenv = CondaDependencies.create(conda_packages=conda_packages, pip_packages=pip_packages)\n",
    "\n",
    "conda_file = 'dependencies.yml'\n",
    "with open(conda_file, 'w') as f:\n",
    "    f.write(mycondaenv.serialize_to_string())\n",
    "\n",
    "runtime = 'python'\n",
    "\n",
    "# create container image configuration\n",
    "print(\"Creating container image configuration...\")\n",
    "from azureml.core.image import ContainerImage\n",
    "image_config = ContainerImage.image_configuration(execution_script = 'scoring_service.py', \n",
    "                                                  runtime = runtime,\n",
    "                                                  conda_file = conda_file\n",
    "                                                 )\n",
    "\n",
    "# create the image\n",
    "image_name = 'component-compliance-image'\n",
    "\n",
    "from azureml.core import Image\n",
    "image = Image.create(name=image_name, models=[registered_model], image_config=image_config, workspace=ws)\n",
    "\n",
    "# wait for image creation to finish\n",
    "image.wait_for_creation(show_output=True)"
   ]
  },
  {
   "cell_type": "markdown",
   "metadata": {},
   "source": [
    "## Deploy Model to Azure Container Instance (ACI) as a Web Service\n"
   ]
  },
  {
   "cell_type": "markdown",
   "metadata": {},
   "source": [
    "Next, deploy the model as a web service. Run the next cell to perform the deployment."
   ]
  },
  {
   "cell_type": "code",
   "execution_count": null,
   "metadata": {},
   "outputs": [],
   "source": [
    "from azureml.core.webservice import Webservice, AciWebservice\n",
    "\n",
    "webservice_name = 'complianceservice-srv'\n",
    "webservice = None\n",
    "for service in Webservice.list(ws):\n",
    "    if (service.name == webservice_name):\n",
    "        webservice = service\n",
    "        print('Found existing webservice!')\n",
    "        \n",
    "if webservice == None:\n",
    "    print('Starting new deployment...')\n",
    "    aci_config = AciWebservice.deploy_configuration(\n",
    "        cpu_cores = 1, \n",
    "        memory_gb = 1, \n",
    "        tags = {'name':'scoring'}, \n",
    "        description = 'Compliance classification web service.')\n",
    "\n",
    "    webservice = Webservice.deploy_from_image(deployment_config=aci_config, \n",
    "                                               image=image, \n",
    "                                               name=webservice_name, \n",
    "                                               workspace=ws)\n",
    "    webservice.wait_for_deployment(show_output=True)\n",
    "\n",
    "print(webservice.name, webservice)"
   ]
  },
  {
   "cell_type": "markdown",
   "metadata": {},
   "source": [
    "Test your deployed web service."
   ]
  },
  {
   "cell_type": "code",
   "execution_count": null,
   "metadata": {},
   "outputs": [],
   "source": [
    "# choose a sample from the test data set to send\n",
    "test_sample = np.reshape(x_test.astype(np.float32)[1502], (1,100))\n",
    "test_sample_json = json.dumps(test_sample.tolist())\n",
    "\n",
    "# invoke the web service\n",
    "result = webservice.run(input_data=test_sample_json)\n",
    "\n",
    "result"
   ]
  },
  {
   "cell_type": "markdown",
   "metadata": {},
   "source": [
    "### Challenge Task: Consume the Deployed Web Service\n",
    "\n",
    "Complete the code below to consume the deployed webservice over HTTP\n",
    "\n",
    "*A complete solution can be found in the accompanying notebook: solution-onnx-AML.ipynb*"
   ]
  },
  {
   "cell_type": "code",
   "execution_count": null,
   "metadata": {},
   "outputs": [],
   "source": [
    "import requests\n",
    "\n",
    "# Insert your code here (one line)\n",
    "url = ...\n",
    "print('Scoring URI is: {}'.format(url))\n",
    "headers = {'Content-Type':'application/json'}\n",
    "\n",
    "# Insert your code here (one line)\n",
    "response = ...\n",
    "print('Predictions')\n",
    "print(response.text)"
   ]
  },
  {
   "cell_type": "markdown",
   "metadata": {},
   "source": [
    "You now have a working web service deployed that uses the ONNX version of your Keras deep learning model."
   ]
  }
 ],
 "metadata": {
  "kernelspec": {
   "display_name": "Python 3.6 - AzureML",
   "language": "python",
   "name": "python3-azureml"
  },
  "language_info": {
   "codemirror_mode": {
    "name": "ipython",
    "version": 3
   },
   "file_extension": ".py",
   "mimetype": "text/x-python",
   "name": "python",
   "nbconvert_exporter": "python",
   "pygments_lexer": "ipython3",
   "version": "3.6.9"
  },
  "name": "Deep Learning",
  "notebookId": 2340934485665719
 },
 "nbformat": 4,
 "nbformat_minor": 1
}
