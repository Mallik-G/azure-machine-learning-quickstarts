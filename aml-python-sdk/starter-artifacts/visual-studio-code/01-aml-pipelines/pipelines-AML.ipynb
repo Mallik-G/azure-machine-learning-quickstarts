{
 "cells": [
  {
   "cell_type": "markdown",
   "metadata": {},
   "source": [
    "# Azure Machine Learning Pipelines\n",
    "\n",
    "The goal of this quickstart is to build a pipeline that demonstrate the basic data science workflow of data preparation, model training, and predictions. Azure Machine Learning, allows you to define distinct steps and make it possible to rerun only the steps you need as you tweak and test your workflow.\n",
    "\n",
    "In this quickstart, we will be using a subset of NYC Taxi & Limousine Commission - green taxi trip records available from [Azure Open Datasets](https://azure.microsoft.com/en-us/services/open-datasets/). The data is enriched with holiday and weather data. The goal is to train a regression model to predict taxi fares in New York City based on input features such as, number of passengers, trip distance, datetime, holiday information and weather information.\n",
    "\n",
    "The machine learning pipeline in this quickstart is organized into three steps:\n",
    "\n",
    "- **Preprocess Training and Input Data:** We want to preprocess the data to better represent the datetime features, such as hours of the day, and day of the week to capture the cyclical nature of these features.\n",
    "\n",
    "- **Model Training:** We will use data transformations and the GradientBoostingRegressor algorithm from the scikit-learn library to train a regression model. The trained model will be saved for later making predictions.\n",
    "\n",
    "- **Model Inference:** In this scenario, we want to support **bulk predictions**. Each time an input file is uploaded to a data store, we want to initiate bulk model predictions on the input data. However, before we do model predictions, we will reuse the preprocess data step to process input data, and then make predictions on the processed data using the trained model.\n",
    "\n",
    "Each of these pipelines is going to have implicit data dependencies and the example will demonstrate how AML make it possible to reuse previously completed steps and run only the modified or new steps in your pipeline.\n",
    "\n",
    "**The pipelines will be run on the Azure Machine Learning compute.**"
   ]
  },
  {
   "cell_type": "markdown",
   "metadata": {},
   "source": [
    "### Azure Machine Learning and Pipeline SDK-specific Imports"
   ]
  },
  {
   "cell_type": "code",
   "execution_count": null,
   "metadata": {},
   "outputs": [],
   "source": [
    "import numpy as np\n",
    "import pandas as pd\n",
    "import azureml.core\n",
    "from azureml.core import Workspace, Experiment, Datastore\n",
    "from azureml.data.azure_storage_datastore import AzureBlobDatastore\n",
    "from azureml.core.compute import AmlCompute\n",
    "from azureml.core.compute import ComputeTarget\n",
    "from azureml.widgets import RunDetails\n",
    "\n",
    "# Check core SDK version number\n",
    "print(\"SDK version:\", azureml.core.VERSION)\n",
    "\n",
    "from azureml.data.data_reference import DataReference\n",
    "from azureml.pipeline.core import Pipeline, PipelineData\n",
    "from azureml.pipeline.steps import PythonScriptStep\n",
    "print(\"Pipeline SDK-specific imports completed\")"
   ]
  },
  {
   "cell_type": "markdown",
   "metadata": {},
   "source": [
    "### Setup\n",
    "To begin, you will need to provide the following information about your Azure Subscription.\n",
    "\n",
    "**If you are using your own Azure subscription, please provide names for subscription_id, resource_group, workspace_name and workspace_region to use.** Note that the workspace needs to be of type [Machine Learning Workspace](https://docs.microsoft.com/en-us/azure/machine-learning/service/setup-create-workspace).\n",
    "\n",
    "**If an environment is provided to you be sure to replace XXXXX in the values below with your unique identifier.**\n",
    "\n",
    "In the following cell, be sure to set the values for `subscription_id`, `resource_group`, `workspace_name` and `workspace_region` as directed by the comments (*these values can be acquired from the Azure Portal*).\n",
    "\n",
    "To get these values, do the following:\n",
    "1. Navigate to the Azure Portal and login with the credentials provided.\n",
    "2. From the left hand menu, under Favorites, select `Resource Groups`.\n",
    "3. In the list, select the resource group with the name similar to `XXXXX`.\n",
    "4. From the Overview tab, capture the desired values.\n",
    "\n",
    "Execute the following cell by selecting the `>|Run` button in the command bar above."
   ]
  },
  {
   "cell_type": "code",
   "execution_count": null,
   "metadata": {},
   "outputs": [],
   "source": [
    "#Provide the Subscription ID of your existing Azure subscription\n",
    "subscription_id = \"\" # <- needs to be the subscription with the Quick-Starts resource group\n",
    "\n",
    "#Provide values for the existing Resource Group \n",
    "resource_group = \"Quick-Starts-XXXXX\" # <- replace XXXXX with your unique identifier\n",
    "\n",
    "#Provide the Workspace Name and Azure Region of the Azure Machine Learning Workspace\n",
    "workspace_name = \"quick-starts-ws-XXXXX\" # <- replace XXXXX with your unique identifier\n",
    "workspace_region = \"eastus\" # <- region of your Quick-Starts resource group\n",
    "\n",
    "aml_compute_target = \"aml-compute\"\n",
    "\n",
    "experiment_name = 'quick-starts-pipeline'\n",
    "\n",
    "# project folder for the script files\n",
    "project_folder = 'aml-pipelines-scripts'\n",
    "data_location = 'aml-pipelines-data'\n",
    "test_data_location = 'aml-pipelines-test-data'"
   ]
  },
  {
   "cell_type": "markdown",
   "metadata": {},
   "source": [
    "### Download the training data and code for the pipeline steps\n",
    "\n",
    "Once you download the files, please review the code for the three pipeline steps in the following files: `preprocess.py`, `train.py`, and `inference.py`"
   ]
  },
  {
   "cell_type": "code",
   "execution_count": null,
   "metadata": {},
   "outputs": [],
   "source": [
    "import urllib.request\n",
    "import os\n",
    "\n",
    "data_url = ('https://quickstartsws9073123377.blob.core.windows.net/'\n",
    "            'azureml-blobstore-0d1c4218-a5f9-418b-bf55-902b65277b85/'\n",
    "            'quickstarts/nyc-taxi-data/nyc-taxi-sample-data.csv')\n",
    "\n",
    "preprocess_script = ('https://quickstartsws9073123377.blob.core.windows.net/'\n",
    "                     'azureml-blobstore-0d1c4218-a5f9-418b-bf55-902b65277b85/'\n",
    "                     'quickstarts/pipeline-scripts/preprocess.py')\n",
    "                     \n",
    "train_script = ('https://quickstartsws9073123377.blob.core.windows.net/'\n",
    "                'azureml-blobstore-0d1c4218-a5f9-418b-bf55-902b65277b85/'\n",
    "                'quickstarts/pipeline-scripts/train.py')\n",
    "                \n",
    "inference_script = ('https://quickstartsws9073123377.blob.core.windows.net/'\n",
    "                    'azureml-blobstore-0d1c4218-a5f9-418b-bf55-902b65277b85/'\n",
    "                    'quickstarts/pipeline-scripts/inference.py')\n",
    "\n",
    "\n",
    "# Download the raw training data to your local disk\n",
    "os.makedirs(data_location, exist_ok=True)\n",
    "urllib.request.urlretrieve(data_url, os.path.join(data_location, 'nyc-taxi-sample-data.csv'))\n",
    "\n",
    "# Download the script files to your local disk\n",
    "os.makedirs(project_folder, exist_ok=True)\n",
    "urllib.request.urlretrieve(preprocess_script, os.path.join(project_folder, 'preprocess.py'))\n",
    "urllib.request.urlretrieve(train_script, os.path.join(project_folder, 'train.py'))\n",
    "urllib.request.urlretrieve(inference_script, os.path.join(project_folder, 'inference.py'))"
   ]
  },
  {
   "cell_type": "markdown",
   "metadata": {},
   "source": [
    "### Create and connect to an Azure Machine Learning Workspace\n",
    "\n",
    "Run the following cell to create a new Azure Machine Learning **Workspace** and save the configuration to disk (next to the Jupyter notebook). \n",
    "\n",
    "**Important Note**: You will be prompted to login in the text that is output below the cell. Be sure to navigate to the URL displayed and enter the code that is provided. Once you have entered the code, return to this notebook and wait for the output to read `Workspace configuration succeeded`."
   ]
  },
  {
   "cell_type": "code",
   "execution_count": null,
   "metadata": {},
   "outputs": [],
   "source": [
    "# By using the exist_ok param, if the worskpace already exists you get a reference to the existing workspace\n",
    "# allowing you to re-run this cell multiple times as desired (which is fairly common in notebooks).\n",
    "ws = Workspace.create(\n",
    "    name = workspace_name,\n",
    "    subscription_id = subscription_id,\n",
    "    resource_group = resource_group, \n",
    "    location = workspace_region,\n",
    "    exist_ok = True)\n",
    "\n",
    "ws.write_config()\n",
    "print('Workspace configuration succeeded')"
   ]
  },
  {
   "cell_type": "markdown",
   "metadata": {},
   "source": [
    "### Create AML Compute Cluster\n",
    "\n",
    "Azure Machine Learning Compute is a service for provisioning and managing clusters of Azure virtual machines for running machine learning workloads. Let's create a new Aml Compute in the current workspace, if it doesn't already exist. We will run all our pipelines on this compute target."
   ]
  },
  {
   "cell_type": "code",
   "execution_count": null,
   "metadata": {},
   "outputs": [],
   "source": [
    "from azureml.core.compute_target import ComputeTargetException\n",
    "\n",
    "try:\n",
    "    aml_compute = AmlCompute(ws, aml_compute_target)\n",
    "    print(\"found existing compute target.\")\n",
    "except ComputeTargetException:\n",
    "    print(\"creating new compute target\")\n",
    "    \n",
    "    provisioning_config = AmlCompute.provisioning_configuration(vm_size = \"STANDARD_D2_V2\",\n",
    "                                                                min_nodes = 1, \n",
    "                                                                max_nodes = 1)    \n",
    "    aml_compute = ComputeTarget.create(ws, aml_compute_target, provisioning_config)\n",
    "    aml_compute.wait_for_completion(show_output=True, min_node_count=None, timeout_in_minutes=20)\n",
    "    \n",
    "print(\"Aml Compute attached\")"
   ]
  },
  {
   "cell_type": "markdown",
   "metadata": {},
   "source": [
    "### Create the Run Configuration"
   ]
  },
  {
   "cell_type": "code",
   "execution_count": null,
   "metadata": {},
   "outputs": [],
   "source": [
    "from azureml.core.runconfig import RunConfiguration\n",
    "from azureml.core.conda_dependencies import CondaDependencies\n",
    "from azureml.core.runconfig import DEFAULT_CPU_IMAGE\n",
    "\n",
    "# Create a new runconfig object\n",
    "run_amlcompute = RunConfiguration()\n",
    "\n",
    "# Use the cpu_cluster you created above. \n",
    "run_amlcompute.target = aml_compute_target\n",
    "\n",
    "# Enable Docker\n",
    "run_amlcompute.environment.docker.enabled = True\n",
    "\n",
    "# Set Docker base image to the default CPU-based image\n",
    "run_amlcompute.environment.docker.base_image = DEFAULT_CPU_IMAGE\n",
    "\n",
    "# Use conda_dependencies.yml to create a conda environment in the Docker image for execution\n",
    "run_amlcompute.environment.python.user_managed_dependencies = False\n",
    "\n",
    "# Specify CondaDependencies obj, add necessary packages\n",
    "run_amlcompute.environment.python.conda_dependencies = CondaDependencies.create(pip_packages=[\n",
    "    'numpy',\n",
    "    'pandas',\n",
    "    'scikit-learn',\n",
    "    'sklearn_pandas'\n",
    "])"
   ]
  },
  {
   "cell_type": "markdown",
   "metadata": {},
   "source": [
    "### The Process Training Data Pipeline Step"
   ]
  },
  {
   "cell_type": "markdown",
   "metadata": {},
   "source": [
    "The process training data step in the pipeline takes raw training data as input. This data can be a data source that lives in one of the accessible data locations, or intermediate data produced by a previous step in the pipeline. In this example we will upload the raw training data in the workspace's default blob store. Run the following two cells at the end of which we will create a **DataReference** object that points to the raw training data *csv* file stored in the default blob store."
   ]
  },
  {
   "cell_type": "code",
   "execution_count": null,
   "metadata": {},
   "outputs": [],
   "source": [
    "# Default datastore (Azure file storage)\n",
    "def_file_store = ws.get_default_datastore() \n",
    "print(\"Default datastore's name: {}\".format(def_file_store.name))\n",
    "def_blob_store = Datastore(ws, \"workspaceblobstore\")\n",
    "print(\"Blobstore's name: {}\".format(def_blob_store.name))"
   ]
  },
  {
   "cell_type": "code",
   "execution_count": null,
   "metadata": {},
   "outputs": [],
   "source": [
    "# Upload the raw training data to the blob storage\n",
    "def_blob_store.upload(src_dir=data_location, \n",
    "                      target_path='nyc-taxi-raw-features', \n",
    "                      overwrite=True, \n",
    "                      show_progress=True)\n",
    "\n",
    "raw_train_data = DataReference(datastore=def_blob_store, \n",
    "                                      data_reference_name=\"nyc_taxi_raw_features\", \n",
    "                                      path_on_datastore=\"nyc-taxi-raw-features/nyc-taxi-sample-data.csv\")\n",
    "print(\"DataReference object created\")"
   ]
  },
  {
   "cell_type": "markdown",
   "metadata": {},
   "source": [
    "### Create the Process Training Data Pipeline Step"
   ]
  },
  {
   "cell_type": "markdown",
   "metadata": {},
   "source": [
    "The intermediate data (or output of a Step) is represented by PipelineData object. PipelineData can be produced by one step and consumed in another step by providing the PipelineData object as an output of one step and the input of one or more steps.\n",
    "\n",
    "The process training data pipeline step takes the raw_train_data DataReference object as input, and it will output an intermediate PipelineData object that holds the processed training data with the new engineered features for datetime components: hour of the day, and day of the week.\n",
    "\n",
    "Review and run the cell below to construct the PipelineData objects and the PythonScriptStep pipeline step:\n",
    "\n",
    "*Open preprocess.py in the local machine and examine the arguments, inputs, and outputs for the script. Note that there is an argument called process_mode to distinguish between processing training data vs test data. Reviewing the Python script file will give you a good sense of why the script argument names used below are important.*"
   ]
  },
  {
   "cell_type": "code",
   "execution_count": null,
   "metadata": {},
   "outputs": [],
   "source": [
    "processed_train_data = PipelineData('processed_train_data', datastore=def_blob_store)\n",
    "print(\"PipelineData object created\")\n",
    "\n",
    "processTrainDataStep = PythonScriptStep(\n",
    "    name=\"process_train_data\",\n",
    "    script_name=\"preprocess.py\", \n",
    "    arguments=[\"--process_mode\", 'train',\n",
    "               \"--input\", raw_train_data,\n",
    "               \"--output\", processed_train_data],\n",
    "    inputs=[raw_train_data],\n",
    "    outputs=[processed_train_data],\n",
    "    compute_target=aml_compute,\n",
    "    runconfig=run_amlcompute,\n",
    "    source_directory=project_folder\n",
    ")\n",
    "print(\"preprocessStep created\")"
   ]
  },
  {
   "cell_type": "markdown",
   "metadata": {},
   "source": [
    "### Create the Train Pipeline Step"
   ]
  },
  {
   "cell_type": "markdown",
   "metadata": {},
   "source": [
    "The train pipeline step takes the *processed_train_data* created in the above step as input and generates another PipelineData object to save the *trained_model* as its output. This is an example of how machine learning pipelines can have many steps and these steps could use or reuse datasources and intermediate data.\n",
    "\n",
    "*Open train.py in the local machine and examine the arguments, inputs, and outputs for the script.*"
   ]
  },
  {
   "cell_type": "markdown",
   "metadata": {},
   "source": [
    "### Challenge Task\n",
    "\n",
    "In the cell below create the train pipeline with the following parameters:\n",
    "\n",
    "1. name: train\n",
    "2. script_name: train.py\n",
    "3. arguments: \"--input\", processed_train_data, \"--output\", trained_model\n",
    "4. inputs\n",
    "5. outputs\n",
    "6. compute_target\n",
    "7. runconfig\n",
    "8. source_directory: project_folder\n",
    "\n",
    "Where it takes the PipelineData: `processed_train_data` as inputs and PipelineData: `trained_model` as outputs\n",
    "\n",
    "*A complete solution can be found in the accompanying notebook: `solution-pipelines-AML.ipynb`*"
   ]
  },
  {
   "cell_type": "code",
   "execution_count": null,
   "metadata": {},
   "outputs": [],
   "source": [
    "trained_model = PipelineData('trained_model', datastore=def_blob_store)\n",
    "print(\"PipelineData object created\")\n",
    "\n",
    "# Insert your code here...\n",
    "trainStep = PythonScriptStep(\n",
    ")\n",
    "\n",
    "print(\"trainStep created\")"
   ]
  },
  {
   "cell_type": "markdown",
   "metadata": {},
   "source": [
    "### Create and Validate the Pipeline\n",
    "\n",
    "Note that the *trainStep* has implicit data dependency with the *processTrainDataStep* and thus you only include the *trainStep* in your Pipeline object. You will observe that when you run the pipeline that it will first run the **processTrainDataStep** followed by the **trainStep**."
   ]
  },
  {
   "cell_type": "code",
   "execution_count": null,
   "metadata": {},
   "outputs": [],
   "source": [
    "pipeline = Pipeline(workspace=ws, steps=[trainStep])\n",
    "print (\"Pipeline is built\")\n",
    "\n",
    "pipeline.validate()\n",
    "print(\"Simple validation complete\")"
   ]
  },
  {
   "cell_type": "markdown",
   "metadata": {},
   "source": [
    "### Submit the Pipeline\n",
    "\n",
    "At this point you can run the pipeline and examine the output it produced."
   ]
  },
  {
   "cell_type": "code",
   "execution_count": null,
   "metadata": {},
   "outputs": [],
   "source": [
    "pipeline_run = Experiment(ws, experiment_name).submit(pipeline)\n",
    "print(\"Pipeline is submitted for execution\")"
   ]
  },
  {
   "cell_type": "markdown",
   "metadata": {},
   "source": [
    "### Monitor the Run Details\n",
    "\n",
    "Observe the order in which the pipeline steps are executed: **processTrainDataStep** followed by the **trainStep**\n",
    "\n",
    "Wait till both steps finish running. The cell below should periodically auto-refresh and you can also rerun the cell to force a refresh."
   ]
  },
  {
   "cell_type": "code",
   "execution_count": null,
   "metadata": {},
   "outputs": [],
   "source": [
    "RunDetails(pipeline_run).show()"
   ]
  },
  {
   "cell_type": "markdown",
   "metadata": {},
   "source": [
    "Note that, if you are using **Visual Studio Code**, the `RunDetails` widget is currently not supported. Uncomment the line below and run the cell to monitor and wait for the pipeline run to complete."
   ]
  },
  {
   "cell_type": "code",
   "execution_count": null,
   "metadata": {},
   "outputs": [],
   "source": [
    "#pipeline_run.wait_for_completion(show_output=True)"
   ]
  },
  {
   "cell_type": "markdown",
   "metadata": {},
   "source": [
    "## Bulk Predictions"
   ]
  },
  {
   "cell_type": "markdown",
   "metadata": {},
   "source": [
    "### Create the Raw Test Data DataReference Object\n",
    "\n",
    "Create the **DataReference** object where the raw bulk test or input data file will be uploaded."
   ]
  },
  {
   "cell_type": "code",
   "execution_count": null,
   "metadata": {},
   "outputs": [],
   "source": [
    "# Upload dummy raw test data to the blob storage\n",
    "os.makedirs(test_data_location, exist_ok=True)\n",
    "pd.DataFrame([[0]], columns = ['col1']).to_csv(os.path.join(test_data_location, 'raw-test-data.csv'), header=True, index=False)\n",
    "\n",
    "def_blob_store.upload(src_dir=test_data_location, \n",
    "                      target_path='bulk-test-data', \n",
    "                      overwrite=True, \n",
    "                      show_progress=True)\n",
    "\n",
    "# Create a DataReference object referencing the 'raw-test-data.csv' file\n",
    "raw_bulk_test_data = DataReference(datastore=def_blob_store, \n",
    "                                      data_reference_name=\"raw_bulk_test_data\", \n",
    "                                      path_on_datastore=\"bulk-test-data/raw-test-data.csv\")\n",
    "print(\"DataReference object created\")"
   ]
  },
  {
   "cell_type": "markdown",
   "metadata": {},
   "source": [
    "### Create the Process Test Data Pipeline Step"
   ]
  },
  {
   "cell_type": "markdown",
   "metadata": {},
   "source": [
    "Similar to the process train data pipeline step, we create a new step for processing the test data. Note that it is the same script file *preprocess.py* that is used to process both the train and test data. Thus, you can centralize all your logic for preprocessing data for both train and test. The key differences here is that the process_mode argument is set to *inference*. \n",
    "\n",
    "*Open preprocess.py in the local machine and examine the arguments, inputs, and outputs for the script. Note that there is an argument called process_mode to distinguish between processing training data vs test data. Reviewing the Python script file will give you a good sense of why the script argument names used below are important.*"
   ]
  },
  {
   "cell_type": "code",
   "execution_count": null,
   "metadata": {},
   "outputs": [],
   "source": [
    "processed_test_data = PipelineData('processed_test_data', datastore=def_blob_store)\n",
    "print(\"PipelineData object created\")\n",
    "\n",
    "processTestDataStep = PythonScriptStep(\n",
    "    name=\"process_test_data\",\n",
    "    script_name=\"preprocess.py\", \n",
    "    arguments=[\"--process_mode\", 'inference',\n",
    "               \"--input\", raw_bulk_test_data,\n",
    "               \"--output\", processed_test_data],\n",
    "    inputs=[raw_bulk_test_data],\n",
    "    outputs=[processed_test_data],\n",
    "    allow_reuse = False,\n",
    "    compute_target=aml_compute,\n",
    "    runconfig=run_amlcompute,\n",
    "    source_directory=project_folder\n",
    ")\n",
    "print(\"preprocessStep created\")"
   ]
  },
  {
   "cell_type": "markdown",
   "metadata": {},
   "source": [
    "### Create the Inference Pipeline Step to Make Predictions"
   ]
  },
  {
   "cell_type": "markdown",
   "metadata": {},
   "source": [
    "The inference pipeline step takes the *processed_test_data* created in the above step and the *trained_model* created in the train step as two inputs and generates *inference_output* as its output. This is yet another example of how machine learning pipelines can have many steps and these steps could use or reuse datasources and intermediate data.\n",
    "\n",
    "*Open inference.py in the local machine and examine the arguments, inputs, and outputs for the script.*"
   ]
  },
  {
   "cell_type": "code",
   "execution_count": null,
   "metadata": {},
   "outputs": [],
   "source": [
    "inference_output = PipelineData('inference_output', datastore=def_blob_store)\n",
    "print(\"PipelineData object created\")\n",
    "\n",
    "inferenceStep = PythonScriptStep(\n",
    "    name=\"inference\",\n",
    "    script_name=\"inference.py\", \n",
    "    arguments=[\"--input\", processed_test_data,\n",
    "               \"--model\", trained_model,\n",
    "               \"--output\", inference_output],\n",
    "    inputs=[processed_test_data, trained_model],\n",
    "    outputs=[inference_output],\n",
    "    compute_target=aml_compute,\n",
    "    runconfig=run_amlcompute,\n",
    "    source_directory=project_folder\n",
    ")\n",
    "print(\"inferenceStep created\")"
   ]
  },
  {
   "cell_type": "markdown",
   "metadata": {},
   "source": [
    "### Create and Validate the Pipeline\n",
    "\n",
    "Note that the *inferenceStep* has implicit data dependency with **ALL** of the previous pipeline steps."
   ]
  },
  {
   "cell_type": "code",
   "execution_count": null,
   "metadata": {},
   "outputs": [],
   "source": [
    "inference_pipeline = Pipeline(workspace=ws, steps=[inferenceStep])\n",
    "print (\"Inference Pipeline is built\")\n",
    "\n",
    "inference_pipeline.validate()\n",
    "print(\"Simple validation complete\")"
   ]
  },
  {
   "cell_type": "markdown",
   "metadata": {},
   "source": [
    "### Publish the Inference Pipeline\n",
    "\n",
    "Note that we are not submitting the pipeline to run, instead we are publishing the pipeline. When you publish a pipeline, it can be submitted to run without the Python code which constructed the Pipeline."
   ]
  },
  {
   "cell_type": "code",
   "execution_count": null,
   "metadata": {},
   "outputs": [],
   "source": [
    "pipeline_name = 'Inference Pipeline'\n",
    "published_pipeline = inference_pipeline.publish(name = pipeline_name)"
   ]
  },
  {
   "cell_type": "markdown",
   "metadata": {},
   "source": [
    "### Schedule the Inference Pipeline\n",
    "\n",
    "We want to run the Inference Pipeline when a new test or input data is uploaded at the location referenced by the `raw_bulk_test_data` DataReference object. The next cell creates a Schedule to monitor the datastore for changes, and is responsible for running the `Inference Pipeline` when it detects a new file being uploaded.\n",
    "\n",
    "**Please disable the Schedule after completing the quickstart. To disable the Schedule, run the `Cleanup Resources` section at the end of the notebook.**"
   ]
  },
  {
   "cell_type": "code",
   "execution_count": null,
   "metadata": {},
   "outputs": [],
   "source": [
    "from azureml.pipeline.core.schedule import Schedule\n",
    "\n",
    "schedule = Schedule.create(workspace=ws, name=pipeline_name + \"_sch\",\n",
    "                           pipeline_id=published_pipeline.id, \n",
    "                           experiment_name=experiment_name,\n",
    "                           datastore=def_blob_store,\n",
    "                           wait_for_provisioning=True,\n",
    "                           description=\"Datastore scheduler for Pipeline: \" + pipeline_name,\n",
    "                           path_on_datastore='bulk-test-data',\n",
    "                           polling_interval=1 # in minutes\n",
    "                           )\n",
    "\n",
    "print(\"Created schedule with id: {}\".format(schedule.id))"
   ]
  },
  {
   "cell_type": "code",
   "execution_count": null,
   "metadata": {},
   "outputs": [],
   "source": [
    "# Check the status of the Schedule and confirm it's Active\n",
    "print('Schedule status: ', schedule.status)"
   ]
  },
  {
   "cell_type": "markdown",
   "metadata": {},
   "source": [
    "### Test the Inference Pipeline\n",
    "\n",
    "Create some test data to make bulk predictions. Upload the test data to the `bulk-test-data` blob store. "
   ]
  },
  {
   "cell_type": "code",
   "execution_count": null,
   "metadata": {},
   "outputs": [],
   "source": [
    "# Download the raw training data to your local disk\n",
    "columns = ['vendorID', 'passengerCount', 'tripDistance', 'hour_of_day', 'day_of_week', 'day_of_month', \n",
    "           'month_num', 'normalizeHolidayName', 'isPaidTimeOff', 'snowDepth', 'precipTime', \n",
    "           'precipDepth', 'temperature']\n",
    "\n",
    "data = [[1, 4, 10, 15, 4, 5, 7, 'None', False, 0, 0.0, 0.0, 80], \n",
    "        [1, 1, 5, 6, 0, 20, 1, 'Martin Luther King, Jr. Day', True, 0, 2.0, 3.0, 35]]\n",
    "\n",
    "data_df = pd.DataFrame(data, columns = columns)\n",
    "\n",
    "os.makedirs(test_data_location, exist_ok=True)\n",
    "data_df.to_csv(os.path.join(test_data_location, 'raw-test-data.csv'), header=True, index=False)\n",
    "\n",
    "from datetime import datetime\n",
    "data_upload_time = datetime.utcnow()\n",
    "print('Data upload time in UTC: ', data_upload_time)\n",
    "\n",
    "# Upload the raw test data to the blob storage\n",
    "def_blob_store.upload(src_dir=test_data_location, \n",
    "                      target_path='bulk-test-data', \n",
    "                      overwrite=True, \n",
    "                      show_progress=True)\n",
    "\n",
    "# Wait for 65 seconds...\n",
    "import time\n",
    "print('Please wait...')\n",
    "time.sleep(65)\n",
    "print('Done!')"
   ]
  },
  {
   "cell_type": "markdown",
   "metadata": {},
   "source": [
    "### Wait for Schedule to Trigger\n",
    "\n",
    "Schedule's polling interval is 1 minute. You can also log into Azure Portal and navigate to your `resource group -> workspace -> experiment` to see if the `Inference Pipeline` has started executing.\n",
    "\n",
    "**If the inference_pipeline_run object in the below cell is None, it means that the Schedule has not triggered yet!**\n",
    "\n",
    "**If the Schedule does not trigger in 2 minutes, try rerunning the data upload cell again!**"
   ]
  },
  {
   "cell_type": "code",
   "execution_count": null,
   "metadata": {},
   "outputs": [],
   "source": [
    "# Confirm that the inference_pipeline_run object is NOT None\n",
    "inference_pipeline_run = schedule.get_last_pipeline_run()\n",
    "print(inference_pipeline_run)"
   ]
  },
  {
   "cell_type": "markdown",
   "metadata": {},
   "source": [
    "*If upload the test data file more than once, confirm that we have the latest pipeline run object. We will compare the pipeline start time with the time you uploaded the test data file.*"
   ]
  },
  {
   "cell_type": "code",
   "execution_count": null,
   "metadata": {},
   "outputs": [],
   "source": [
    "# confirm the start time\n",
    "import dateutil.parser\n",
    "\n",
    "if inference_pipeline_run.get_details()['status'] != 'NotStarted':\n",
    "    pipeline_starttime = dateutil.parser.parse(inference_pipeline_run.get_details()['startTimeUtc'], ignoretz=True)\n",
    "else:\n",
    "    pipeline_starttime = datetime.utcnow()\n",
    "\n",
    "if(pipeline_starttime > data_upload_time):\n",
    "    print('We have the correct inference pipeline run! Proceed to next cell.')\n",
    "else:\n",
    "    print('Rerun the above cell to get the latest inference pipeline run!')"
   ]
  },
  {
   "cell_type": "markdown",
   "metadata": {},
   "source": [
    "### Monitor the Run Details\n",
    "\n",
    "Observe the order in which the pipeline steps are executed based on their implicit data dependencies.\n",
    "\n",
    "Wait till all steps finish running. The cell below should periodically auto-refresh and you can also rerun the cell to force a refresh.\n",
    "\n",
    "**This example demonstrates how AML make it possible to reuse previously completed steps and run only the modified or new steps in your pipeline.**"
   ]
  },
  {
   "cell_type": "code",
   "execution_count": null,
   "metadata": {},
   "outputs": [],
   "source": [
    "RunDetails(inference_pipeline_run).show()"
   ]
  },
  {
   "cell_type": "markdown",
   "metadata": {},
   "source": [
    "Note that, if you are using **Visual Studio Code**, the `RunDetails` widget is currently not supported. Uncomment the line below and run the cell to monitor and wait for the pipeline run to complete."
   ]
  },
  {
   "cell_type": "code",
   "execution_count": 2,
   "metadata": {},
   "outputs": [],
   "source": [
    "#inference_pipeline_run.wait_for_completion(show_output=True)"
   ]
  },
  {
   "cell_type": "markdown",
   "metadata": {},
   "source": [
    "### Download and Observe the Predictions"
   ]
  },
  {
   "cell_type": "code",
   "execution_count": null,
   "metadata": {},
   "outputs": [],
   "source": [
    "# access the inference_output\n",
    "data = inference_pipeline_run.find_step_run('inference')[0].get_output_data('inference_output')\n",
    "# download the predictions to local path\n",
    "data.download('.', show_progress=True)\n",
    "# print the predictions\n",
    "predictions = np.loadtxt(os.path.join('./', data.path_on_datastore, 'results.txt'))\n",
    "print(predictions)"
   ]
  },
  {
   "cell_type": "markdown",
   "metadata": {},
   "source": [
    "### Cleanup Resources\n",
    "\n",
    "If you are done experimenting with this quickstart, run the following two cell to clean up resources."
   ]
  },
  {
   "cell_type": "code",
   "execution_count": null,
   "metadata": {},
   "outputs": [],
   "source": [
    "schedule.disable()"
   ]
  },
  {
   "cell_type": "code",
   "execution_count": null,
   "metadata": {},
   "outputs": [],
   "source": [
    "aml_compute.delete()"
   ]
  },
  {
   "cell_type": "code",
   "execution_count": null,
   "metadata": {},
   "outputs": [],
   "source": []
  }
 ],
 "metadata": {
  "kernelspec": {
   "display_name": "Python 3.6 - AzureML",
   "language": "python",
   "name": "python3-azureml"
  },
  "language_info": {
   "codemirror_mode": {
    "name": "ipython",
    "version": 3
   },
   "file_extension": ".py",
   "mimetype": "text/x-python",
   "name": "python",
   "nbconvert_exporter": "python",
   "pygments_lexer": "ipython3",
   "version": "3.6.9"
  }
 },
 "nbformat": 4,
 "nbformat_minor": 2
}
