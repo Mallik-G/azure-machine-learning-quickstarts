{
 "cells": [
  {
   "cell_type": "markdown",
   "metadata": {},
   "source": [
    "# Automated Machine Learning with Azure Machine Learning\n",
    "\n",
    "**Please complete Part 1 before continuing**\n",
    "\n",
    "In this part, you will test, register, and deploy the model you trained in the first part using the Azure ML Python SDK."
   ]
  },
  {
   "cell_type": "code",
   "execution_count": null,
   "metadata": {},
   "outputs": [],
   "source": [
    "import os\n",
    "import numpy as np\n",
    "import pandas as pd\n",
    "import logging\n",
    "\n",
    "from azureml.core import Workspace, Experiment, Run\n",
    "from azureml.train.automl import AutoMLConfig\n",
    "from azureml.train.automl.run import AutoMLRun\n",
    "from azureml.core.model import Model"
   ]
  },
  {
   "cell_type": "markdown",
   "metadata": {},
   "source": [
    "## Setup\n",
    "To begin, you will need to provide the following information about your Azure Subscription. \n",
    "\n",
    "In the following cell, be sure to set the values for `subscription_id`, `resource_group`, `workspace_name`, `workspace_region`, and `experiment_name` as directed by the comments (*these values can be acquired from the Azure Portal*). Note that values need to be consistent with those used in part 1.\n",
    "\n",
    "**Be sure to replace XXXXX in the values below with your unique identifier.**\n",
    "\n",
    "To get these values, do the following:\n",
    "1. Navigate to the Azure Portal and login with the credentials provided.\n",
    "2. From the left hand menu, under Favorites, select `Resource Groups`.\n",
    "3. In the list, select the resource group with the name similar to `XXXXX`.\n",
    "4. From the Overview tab, capture the desired values."
   ]
  },
  {
   "cell_type": "code",
   "execution_count": null,
   "metadata": {},
   "outputs": [],
   "source": [
    "#Provide the Subscription ID of your existing Azure subscription\n",
    "subscription_id = \"xxx-xxx-xxx\"\n",
    "\n",
    "#Provide values for the existing Resource Group \n",
    "resource_group = \"Quick-Starts-Labs\"\n",
    "\n",
    "#Provide the Workspace Name and Azure Region of the Azure Machine Learning Workspace\n",
    "workspace_name = \"auto-ml-demo\"\n",
    "workspace_region = \"eastus\"\n",
    "\n",
    "experiment_name = \"auto-ml-exp\"\n",
    "\n",
    "scripts_folder = './automl_scripts'\n",
    "automl_scoring_service_name = 'automl_scoring_service.py'"
   ]
  },
  {
   "cell_type": "markdown",
   "metadata": {},
   "source": [
    "### Connect to the Azure Machine Learning Workspace\n",
    "\n",
    "Run the following cell to connect the Azure Machine Learning **Workspace** created in part 1.\n",
    "\n",
    "**Important Note**: You will be prompted to login in the text that is output below the cell. Be sure to navigate to the URL displayed and enter the code that is provided. Once you have entered the code, return to this notebook and wait for the output to read `Workspace configuration succeeded`."
   ]
  },
  {
   "cell_type": "code",
   "execution_count": null,
   "metadata": {},
   "outputs": [],
   "source": [
    "ws = Workspace.get(\n",
    "    name = workspace_name,\n",
    "    subscription_id = subscription_id,\n",
    "    resource_group = resource_group)"
   ]
  },
  {
   "cell_type": "markdown",
   "metadata": {},
   "source": [
    "### Get the Fitted Model from the AutoML Run Object\n",
    "\n",
    "Run the following cell to access the best model from the AutoML experiment completed in part 1"
   ]
  },
  {
   "cell_type": "code",
   "execution_count": null,
   "metadata": {},
   "outputs": [],
   "source": [
    "experiment = Experiment(ws, experiment_name)\n",
    "automl_run = AutoMLRun(experiment, list(experiment.get_runs())[0].id)\n",
    "best_run, fitted_model = automl_run.get_output()\n",
    "print(fitted_model)"
   ]
  },
  {
   "cell_type": "markdown",
   "metadata": {},
   "source": [
    "## Test Model\n",
    "\n",
    "Generate test data and run prediction on the model."
   ]
  },
  {
   "cell_type": "code",
   "execution_count": null,
   "metadata": {},
   "outputs": [],
   "source": [
    "columns = ['vendorID', 'passengerCount', 'tripDistance', 'hour_of_day', 'day_of_week', 'day_of_month', \n",
    "           'month_num', 'normalizeHolidayName', 'isPaidTimeOff', 'snowDepth', 'precipTime', \n",
    "           'precipDepth', 'temperature']\n",
    "test_data = [[1, 3, 10, 15, 4, 27, 7, 'None', False, 0, 2.0, 1.0, 80], \n",
    "        [1, 2, 5, 9, 4, 27, 5, 'Memorial Day', True, 0, 0.0, 0.0, 65]]\n",
    "test_data_df = pd.DataFrame(data, columns = columns)"
   ]
  },
  {
   "cell_type": "code",
   "execution_count": null,
   "metadata": {},
   "outputs": [],
   "source": [
    "fitted_model.predict(test_data_df)"
   ]
  },
  {
   "cell_type": "markdown",
   "metadata": {},
   "source": [
    "## Register Model"
   ]
  },
  {
   "cell_type": "code",
   "execution_count": null,
   "metadata": {},
   "outputs": [],
   "source": [
    "registered_model = automl_run.register_model(description=\"This model was trained using automl.\", \n",
    "                                             tags={\"type\": \"regression\", \"run_id\": automl_run.id})\n",
    "print('Registered model name: ', registered_model.name)"
   ]
  },
  {
   "cell_type": "markdown",
   "metadata": {},
   "source": [
    "## Deploy Model"
   ]
  },
  {
   "cell_type": "markdown",
   "metadata": {},
   "source": [
    "### Create the Scoring Script\n",
    "\n",
    "Run the next two cells to create the scoring script on local disk"
   ]
  },
  {
   "cell_type": "code",
   "execution_count": null,
   "metadata": {},
   "outputs": [],
   "source": [
    "# Create the scripts folder locally\n",
    "if not os.path.exists(scripts_folder):\n",
    "    os.makedirs(scripts_folder)"
   ]
  },
  {
   "cell_type": "markdown",
   "metadata": {},
   "source": [
    "**Important** Please update the `model_name` variable in the script below. The model name should be the same as the `Registered model name` printed above."
   ]
  },
  {
   "cell_type": "code",
   "execution_count": null,
   "metadata": {},
   "outputs": [],
   "source": [
    "%%writefile $scripts_folder/$automl_scoring_service_name\n",
    "\n",
    "import json\n",
    "import numpy as np\n",
    "import pandas as pd\n",
    "import azureml.train.automl as AutoML\n",
    "\n",
    "columns = ['vendorID', 'passengerCount', 'tripDistance', 'hour_of_day', 'day_of_week', 'day_of_month', \n",
    "           'month_num', 'normalizeHolidayName', 'isPaidTimeOff', 'snowDepth', 'precipTime', \n",
    "           'precipDepth', 'temperature']\n",
    "\n",
    "def init():\n",
    "    try:\n",
    "        # One-time initialization of predictive model and scaler\n",
    "        from azureml.core.model import Model\n",
    "        from sklearn.externals import joblib\n",
    "        global model\n",
    "        \n",
    "        model_name = 'xxx'\n",
    "        print('Looking for model path for model: ', model_name)\n",
    "        model_path = Model.get_model_path(model_name=model_name)\n",
    "        print('Looking for model in: ', model_path)\n",
    "        model = joblib.load(model_path)\n",
    "        print('Model loaded...')\n",
    "\n",
    "    except Exception as e:\n",
    "        print('Exception during init: ', str(e))\n",
    "\n",
    "def run(input_json):     \n",
    "    try:\n",
    "        inputs = json.loads(input_json)\n",
    "        data_df = pd.DataFrame(np.array(inputs).reshape(-1, len(columns)), columns = columns)\n",
    "        # Get the predictions...\n",
    "        prediction = model.predict(data_df).tolist()\n",
    "        prediction = json.dumps(prediction)\n",
    "    except Exception as e:\n",
    "        prediction = str(e)\n",
    "    return prediction"
   ]
  },
  {
   "cell_type": "markdown",
   "metadata": {},
   "source": [
    "### Package Model"
   ]
  },
  {
   "cell_type": "code",
   "execution_count": null,
   "metadata": {},
   "outputs": [],
   "source": [
    "# create a Conda dependencies environment file\n",
    "print(\"Creating conda dependencies file locally...\")\n",
    "from azureml.core.conda_dependencies import CondaDependencies \n",
    "conda_packages = ['numpy', 'pandas', 'scikit-learn']\n",
    "pip_packages = ['azureml-sdk[automl]']\n",
    "mycondaenv = CondaDependencies.create(conda_packages=conda_packages, pip_packages=pip_packages)\n",
    "\n",
    "os.chdir(scripts_folder)\n",
    "\n",
    "conda_file = 'automl_dependencies.yml'\n",
    "with open(conda_file, 'w') as f:\n",
    "    f.write(mycondaenv.serialize_to_string())\n",
    "\n",
    "runtime = 'python'\n",
    "\n",
    "# create container image configuration\n",
    "print(\"Creating container image configuration...\")\n",
    "from azureml.core.image import ContainerImage\n",
    "image_config = ContainerImage.image_configuration(execution_script = automl_scoring_service_name, \n",
    "                                                  runtime = runtime, conda_file = conda_file)\n",
    "\n",
    "# create the image\n",
    "image_name = 'nyc-taxi-automl-image'\n",
    "\n",
    "from azureml.core import Image\n",
    "image = Image.create(name=image_name, models=[registered_model], image_config=image_config, workspace=ws)\n",
    "\n",
    "# wait for image creation to finish\n",
    "image.wait_for_creation(show_output=True)\n",
    "\n",
    "os.chdir(\"..\")"
   ]
  },
  {
   "cell_type": "markdown",
   "metadata": {},
   "source": [
    "### Deploy Azure Container Instance (ACI) Webservice"
   ]
  },
  {
   "cell_type": "code",
   "execution_count": null,
   "metadata": {},
   "outputs": [],
   "source": [
    "from azureml.core.webservice import AciWebservice, Webservice\n",
    "\n",
    "aci_name = 'automl-aci-cluster01'\n",
    "\n",
    "aci_config = AciWebservice.deploy_configuration(\n",
    "    cpu_cores = 1, \n",
    "    memory_gb = 1, \n",
    "    tags = {'name': aci_name}, \n",
    "    description = 'NYC Taxi Fare Predictor Web Service')\n",
    "\n",
    "service_name = 'nyc-taxi-automl-service'\n",
    "\n",
    "aci_service = Webservice.deploy_from_image(deployment_config=aci_config, \n",
    "                                           image=image, \n",
    "                                           name=service_name, \n",
    "                                           workspace=ws)\n",
    "\n",
    "aci_service.wait_for_deployment(show_output=True)"
   ]
  },
  {
   "cell_type": "markdown",
   "metadata": {},
   "source": [
    "## Test Deployment"
   ]
  },
  {
   "cell_type": "markdown",
   "metadata": {},
   "source": [
    "### Make direct calls on the service object"
   ]
  },
  {
   "cell_type": "code",
   "execution_count": null,
   "metadata": {},
   "outputs": [],
   "source": [
    "import json\n",
    "\n",
    "data1 = [1, 2, 5, 9, 4, 27, 5, 'Memorial Day', True, 0, 0.0, 0.0, 65]\n",
    "\n",
    "data2 = [[1, 3, 10, 15, 4, 27, 7, 'None', False, 0, 2.0, 1.0, 80], \n",
    "         [1, 2, 5, 9, 4, 27, 5, 'Memorial Day', True, 0, 0.0, 0.0, 65]]\n",
    "\n",
    "result = aci_service.run(json.dumps(data1))\n",
    "print('Predictions for data1')\n",
    "print(result)\n",
    "\n",
    "result = aci_service.run(json.dumps(data2))\n",
    "print('Predictions for data2')\n",
    "print(result)"
   ]
  },
  {
   "cell_type": "markdown",
   "metadata": {},
   "source": [
    "### Make HTTP calls to test the Webservice"
   ]
  },
  {
   "cell_type": "code",
   "execution_count": null,
   "metadata": {},
   "outputs": [],
   "source": [
    "import requests\n",
    "\n",
    "url = aci_service.scoring_uri\n",
    "print('ACI Service: {} scoring URI is: {}'.format(service_name, url))\n",
    "headers = {'Content-Type':'application/json'}\n",
    "\n",
    "response = requests.post(url, json.dumps(data1), headers=headers)\n",
    "print('Predictions for data1')\n",
    "print(response.text)\n",
    "response = requests.post(url, json.dumps(data2), headers=headers)\n",
    "print('Predictions for data2')\n",
    "print(response.text)"
   ]
  },
  {
   "cell_type": "code",
   "execution_count": null,
   "metadata": {},
   "outputs": [],
   "source": []
  }
 ],
 "metadata": {
  "kernelspec": {
   "display_name": "Python (azure_automl)",
   "language": "python",
   "name": "azure_automl"
  },
  "language_info": {
   "codemirror_mode": {
    "name": "ipython",
    "version": 3
   },
   "file_extension": ".py",
   "mimetype": "text/x-python",
   "name": "python",
   "nbconvert_exporter": "python",
   "pygments_lexer": "ipython3",
   "version": "3.6.8"
  }
 },
 "nbformat": 4,
 "nbformat_minor": 2
}
